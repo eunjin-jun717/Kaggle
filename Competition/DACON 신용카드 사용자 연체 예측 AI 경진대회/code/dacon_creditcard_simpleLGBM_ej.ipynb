{
  "nbformat": 4,
  "nbformat_minor": 5,
  "metadata": {
    "kernelspec": {
      "display_name": "Python 3",
      "language": "python",
      "name": "python3"
    },
    "language_info": {
      "codemirror_mode": {
        "name": "ipython",
        "version": 3
      },
      "file_extension": ".py",
      "mimetype": "text/x-python",
      "name": "python",
      "nbconvert_exporter": "python",
      "pygments_lexer": "ipython3",
      "version": "3.8.8"
    },
    "colab": {
      "name": "dacon_creditcard_simpleLGBM_ej.ipynb",
      "provenance": []
    }
  },
  "cells": [
    {
      "cell_type": "code",
      "metadata": {
        "colab": {
          "base_uri": "https://localhost:8080/"
        },
        "id": "iewTjnnwuvwp",
        "outputId": "65e82030-4370-4614-f11b-7724f4a6c124"
      },
      "source": [
        "from google.colab import drive\n",
        "drive.mount('/content/drive')"
      ],
      "id": "iewTjnnwuvwp",
      "execution_count": null,
      "outputs": [
        {
          "output_type": "stream",
          "text": [
            "Mounted at /content/drive\n"
          ],
          "name": "stdout"
        }
      ]
    },
    {
      "cell_type": "code",
      "metadata": {
        "id": "7677016c"
      },
      "source": [
        "import warnings\n",
        "warnings.filterwarnings('ignore')\n",
        "import glob\n",
        "import pandas as pd\n",
        "import numpy as np\n",
        "from lightgbm import LGBMClassifier\n",
        "from sklearn.model_selection import StratifiedKFold\n",
        "from sklearn.preprocessing import OneHotEncoder\n",
        "import random"
      ],
      "id": "7677016c",
      "execution_count": null,
      "outputs": []
    },
    {
      "cell_type": "code",
      "metadata": {
        "id": "bb0ab2f1"
      },
      "source": [
        "BASE_DIR = '/content/drive/MyDrive/Colab Notebooks/dacon_creditcard/open/'\n",
        "\n",
        "train = pd.read_csv(BASE_DIR+'train.csv')\n",
        "train = train.drop(['index'], axis=1)\n",
        "\n",
        "test = pd.read_csv(BASE_DIR+'test.csv')\n",
        "test = test.drop(['index'], axis=1)\n",
        "\n",
        "submit = pd.read_csv(BASE_DIR+'sample_submission.csv')"
      ],
      "id": "bb0ab2f1",
      "execution_count": null,
      "outputs": []
    },
    {
      "cell_type": "code",
      "metadata": {
        "colab": {
          "base_uri": "https://localhost:8080/"
        },
        "id": "e8XdbSo1vHaN",
        "outputId": "2879cc95-8a7f-4a2c-a6f1-521b5dd29d57"
      },
      "source": [
        "print(train.isnull().sum())\n",
        "print(test.isnull().sum())"
      ],
      "id": "e8XdbSo1vHaN",
      "execution_count": null,
      "outputs": [
        {
          "output_type": "stream",
          "text": [
            "gender              0\n",
            "car                 0\n",
            "reality             0\n",
            "child_num           0\n",
            "income_total        0\n",
            "income_type         0\n",
            "edu_type            0\n",
            "family_type         0\n",
            "house_type          0\n",
            "DAYS_BIRTH          0\n",
            "DAYS_EMPLOYED       0\n",
            "FLAG_MOBIL          0\n",
            "work_phone          0\n",
            "phone               0\n",
            "email               0\n",
            "occyp_type       8171\n",
            "family_size         0\n",
            "begin_month         0\n",
            "credit              0\n",
            "dtype: int64\n",
            "gender              0\n",
            "car                 0\n",
            "reality             0\n",
            "child_num           0\n",
            "income_total        0\n",
            "income_type         0\n",
            "edu_type            0\n",
            "family_type         0\n",
            "house_type          0\n",
            "DAYS_BIRTH          0\n",
            "DAYS_EMPLOYED       0\n",
            "FLAG_MOBIL          0\n",
            "work_phone          0\n",
            "phone               0\n",
            "email               0\n",
            "occyp_type       3152\n",
            "family_size         0\n",
            "begin_month         0\n",
            "dtype: int64\n"
          ],
          "name": "stdout"
        }
      ]
    },
    {
      "cell_type": "code",
      "metadata": {
        "id": "JCpbMQyuvh69"
      },
      "source": [
        "# fill Null Values\n",
        "train.fillna('X', inplace=True) \n",
        "test.fillna('X', inplace=True)"
      ],
      "id": "JCpbMQyuvh69",
      "execution_count": null,
      "outputs": []
    },
    {
      "cell_type": "code",
      "metadata": {
        "id": "B4quYI_Nw08l"
      },
      "source": [
        "# 데이터 전처리\n",
        "## Child_num\n",
        "train['child_num']=np.where(train['child_num'] >= 1,\n",
        "                             'N', # 0이면 자녀가 없음\n",
        "                             'Y') # 1이상이면 자녀가 있음으로 나뉨\n",
        "test['child_num']=np.where(test['child_num'] >= 1,'N','Y')\n",
        "\n",
        "## income_total\n",
        "#train['income_total']= round(train['income_total']/10000)\n",
        "#test['income_total']= round(test['income_total']/10000)"
      ],
      "id": "B4quYI_Nw08l",
      "execution_count": null,
      "outputs": []
    },
    {
      "cell_type": "code",
      "metadata": {
        "colab": {
          "base_uri": "https://localhost:8080/"
        },
        "id": "p0xAHpy-vAH-",
        "outputId": "c1b1f925-4ad3-473b-e687-cb6b4274c561"
      },
      "source": [
        "train.info()"
      ],
      "id": "p0xAHpy-vAH-",
      "execution_count": null,
      "outputs": [
        {
          "output_type": "stream",
          "text": [
            "<class 'pandas.core.frame.DataFrame'>\n",
            "RangeIndex: 26457 entries, 0 to 26456\n",
            "Data columns (total 19 columns):\n",
            " #   Column         Non-Null Count  Dtype  \n",
            "---  ------         --------------  -----  \n",
            " 0   gender         26457 non-null  object \n",
            " 1   car            26457 non-null  object \n",
            " 2   reality        26457 non-null  object \n",
            " 3   child_num      26457 non-null  object \n",
            " 4   income_total   26457 non-null  float64\n",
            " 5   income_type    26457 non-null  object \n",
            " 6   edu_type       26457 non-null  object \n",
            " 7   family_type    26457 non-null  object \n",
            " 8   house_type     26457 non-null  object \n",
            " 9   DAYS_BIRTH     26457 non-null  int64  \n",
            " 10  DAYS_EMPLOYED  26457 non-null  int64  \n",
            " 11  FLAG_MOBIL     26457 non-null  int64  \n",
            " 12  work_phone     26457 non-null  int64  \n",
            " 13  phone          26457 non-null  int64  \n",
            " 14  email          26457 non-null  int64  \n",
            " 15  occyp_type     26457 non-null  object \n",
            " 16  family_size    26457 non-null  float64\n",
            " 17  begin_month    26457 non-null  float64\n",
            " 18  credit         26457 non-null  float64\n",
            "dtypes: float64(4), int64(6), object(9)\n",
            "memory usage: 3.8+ MB\n"
          ],
          "name": "stdout"
        }
      ]
    },
    {
      "cell_type": "code",
      "metadata": {
        "id": "fd48387c"
      },
      "source": [
        "object_col = []\n",
        "for col in train.columns:\n",
        "    if train[col].dtype == 'object':\n",
        "        object_col.append(col)"
      ],
      "id": "fd48387c",
      "execution_count": null,
      "outputs": []
    },
    {
      "cell_type": "code",
      "metadata": {
        "id": "99c53850"
      },
      "source": [
        "enc = OneHotEncoder()\n",
        "enc.fit(train.loc[:,object_col])\n",
        "\n",
        "train_onehot_df = pd.DataFrame(enc.transform(train.loc[:,object_col]).toarray(), \n",
        "             columns=enc.get_feature_names(object_col))\n",
        "train.drop(object_col, axis=1, inplace=True)\n",
        "train = pd.concat([train, train_onehot_df], axis=1)"
      ],
      "id": "99c53850",
      "execution_count": null,
      "outputs": []
    },
    {
      "cell_type": "code",
      "metadata": {
        "id": "52491ddf"
      },
      "source": [
        "test_onehot_df = pd.DataFrame(enc.transform(test.loc[:,object_col]).toarray(), \n",
        "             columns=enc.get_feature_names(object_col))\n",
        "test.drop(object_col, axis=1, inplace=True)\n",
        "test = pd.concat([test, test_onehot_df], axis=1)"
      ],
      "id": "52491ddf",
      "execution_count": null,
      "outputs": []
    },
    {
      "cell_type": "code",
      "metadata": {
        "id": "83680266"
      },
      "source": [
        "skf = StratifiedKFold(n_splits=5, shuffle=True, random_state=42)\n",
        "folds=[]\n",
        "for train_idx, valid_idx in skf.split(train, train['credit']):\n",
        "    folds.append((train_idx, valid_idx))"
      ],
      "id": "83680266",
      "execution_count": null,
      "outputs": []
    },
    {
      "cell_type": "code",
      "metadata": {
        "colab": {
          "base_uri": "https://localhost:8080/"
        },
        "id": "762dc11e",
        "outputId": "b25a4730-f483-4a3a-8ec3-6cab3a1eaa0c"
      },
      "source": [
        "random.seed(42)\n",
        "lgb_models={}\n",
        "for fold in range(5):\n",
        "    print(f'===================================={fold+1}============================================')\n",
        "    train_idx, valid_idx = folds[fold]\n",
        "    X_train, X_valid, y_train, y_valid = train.drop(['credit'],axis=1).iloc[train_idx].values, train.drop(['credit'],axis=1).iloc[valid_idx].values,\\\n",
        "                                         train['credit'][train_idx].values, train['credit'][valid_idx].values \n",
        "    lgb = LGBMClassifier(n_estimators=1100,min_samples_split=2, min_samples_leaf=4)\n",
        "   # min_samples_split=2, min_samples_leaf=4, max_features=None,loss ='ls'\n",
        "    lgb.fit(X_train, y_train, \n",
        "            eval_set=[(X_train, y_train), (X_valid, y_valid)], \n",
        "            early_stopping_rounds=100,\n",
        "           verbose=100)\n",
        "    lgb_models[fold]=lgb\n",
        "    print(f'================================================================================\\n\\n')"
      ],
      "id": "762dc11e",
      "execution_count": null,
      "outputs": [
        {
          "output_type": "stream",
          "text": [
            "====================================1============================================\n",
            "Training until validation scores don't improve for 100 rounds.\n",
            "[100]\ttraining's multi_logloss: 0.678699\tvalid_1's multi_logloss: 0.758326\n",
            "[200]\ttraining's multi_logloss: 0.604786\tvalid_1's multi_logloss: 0.741679\n",
            "[300]\ttraining's multi_logloss: 0.550319\tvalid_1's multi_logloss: 0.734197\n",
            "[400]\ttraining's multi_logloss: 0.503597\tvalid_1's multi_logloss: 0.731206\n",
            "[500]\ttraining's multi_logloss: 0.465041\tvalid_1's multi_logloss: 0.73119\n",
            "Early stopping, best iteration is:\n",
            "[418]\ttraining's multi_logloss: 0.49575\tvalid_1's multi_logloss: 0.730827\n",
            "================================================================================\n",
            "\n",
            "\n",
            "====================================2============================================\n",
            "Training until validation scores don't improve for 100 rounds.\n",
            "[100]\ttraining's multi_logloss: 0.67605\tvalid_1's multi_logloss: 0.769666\n",
            "[200]\ttraining's multi_logloss: 0.602036\tvalid_1's multi_logloss: 0.752958\n",
            "[300]\ttraining's multi_logloss: 0.546123\tvalid_1's multi_logloss: 0.747878\n",
            "[400]\ttraining's multi_logloss: 0.500338\tvalid_1's multi_logloss: 0.747408\n",
            "[500]\ttraining's multi_logloss: 0.461047\tvalid_1's multi_logloss: 0.749152\n",
            "Early stopping, best iteration is:\n",
            "[415]\ttraining's multi_logloss: 0.493877\tvalid_1's multi_logloss: 0.747211\n",
            "================================================================================\n",
            "\n",
            "\n",
            "====================================3============================================\n",
            "Training until validation scores don't improve for 100 rounds.\n",
            "[100]\ttraining's multi_logloss: 0.678047\tvalid_1's multi_logloss: 0.763612\n",
            "[200]\ttraining's multi_logloss: 0.602536\tvalid_1's multi_logloss: 0.748738\n",
            "[300]\ttraining's multi_logloss: 0.546141\tvalid_1's multi_logloss: 0.743228\n",
            "[400]\ttraining's multi_logloss: 0.499311\tvalid_1's multi_logloss: 0.744109\n",
            "Early stopping, best iteration is:\n",
            "[342]\ttraining's multi_logloss: 0.525422\tvalid_1's multi_logloss: 0.741976\n",
            "================================================================================\n",
            "\n",
            "\n",
            "====================================4============================================\n",
            "Training until validation scores don't improve for 100 rounds.\n",
            "[100]\ttraining's multi_logloss: 0.676299\tvalid_1's multi_logloss: 0.764361\n",
            "[200]\ttraining's multi_logloss: 0.602492\tvalid_1's multi_logloss: 0.746131\n",
            "[300]\ttraining's multi_logloss: 0.546653\tvalid_1's multi_logloss: 0.73836\n",
            "[400]\ttraining's multi_logloss: 0.500829\tvalid_1's multi_logloss: 0.736293\n",
            "[500]\ttraining's multi_logloss: 0.460882\tvalid_1's multi_logloss: 0.737882\n",
            "Early stopping, best iteration is:\n",
            "[419]\ttraining's multi_logloss: 0.492572\tvalid_1's multi_logloss: 0.735965\n",
            "================================================================================\n",
            "\n",
            "\n",
            "====================================5============================================\n",
            "Training until validation scores don't improve for 100 rounds.\n",
            "[100]\ttraining's multi_logloss: 0.680482\tvalid_1's multi_logloss: 0.762171\n",
            "[200]\ttraining's multi_logloss: 0.604303\tvalid_1's multi_logloss: 0.744387\n",
            "[300]\ttraining's multi_logloss: 0.548067\tvalid_1's multi_logloss: 0.739059\n",
            "[400]\ttraining's multi_logloss: 0.501318\tvalid_1's multi_logloss: 0.736487\n",
            "[500]\ttraining's multi_logloss: 0.461966\tvalid_1's multi_logloss: 0.738419\n",
            "Early stopping, best iteration is:\n",
            "[408]\ttraining's multi_logloss: 0.497805\tvalid_1's multi_logloss: 0.735885\n",
            "================================================================================\n",
            "\n",
            "\n"
          ],
          "name": "stdout"
        }
      ]
    },
    {
      "cell_type": "code",
      "metadata": {
        "id": "12102646"
      },
      "source": [
        "submit.iloc[:,1:]=0\n",
        "for fold in range(5):\n",
        "    submit.iloc[:,1:] += lgb_models[fold].predict_proba(test)/5"
      ],
      "id": "12102646",
      "execution_count": null,
      "outputs": []
    },
    {
      "cell_type": "code",
      "metadata": {
        "id": "55995eec"
      },
      "source": [
        "submit.to_csv(BASE_DIR + '20210513_test_submit_lightgbm.csv', index=False) # 0.7272812144"
      ],
      "id": "55995eec",
      "execution_count": null,
      "outputs": []
    },
    {
      "cell_type": "code",
      "metadata": {
        "id": "iuDCaYHkE7OP"
      },
      "source": [
        ""
      ],
      "id": "iuDCaYHkE7OP",
      "execution_count": null,
      "outputs": []
    }
  ]
}