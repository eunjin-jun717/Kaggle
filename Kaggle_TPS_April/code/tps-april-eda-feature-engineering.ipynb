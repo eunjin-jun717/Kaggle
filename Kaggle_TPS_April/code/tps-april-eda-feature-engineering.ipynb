{
 "cells": [
  {
   "cell_type": "markdown",
   "metadata": {
    "papermill": {
     "duration": 0.057663,
     "end_time": "2021-04-26T05:59:52.315379",
     "exception": false,
     "start_time": "2021-04-26T05:59:52.257716",
     "status": "completed"
    },
    "tags": []
   },
   "source": [
    "- [First look](#first_look)\n",
    "    - [(1) Check data for NA](#check_na)\n",
    "    \n",
    "- [EDA(Exploratory Data Analysis)](#eda)\n",
    "    - [(1) Survived](#survived)\n",
    "    - [(2) Age](#age)\n",
    "    - [(3) Cabin](#cabin)\n",
    "    - [(3) Family](#family)\n",
    "    - [(3) Pclass](#pclass)\n",
    "    - [(3) Sex](#sex)\n",
    "    - [(3) Embarked](#embarked)\n",
    "    - [(3) Fare](#fare)\n",
    "\n"
   ]
  },
  {
   "cell_type": "markdown",
   "metadata": {
    "papermill": {
     "duration": 0.055821,
     "end_time": "2021-04-26T05:59:52.428295",
     "exception": false,
     "start_time": "2021-04-26T05:59:52.372474",
     "status": "completed"
    },
    "tags": []
   },
   "source": [
    "<a id=\"eda\"></a>\n",
    "## EDA(Exploratory Data Analysis)\n",
    "> *references*\n",
    "> [https://www.kaggle.com/demidova/titanic-eda-tutorial](https://www.kaggle.com/demidova/titanic-eda-tutorial)\n",
    "> [https://www.kaggle.com/demidova/titanic-logistic-regression-random-forest-xgboost?scriptVersionId=46567425]\n",
    "\n",
    "![titanic](https://ww.namu.la/s/1cc50931b5875401a9465ba06eaaf3d357ebfeabdf50346cd03636ab60ef0a9783a060b2c9cc7808148cd2a075699fa0f094e7f34df4a69fd5fdeb31137a37ef6e3a6c57a0b629606097a954052b7abba6a51a1a32ed5be9a92174b2ada23080602e6277fd7f0a200ddffcbd5b581746)\n",
    "- [https://namu.wiki/jump/9AGb4mj%2Bgar2D116rRySHULPcuF9aQA9dU1%2FKaQlJabHnX1Bwo7dW3QKZZU5EDX7tyS7%2BeKInzFlBX0PyH2gvmr0xlEeT19AQhYRU4yv8erx25eqVyS5NlWU2pDAk3mhBaO4i%2BaABck5vAWwFaAE0g%3D%3D](https://namu.wiki/jump/9AGb4mj%2Bgar2D116rRySHULPcuF9aQA9dU1%2FKaQlJabHnX1Bwo7dW3QKZZU5EDX7tyS7%2BeKInzFlBX0PyH2gvmr0xlEeT19AQhYRU4yv8erx25eqVyS5NlWU2pDAk3mhBaO4i%2BaABck5vAWwFaAE0g%3D%3D)"
   ]
  },
  {
   "cell_type": "markdown",
   "metadata": {
    "papermill": {
     "duration": 0.056646,
     "end_time": "2021-04-26T05:59:52.540775",
     "exception": false,
     "start_time": "2021-04-26T05:59:52.484129",
     "status": "completed"
    },
    "tags": []
   },
   "source": [
    "<a id='data_import'></a>\n",
    "### (1) Data Import"
   ]
  },
  {
   "cell_type": "code",
   "execution_count": 1,
   "metadata": {
    "execution": {
     "iopub.execute_input": "2021-04-26T05:59:52.665393Z",
     "iopub.status.busy": "2021-04-26T05:59:52.664676Z",
     "iopub.status.idle": "2021-04-26T05:59:53.603089Z",
     "shell.execute_reply": "2021-04-26T05:59:53.603642Z"
    },
    "papermill": {
     "duration": 1.006207,
     "end_time": "2021-04-26T05:59:53.603944",
     "exception": false,
     "start_time": "2021-04-26T05:59:52.597737",
     "status": "completed"
    },
    "tags": []
   },
   "outputs": [
    {
     "name": "stdout",
     "output_type": "stream",
     "text": [
      "Version Pandas 1.2.3\n",
      "Version Matplotlib 3.4.1\n",
      "Version Numpy 1.19.5\n",
      "Version Seaborn 0.11.1\n"
     ]
    },
    {
     "data": {
      "text/plain": [
       "['sample_submission.csv', 'train.csv', 'test.csv']"
      ]
     },
     "execution_count": 1,
     "metadata": {},
     "output_type": "execute_result"
    }
   ],
   "source": [
    "import pandas as pd\n",
    "import matplotlib\n",
    "import matplotlib.pyplot as plt\n",
    "import numpy as np\n",
    "import seaborn as sb\n",
    "import os\n",
    "\n",
    "print(\"Version Pandas\", pd.__version__)\n",
    "print(\"Version Matplotlib\", matplotlib.__version__)\n",
    "print(\"Version Numpy\", np.__version__)\n",
    "print(\"Version Seaborn\", sb.__version__)\n",
    "\n",
    "os.listdir('../input/tabular-playground-series-apr-2021/')"
   ]
  },
  {
   "cell_type": "code",
   "execution_count": 2,
   "metadata": {
    "execution": {
     "iopub.execute_input": "2021-04-26T05:59:53.726570Z",
     "iopub.status.busy": "2021-04-26T05:59:53.725889Z",
     "iopub.status.idle": "2021-04-26T05:59:54.378338Z",
     "shell.execute_reply": "2021-04-26T05:59:54.377565Z"
    },
    "papermill": {
     "duration": 0.716504,
     "end_time": "2021-04-26T05:59:54.378487",
     "exception": false,
     "start_time": "2021-04-26T05:59:53.661983",
     "status": "completed"
    },
    "tags": []
   },
   "outputs": [
    {
     "data": {
      "text/plain": [
       "((100000, 12), (100000, 11), (100000, 2))"
      ]
     },
     "execution_count": 2,
     "metadata": {},
     "output_type": "execute_result"
    }
   ],
   "source": [
    "BASE_DIR = '../input/tabular-playground-series-apr-2021/'\n",
    "train = pd.read_csv(BASE_DIR + 'train.csv')\n",
    "test = pd.read_csv(BASE_DIR + 'test.csv')\n",
    "sample_submission = pd.read_csv(BASE_DIR + 'sample_submission.csv')\n",
    "\n",
    "train.shape, test.shape, sample_submission.shape"
   ]
  },
  {
   "cell_type": "code",
   "execution_count": 3,
   "metadata": {
    "execution": {
     "iopub.execute_input": "2021-04-26T05:59:54.505975Z",
     "iopub.status.busy": "2021-04-26T05:59:54.505344Z",
     "iopub.status.idle": "2021-04-26T05:59:54.530070Z",
     "shell.execute_reply": "2021-04-26T05:59:54.529447Z"
    },
    "papermill": {
     "duration": 0.092906,
     "end_time": "2021-04-26T05:59:54.530228",
     "exception": false,
     "start_time": "2021-04-26T05:59:54.437322",
     "status": "completed"
    },
    "tags": []
   },
   "outputs": [
    {
     "data": {
      "text/html": [
       "<div>\n",
       "<style scoped>\n",
       "    .dataframe tbody tr th:only-of-type {\n",
       "        vertical-align: middle;\n",
       "    }\n",
       "\n",
       "    .dataframe tbody tr th {\n",
       "        vertical-align: top;\n",
       "    }\n",
       "\n",
       "    .dataframe thead th {\n",
       "        text-align: right;\n",
       "    }\n",
       "</style>\n",
       "<table border=\"1\" class=\"dataframe\">\n",
       "  <thead>\n",
       "    <tr style=\"text-align: right;\">\n",
       "      <th></th>\n",
       "      <th>PassengerId</th>\n",
       "      <th>Survived</th>\n",
       "      <th>Pclass</th>\n",
       "      <th>Name</th>\n",
       "      <th>Sex</th>\n",
       "      <th>Age</th>\n",
       "      <th>SibSp</th>\n",
       "      <th>Parch</th>\n",
       "      <th>Ticket</th>\n",
       "      <th>Fare</th>\n",
       "      <th>Cabin</th>\n",
       "      <th>Embarked</th>\n",
       "    </tr>\n",
       "  </thead>\n",
       "  <tbody>\n",
       "    <tr>\n",
       "      <th>0</th>\n",
       "      <td>0</td>\n",
       "      <td>1</td>\n",
       "      <td>1</td>\n",
       "      <td>Oconnor, Frankie</td>\n",
       "      <td>male</td>\n",
       "      <td>NaN</td>\n",
       "      <td>2</td>\n",
       "      <td>0</td>\n",
       "      <td>209245</td>\n",
       "      <td>27.14</td>\n",
       "      <td>C12239</td>\n",
       "      <td>S</td>\n",
       "    </tr>\n",
       "    <tr>\n",
       "      <th>1</th>\n",
       "      <td>1</td>\n",
       "      <td>0</td>\n",
       "      <td>3</td>\n",
       "      <td>Bryan, Drew</td>\n",
       "      <td>male</td>\n",
       "      <td>NaN</td>\n",
       "      <td>0</td>\n",
       "      <td>0</td>\n",
       "      <td>27323</td>\n",
       "      <td>13.35</td>\n",
       "      <td>NaN</td>\n",
       "      <td>S</td>\n",
       "    </tr>\n",
       "    <tr>\n",
       "      <th>2</th>\n",
       "      <td>2</td>\n",
       "      <td>0</td>\n",
       "      <td>3</td>\n",
       "      <td>Owens, Kenneth</td>\n",
       "      <td>male</td>\n",
       "      <td>0.33</td>\n",
       "      <td>1</td>\n",
       "      <td>2</td>\n",
       "      <td>CA 457703</td>\n",
       "      <td>71.29</td>\n",
       "      <td>NaN</td>\n",
       "      <td>S</td>\n",
       "    </tr>\n",
       "    <tr>\n",
       "      <th>3</th>\n",
       "      <td>3</td>\n",
       "      <td>0</td>\n",
       "      <td>3</td>\n",
       "      <td>Kramer, James</td>\n",
       "      <td>male</td>\n",
       "      <td>19.00</td>\n",
       "      <td>0</td>\n",
       "      <td>0</td>\n",
       "      <td>A. 10866</td>\n",
       "      <td>13.04</td>\n",
       "      <td>NaN</td>\n",
       "      <td>S</td>\n",
       "    </tr>\n",
       "    <tr>\n",
       "      <th>4</th>\n",
       "      <td>4</td>\n",
       "      <td>1</td>\n",
       "      <td>3</td>\n",
       "      <td>Bond, Michael</td>\n",
       "      <td>male</td>\n",
       "      <td>25.00</td>\n",
       "      <td>0</td>\n",
       "      <td>0</td>\n",
       "      <td>427635</td>\n",
       "      <td>7.76</td>\n",
       "      <td>NaN</td>\n",
       "      <td>S</td>\n",
       "    </tr>\n",
       "  </tbody>\n",
       "</table>\n",
       "</div>"
      ],
      "text/plain": [
       "   PassengerId  Survived  Pclass              Name   Sex    Age  SibSp  Parch  \\\n",
       "0            0         1       1  Oconnor, Frankie  male    NaN      2      0   \n",
       "1            1         0       3       Bryan, Drew  male    NaN      0      0   \n",
       "2            2         0       3    Owens, Kenneth  male   0.33      1      2   \n",
       "3            3         0       3     Kramer, James  male  19.00      0      0   \n",
       "4            4         1       3     Bond, Michael  male  25.00      0      0   \n",
       "\n",
       "      Ticket   Fare   Cabin Embarked  \n",
       "0     209245  27.14  C12239        S  \n",
       "1      27323  13.35     NaN        S  \n",
       "2  CA 457703  71.29     NaN        S  \n",
       "3   A. 10866  13.04     NaN        S  \n",
       "4     427635   7.76     NaN        S  "
      ]
     },
     "execution_count": 3,
     "metadata": {},
     "output_type": "execute_result"
    }
   ],
   "source": [
    "train.head()"
   ]
  },
  {
   "cell_type": "code",
   "execution_count": 4,
   "metadata": {
    "execution": {
     "iopub.execute_input": "2021-04-26T05:59:54.664105Z",
     "iopub.status.busy": "2021-04-26T05:59:54.663200Z",
     "iopub.status.idle": "2021-04-26T05:59:54.667645Z",
     "shell.execute_reply": "2021-04-26T05:59:54.667118Z"
    },
    "papermill": {
     "duration": 0.078917,
     "end_time": "2021-04-26T05:59:54.667785",
     "exception": false,
     "start_time": "2021-04-26T05:59:54.588868",
     "status": "completed"
    },
    "tags": []
   },
   "outputs": [
    {
     "data": {
      "text/html": [
       "<div>\n",
       "<style scoped>\n",
       "    .dataframe tbody tr th:only-of-type {\n",
       "        vertical-align: middle;\n",
       "    }\n",
       "\n",
       "    .dataframe tbody tr th {\n",
       "        vertical-align: top;\n",
       "    }\n",
       "\n",
       "    .dataframe thead th {\n",
       "        text-align: right;\n",
       "    }\n",
       "</style>\n",
       "<table border=\"1\" class=\"dataframe\">\n",
       "  <thead>\n",
       "    <tr style=\"text-align: right;\">\n",
       "      <th></th>\n",
       "      <th>PassengerId</th>\n",
       "      <th>Pclass</th>\n",
       "      <th>Name</th>\n",
       "      <th>Sex</th>\n",
       "      <th>Age</th>\n",
       "      <th>SibSp</th>\n",
       "      <th>Parch</th>\n",
       "      <th>Ticket</th>\n",
       "      <th>Fare</th>\n",
       "      <th>Cabin</th>\n",
       "      <th>Embarked</th>\n",
       "    </tr>\n",
       "  </thead>\n",
       "  <tbody>\n",
       "    <tr>\n",
       "      <th>0</th>\n",
       "      <td>100000</td>\n",
       "      <td>3</td>\n",
       "      <td>Holliday, Daniel</td>\n",
       "      <td>male</td>\n",
       "      <td>19.0</td>\n",
       "      <td>0</td>\n",
       "      <td>0</td>\n",
       "      <td>24745</td>\n",
       "      <td>63.01</td>\n",
       "      <td>NaN</td>\n",
       "      <td>S</td>\n",
       "    </tr>\n",
       "    <tr>\n",
       "      <th>1</th>\n",
       "      <td>100001</td>\n",
       "      <td>3</td>\n",
       "      <td>Nguyen, Lorraine</td>\n",
       "      <td>female</td>\n",
       "      <td>53.0</td>\n",
       "      <td>0</td>\n",
       "      <td>0</td>\n",
       "      <td>13264</td>\n",
       "      <td>5.81</td>\n",
       "      <td>NaN</td>\n",
       "      <td>S</td>\n",
       "    </tr>\n",
       "    <tr>\n",
       "      <th>2</th>\n",
       "      <td>100002</td>\n",
       "      <td>1</td>\n",
       "      <td>Harris, Heather</td>\n",
       "      <td>female</td>\n",
       "      <td>19.0</td>\n",
       "      <td>0</td>\n",
       "      <td>0</td>\n",
       "      <td>25990</td>\n",
       "      <td>38.91</td>\n",
       "      <td>B15315</td>\n",
       "      <td>C</td>\n",
       "    </tr>\n",
       "    <tr>\n",
       "      <th>3</th>\n",
       "      <td>100003</td>\n",
       "      <td>2</td>\n",
       "      <td>Larsen, Eric</td>\n",
       "      <td>male</td>\n",
       "      <td>25.0</td>\n",
       "      <td>0</td>\n",
       "      <td>0</td>\n",
       "      <td>314011</td>\n",
       "      <td>12.93</td>\n",
       "      <td>NaN</td>\n",
       "      <td>S</td>\n",
       "    </tr>\n",
       "    <tr>\n",
       "      <th>4</th>\n",
       "      <td>100004</td>\n",
       "      <td>1</td>\n",
       "      <td>Cleary, Sarah</td>\n",
       "      <td>female</td>\n",
       "      <td>17.0</td>\n",
       "      <td>0</td>\n",
       "      <td>2</td>\n",
       "      <td>26203</td>\n",
       "      <td>26.89</td>\n",
       "      <td>B22515</td>\n",
       "      <td>C</td>\n",
       "    </tr>\n",
       "  </tbody>\n",
       "</table>\n",
       "</div>"
      ],
      "text/plain": [
       "   PassengerId  Pclass              Name     Sex   Age  SibSp  Parch  Ticket  \\\n",
       "0       100000       3  Holliday, Daniel    male  19.0      0      0   24745   \n",
       "1       100001       3  Nguyen, Lorraine  female  53.0      0      0   13264   \n",
       "2       100002       1   Harris, Heather  female  19.0      0      0   25990   \n",
       "3       100003       2      Larsen, Eric    male  25.0      0      0  314011   \n",
       "4       100004       1     Cleary, Sarah  female  17.0      0      2   26203   \n",
       "\n",
       "    Fare   Cabin Embarked  \n",
       "0  63.01     NaN        S  \n",
       "1   5.81     NaN        S  \n",
       "2  38.91  B15315        C  \n",
       "3  12.93     NaN        S  \n",
       "4  26.89  B22515        C  "
      ]
     },
     "execution_count": 4,
     "metadata": {},
     "output_type": "execute_result"
    }
   ],
   "source": [
    "test.head()"
   ]
  },
  {
   "cell_type": "code",
   "execution_count": 5,
   "metadata": {
    "execution": {
     "iopub.execute_input": "2021-04-26T05:59:54.795443Z",
     "iopub.status.busy": "2021-04-26T05:59:54.794435Z",
     "iopub.status.idle": "2021-04-26T05:59:54.800301Z",
     "shell.execute_reply": "2021-04-26T05:59:54.799658Z"
    },
    "papermill": {
     "duration": 0.072661,
     "end_time": "2021-04-26T05:59:54.800449",
     "exception": false,
     "start_time": "2021-04-26T05:59:54.727788",
     "status": "completed"
    },
    "tags": []
   },
   "outputs": [
    {
     "data": {
      "text/html": [
       "<div>\n",
       "<style scoped>\n",
       "    .dataframe tbody tr th:only-of-type {\n",
       "        vertical-align: middle;\n",
       "    }\n",
       "\n",
       "    .dataframe tbody tr th {\n",
       "        vertical-align: top;\n",
       "    }\n",
       "\n",
       "    .dataframe thead th {\n",
       "        text-align: right;\n",
       "    }\n",
       "</style>\n",
       "<table border=\"1\" class=\"dataframe\">\n",
       "  <thead>\n",
       "    <tr style=\"text-align: right;\">\n",
       "      <th></th>\n",
       "      <th>PassengerId</th>\n",
       "      <th>Survived</th>\n",
       "    </tr>\n",
       "  </thead>\n",
       "  <tbody>\n",
       "    <tr>\n",
       "      <th>0</th>\n",
       "      <td>100000</td>\n",
       "      <td>1</td>\n",
       "    </tr>\n",
       "    <tr>\n",
       "      <th>1</th>\n",
       "      <td>100001</td>\n",
       "      <td>1</td>\n",
       "    </tr>\n",
       "    <tr>\n",
       "      <th>2</th>\n",
       "      <td>100002</td>\n",
       "      <td>1</td>\n",
       "    </tr>\n",
       "    <tr>\n",
       "      <th>3</th>\n",
       "      <td>100003</td>\n",
       "      <td>1</td>\n",
       "    </tr>\n",
       "    <tr>\n",
       "      <th>4</th>\n",
       "      <td>100004</td>\n",
       "      <td>1</td>\n",
       "    </tr>\n",
       "  </tbody>\n",
       "</table>\n",
       "</div>"
      ],
      "text/plain": [
       "   PassengerId  Survived\n",
       "0       100000         1\n",
       "1       100001         1\n",
       "2       100002         1\n",
       "3       100003         1\n",
       "4       100004         1"
      ]
     },
     "execution_count": 5,
     "metadata": {},
     "output_type": "execute_result"
    }
   ],
   "source": [
    "sample_submission.head()"
   ]
  },
  {
   "cell_type": "code",
   "execution_count": 6,
   "metadata": {
    "execution": {
     "iopub.execute_input": "2021-04-26T05:59:54.925831Z",
     "iopub.status.busy": "2021-04-26T05:59:54.925106Z",
     "iopub.status.idle": "2021-04-26T05:59:54.990964Z",
     "shell.execute_reply": "2021-04-26T05:59:54.991555Z"
    },
    "papermill": {
     "duration": 0.132277,
     "end_time": "2021-04-26T05:59:54.991721",
     "exception": false,
     "start_time": "2021-04-26T05:59:54.859444",
     "status": "completed"
    },
    "tags": []
   },
   "outputs": [
    {
     "name": "stdout",
     "output_type": "stream",
     "text": [
      "total data shape:  (200000, 12)\n"
     ]
    },
    {
     "data": {
      "text/html": [
       "<div>\n",
       "<style scoped>\n",
       "    .dataframe tbody tr th:only-of-type {\n",
       "        vertical-align: middle;\n",
       "    }\n",
       "\n",
       "    .dataframe tbody tr th {\n",
       "        vertical-align: top;\n",
       "    }\n",
       "\n",
       "    .dataframe thead th {\n",
       "        text-align: right;\n",
       "    }\n",
       "</style>\n",
       "<table border=\"1\" class=\"dataframe\">\n",
       "  <thead>\n",
       "    <tr style=\"text-align: right;\">\n",
       "      <th></th>\n",
       "      <th>PassengerId</th>\n",
       "      <th>Survived</th>\n",
       "      <th>Pclass</th>\n",
       "      <th>Name</th>\n",
       "      <th>Sex</th>\n",
       "      <th>Age</th>\n",
       "      <th>SibSp</th>\n",
       "      <th>Parch</th>\n",
       "      <th>Ticket</th>\n",
       "      <th>Fare</th>\n",
       "      <th>Cabin</th>\n",
       "      <th>Embarked</th>\n",
       "    </tr>\n",
       "  </thead>\n",
       "  <tbody>\n",
       "    <tr>\n",
       "      <th>0</th>\n",
       "      <td>0</td>\n",
       "      <td>1.0</td>\n",
       "      <td>1</td>\n",
       "      <td>Oconnor, Frankie</td>\n",
       "      <td>male</td>\n",
       "      <td>NaN</td>\n",
       "      <td>2</td>\n",
       "      <td>0</td>\n",
       "      <td>209245</td>\n",
       "      <td>27.14</td>\n",
       "      <td>C12239</td>\n",
       "      <td>S</td>\n",
       "    </tr>\n",
       "    <tr>\n",
       "      <th>1</th>\n",
       "      <td>1</td>\n",
       "      <td>0.0</td>\n",
       "      <td>3</td>\n",
       "      <td>Bryan, Drew</td>\n",
       "      <td>male</td>\n",
       "      <td>NaN</td>\n",
       "      <td>0</td>\n",
       "      <td>0</td>\n",
       "      <td>27323</td>\n",
       "      <td>13.35</td>\n",
       "      <td>NaN</td>\n",
       "      <td>S</td>\n",
       "    </tr>\n",
       "    <tr>\n",
       "      <th>2</th>\n",
       "      <td>2</td>\n",
       "      <td>0.0</td>\n",
       "      <td>3</td>\n",
       "      <td>Owens, Kenneth</td>\n",
       "      <td>male</td>\n",
       "      <td>0.33</td>\n",
       "      <td>1</td>\n",
       "      <td>2</td>\n",
       "      <td>CA 457703</td>\n",
       "      <td>71.29</td>\n",
       "      <td>NaN</td>\n",
       "      <td>S</td>\n",
       "    </tr>\n",
       "    <tr>\n",
       "      <th>3</th>\n",
       "      <td>3</td>\n",
       "      <td>0.0</td>\n",
       "      <td>3</td>\n",
       "      <td>Kramer, James</td>\n",
       "      <td>male</td>\n",
       "      <td>19.00</td>\n",
       "      <td>0</td>\n",
       "      <td>0</td>\n",
       "      <td>A. 10866</td>\n",
       "      <td>13.04</td>\n",
       "      <td>NaN</td>\n",
       "      <td>S</td>\n",
       "    </tr>\n",
       "    <tr>\n",
       "      <th>4</th>\n",
       "      <td>4</td>\n",
       "      <td>1.0</td>\n",
       "      <td>3</td>\n",
       "      <td>Bond, Michael</td>\n",
       "      <td>male</td>\n",
       "      <td>25.00</td>\n",
       "      <td>0</td>\n",
       "      <td>0</td>\n",
       "      <td>427635</td>\n",
       "      <td>7.76</td>\n",
       "      <td>NaN</td>\n",
       "      <td>S</td>\n",
       "    </tr>\n",
       "  </tbody>\n",
       "</table>\n",
       "</div>"
      ],
      "text/plain": [
       "   PassengerId  Survived  Pclass              Name   Sex    Age  SibSp  Parch  \\\n",
       "0            0       1.0       1  Oconnor, Frankie  male    NaN      2      0   \n",
       "1            1       0.0       3       Bryan, Drew  male    NaN      0      0   \n",
       "2            2       0.0       3    Owens, Kenneth  male   0.33      1      2   \n",
       "3            3       0.0       3     Kramer, James  male  19.00      0      0   \n",
       "4            4       1.0       3     Bond, Michael  male  25.00      0      0   \n",
       "\n",
       "      Ticket   Fare   Cabin Embarked  \n",
       "0     209245  27.14  C12239        S  \n",
       "1      27323  13.35     NaN        S  \n",
       "2  CA 457703  71.29     NaN        S  \n",
       "3   A. 10866  13.04     NaN        S  \n",
       "4     427635   7.76     NaN        S  "
      ]
     },
     "execution_count": 6,
     "metadata": {},
     "output_type": "execute_result"
    }
   ],
   "source": [
    "frames= [train, test]\n",
    "total_df=pd.concat(frames, sort=False)\n",
    "print('total data shape: ', total_df.shape)\n",
    "total_df.head()"
   ]
  },
  {
   "cell_type": "code",
   "execution_count": 7,
   "metadata": {
    "execution": {
     "iopub.execute_input": "2021-04-26T05:59:55.116318Z",
     "iopub.status.busy": "2021-04-26T05:59:55.115663Z",
     "iopub.status.idle": "2021-04-26T05:59:55.805929Z",
     "shell.execute_reply": "2021-04-26T05:59:55.805395Z"
    },
    "papermill": {
     "duration": 0.753777,
     "end_time": "2021-04-26T05:59:55.806074",
     "exception": false,
     "start_time": "2021-04-26T05:59:55.052297",
     "status": "completed"
    },
    "tags": []
   },
   "outputs": [
    {
     "data": {
      "text/html": [
       "<div>\n",
       "<style scoped>\n",
       "    .dataframe tbody tr th:only-of-type {\n",
       "        vertical-align: middle;\n",
       "    }\n",
       "\n",
       "    .dataframe tbody tr th {\n",
       "        vertical-align: top;\n",
       "    }\n",
       "\n",
       "    .dataframe thead th {\n",
       "        text-align: right;\n",
       "    }\n",
       "</style>\n",
       "<table border=\"1\" class=\"dataframe\">\n",
       "  <thead>\n",
       "    <tr style=\"text-align: right;\">\n",
       "      <th></th>\n",
       "      <th>Name</th>\n",
       "      <th>Sex</th>\n",
       "      <th>Ticket</th>\n",
       "      <th>Cabin</th>\n",
       "      <th>Embarked</th>\n",
       "    </tr>\n",
       "  </thead>\n",
       "  <tbody>\n",
       "    <tr>\n",
       "      <th>count</th>\n",
       "      <td>200000</td>\n",
       "      <td>200000</td>\n",
       "      <td>190196</td>\n",
       "      <td>61303</td>\n",
       "      <td>199473</td>\n",
       "    </tr>\n",
       "    <tr>\n",
       "      <th>unique</th>\n",
       "      <td>174854</td>\n",
       "      <td>2</td>\n",
       "      <td>132613</td>\n",
       "      <td>45442</td>\n",
       "      <td>3</td>\n",
       "    </tr>\n",
       "    <tr>\n",
       "      <th>top</th>\n",
       "      <td>Smith, James</td>\n",
       "      <td>male</td>\n",
       "      <td>A/5</td>\n",
       "      <td>C11139</td>\n",
       "      <td>S</td>\n",
       "    </tr>\n",
       "    <tr>\n",
       "      <th>freq</th>\n",
       "      <td>61</td>\n",
       "      <td>125871</td>\n",
       "      <td>646</td>\n",
       "      <td>7</td>\n",
       "      <td>140981</td>\n",
       "    </tr>\n",
       "  </tbody>\n",
       "</table>\n",
       "</div>"
      ],
      "text/plain": [
       "                Name     Sex  Ticket   Cabin Embarked\n",
       "count         200000  200000  190196   61303   199473\n",
       "unique        174854       2  132613   45442        3\n",
       "top     Smith, James    male    A/5   C11139        S\n",
       "freq              61  125871     646       7   140981"
      ]
     },
     "execution_count": 7,
     "metadata": {},
     "output_type": "execute_result"
    }
   ],
   "source": [
    "total_df.describe(include=[object])"
   ]
  },
  {
   "cell_type": "code",
   "execution_count": 8,
   "metadata": {
    "execution": {
     "iopub.execute_input": "2021-04-26T05:59:56.026012Z",
     "iopub.status.busy": "2021-04-26T05:59:55.934277Z",
     "iopub.status.idle": "2021-04-26T05:59:56.518320Z",
     "shell.execute_reply": "2021-04-26T05:59:56.518799Z"
    },
    "papermill": {
     "duration": 0.651651,
     "end_time": "2021-04-26T05:59:56.518971",
     "exception": false,
     "start_time": "2021-04-26T05:59:55.867320",
     "status": "completed"
    },
    "tags": []
   },
   "outputs": [
    {
     "data": {
      "text/html": [
       "<div>\n",
       "<style scoped>\n",
       "    .dataframe tbody tr th:only-of-type {\n",
       "        vertical-align: middle;\n",
       "    }\n",
       "\n",
       "    .dataframe tbody tr th {\n",
       "        vertical-align: top;\n",
       "    }\n",
       "\n",
       "    .dataframe thead th {\n",
       "        text-align: right;\n",
       "    }\n",
       "</style>\n",
       "<table border=\"1\" class=\"dataframe\">\n",
       "  <thead>\n",
       "    <tr style=\"text-align: right;\">\n",
       "      <th></th>\n",
       "      <th>Name</th>\n",
       "      <th>Sex</th>\n",
       "      <th>Ticket</th>\n",
       "      <th>Cabin</th>\n",
       "      <th>Embarked</th>\n",
       "    </tr>\n",
       "  </thead>\n",
       "  <tbody>\n",
       "    <tr>\n",
       "      <th>count</th>\n",
       "      <td>200000</td>\n",
       "      <td>200000</td>\n",
       "      <td>190196</td>\n",
       "      <td>61303</td>\n",
       "      <td>199473</td>\n",
       "    </tr>\n",
       "    <tr>\n",
       "      <th>unique</th>\n",
       "      <td>174854</td>\n",
       "      <td>2</td>\n",
       "      <td>132613</td>\n",
       "      <td>45442</td>\n",
       "      <td>3</td>\n",
       "    </tr>\n",
       "    <tr>\n",
       "      <th>top</th>\n",
       "      <td>Smith, James</td>\n",
       "      <td>male</td>\n",
       "      <td>A/5</td>\n",
       "      <td>C11139</td>\n",
       "      <td>S</td>\n",
       "    </tr>\n",
       "    <tr>\n",
       "      <th>freq</th>\n",
       "      <td>61</td>\n",
       "      <td>125871</td>\n",
       "      <td>646</td>\n",
       "      <td>7</td>\n",
       "      <td>140981</td>\n",
       "    </tr>\n",
       "  </tbody>\n",
       "</table>\n",
       "</div>"
      ],
      "text/plain": [
       "                Name     Sex  Ticket   Cabin Embarked\n",
       "count         200000  200000  190196   61303   199473\n",
       "unique        174854       2  132613   45442        3\n",
       "top     Smith, James    male    A/5   C11139        S\n",
       "freq              61  125871     646       7   140981"
      ]
     },
     "execution_count": 8,
     "metadata": {},
     "output_type": "execute_result"
    }
   ],
   "source": [
    "total_df.describe(include=[object])"
   ]
  },
  {
   "cell_type": "markdown",
   "metadata": {
    "papermill": {
     "duration": 0.060587,
     "end_time": "2021-04-26T05:59:56.641069",
     "exception": false,
     "start_time": "2021-04-26T05:59:56.580482",
     "status": "completed"
    },
    "tags": []
   },
   "source": [
    "<a id=\"check_na\"></a>\n",
    "### (2) Check data for NA\n",
    "- dataset의 feature들을 살펴보고, null data의 여부를 체크해보자"
   ]
  },
  {
   "cell_type": "markdown",
   "metadata": {
    "papermill": {
     "duration": 0.060623,
     "end_time": "2021-04-26T05:59:56.763661",
     "exception": false,
     "start_time": "2021-04-26T05:59:56.703038",
     "status": "completed"
    },
    "tags": []
   },
   "source": [
    "> 종속변수\n",
    "> - **Survived(생존여부)**: target label (1,0) -> integer \n",
    "\n",
    "> 독립변수\n",
    "> - **PassengerId**: 10000명\n",
    "> - **Pclass(티켓의 클래스)**: Upper(1), Middle(2), Lower(3) -> categorical -> integer\n",
    "> - **Name(이름)**: 탑승자 성명들 \n",
    "> - **Sex(성별)**: Male, Female -> binary -> string\n",
    "> - **Age(나이)**: continuous -> integer\n",
    "> - **SibSp(함께 탑승한 형제와 배우자의 수)**: quantitative -> integer \n",
    "> - **Parch(함께 탑승한 부모, 아이의 수)**: quantitative -> integer\n",
    "> - **Ticket(티켓 번호)**: alphabet + integer -> string\n",
    "> - **Fare(탑승료)**: continous -> float\n",
    "> - **Cabin(객실 번호)**: alphabet + integer -> string\n",
    "> - **Embarked(탑승항구)**: C(Cherbourg), Q(Queenstown), S(Southhampton) -> string\n",
    "\n",
    "*references*\n",
    "- [https://kaggle-kr.tistory.com/17](https://kaggle-kr.tistory.com/17)"
   ]
  },
  {
   "cell_type": "code",
   "execution_count": 9,
   "metadata": {
    "execution": {
     "iopub.execute_input": "2021-04-26T05:59:56.892023Z",
     "iopub.status.busy": "2021-04-26T05:59:56.891340Z",
     "iopub.status.idle": "2021-04-26T05:59:56.999958Z",
     "shell.execute_reply": "2021-04-26T05:59:57.000525Z"
    },
    "papermill": {
     "duration": 0.175217,
     "end_time": "2021-04-26T05:59:57.000692",
     "exception": false,
     "start_time": "2021-04-26T05:59:56.825475",
     "status": "completed"
    },
    "tags": []
   },
   "outputs": [
    {
     "name": "stdout",
     "output_type": "stream",
     "text": [
      "<class 'pandas.core.frame.DataFrame'>\n",
      "Int64Index: 200000 entries, 0 to 99999\n",
      "Data columns (total 12 columns):\n",
      " #   Column       Non-Null Count   Dtype  \n",
      "---  ------       --------------   -----  \n",
      " 0   PassengerId  200000 non-null  int64  \n",
      " 1   Survived     100000 non-null  float64\n",
      " 2   Pclass       200000 non-null  int64  \n",
      " 3   Name         200000 non-null  object \n",
      " 4   Sex          200000 non-null  object \n",
      " 5   Age          193221 non-null  float64\n",
      " 6   SibSp        200000 non-null  int64  \n",
      " 7   Parch        200000 non-null  int64  \n",
      " 8   Ticket       190196 non-null  object \n",
      " 9   Fare         199733 non-null  float64\n",
      " 10  Cabin        61303 non-null   object \n",
      " 11  Embarked     199473 non-null  object \n",
      "dtypes: float64(3), int64(4), object(5)\n",
      "memory usage: 19.8+ MB\n"
     ]
    }
   ],
   "source": [
    "total_df.info()"
   ]
  },
  {
   "cell_type": "markdown",
   "metadata": {
    "papermill": {
     "duration": 0.062357,
     "end_time": "2021-04-26T05:59:57.126005",
     "exception": false,
     "start_time": "2021-04-26T05:59:57.063648",
     "status": "completed"
    },
    "tags": []
   },
   "source": [
    "Age, Fare -> numeric variables\\\n",
    "Pclass -> integer but in fact 'categorical variable'"
   ]
  },
  {
   "cell_type": "code",
   "execution_count": 10,
   "metadata": {
    "execution": {
     "iopub.execute_input": "2021-04-26T05:59:57.257402Z",
     "iopub.status.busy": "2021-04-26T05:59:57.256492Z",
     "iopub.status.idle": "2021-04-26T05:59:57.456838Z",
     "shell.execute_reply": "2021-04-26T05:59:57.456335Z"
    },
    "papermill": {
     "duration": 0.268905,
     "end_time": "2021-04-26T05:59:57.456977",
     "exception": false,
     "start_time": "2021-04-26T05:59:57.188072",
     "status": "completed"
    },
    "tags": []
   },
   "outputs": [
    {
     "data": {
      "text/html": [
       "<div>\n",
       "<style scoped>\n",
       "    .dataframe tbody tr th:only-of-type {\n",
       "        vertical-align: middle;\n",
       "    }\n",
       "\n",
       "    .dataframe tbody tr th {\n",
       "        vertical-align: top;\n",
       "    }\n",
       "\n",
       "    .dataframe thead th {\n",
       "        text-align: right;\n",
       "    }\n",
       "</style>\n",
       "<table border=\"1\" class=\"dataframe\">\n",
       "  <thead>\n",
       "    <tr style=\"text-align: right;\">\n",
       "      <th></th>\n",
       "      <th>Train NA</th>\n",
       "      <th>Test NA</th>\n",
       "      <th>Total NA</th>\n",
       "    </tr>\n",
       "  </thead>\n",
       "  <tbody>\n",
       "    <tr>\n",
       "      <th>PassengerId</th>\n",
       "      <td>0</td>\n",
       "      <td>0.0</td>\n",
       "      <td>0</td>\n",
       "    </tr>\n",
       "    <tr>\n",
       "      <th>Survived</th>\n",
       "      <td>0</td>\n",
       "      <td>NaN</td>\n",
       "      <td>100000</td>\n",
       "    </tr>\n",
       "    <tr>\n",
       "      <th>Pclass</th>\n",
       "      <td>0</td>\n",
       "      <td>0.0</td>\n",
       "      <td>0</td>\n",
       "    </tr>\n",
       "    <tr>\n",
       "      <th>Name</th>\n",
       "      <td>0</td>\n",
       "      <td>0.0</td>\n",
       "      <td>0</td>\n",
       "    </tr>\n",
       "    <tr>\n",
       "      <th>Sex</th>\n",
       "      <td>0</td>\n",
       "      <td>0.0</td>\n",
       "      <td>0</td>\n",
       "    </tr>\n",
       "    <tr>\n",
       "      <th>Age</th>\n",
       "      <td>3292</td>\n",
       "      <td>3487.0</td>\n",
       "      <td>6779</td>\n",
       "    </tr>\n",
       "    <tr>\n",
       "      <th>SibSp</th>\n",
       "      <td>0</td>\n",
       "      <td>0.0</td>\n",
       "      <td>0</td>\n",
       "    </tr>\n",
       "    <tr>\n",
       "      <th>Parch</th>\n",
       "      <td>0</td>\n",
       "      <td>0.0</td>\n",
       "      <td>0</td>\n",
       "    </tr>\n",
       "    <tr>\n",
       "      <th>Ticket</th>\n",
       "      <td>4623</td>\n",
       "      <td>5181.0</td>\n",
       "      <td>9804</td>\n",
       "    </tr>\n",
       "    <tr>\n",
       "      <th>Fare</th>\n",
       "      <td>134</td>\n",
       "      <td>133.0</td>\n",
       "      <td>267</td>\n",
       "    </tr>\n",
       "    <tr>\n",
       "      <th>Cabin</th>\n",
       "      <td>67866</td>\n",
       "      <td>70831.0</td>\n",
       "      <td>138697</td>\n",
       "    </tr>\n",
       "    <tr>\n",
       "      <th>Embarked</th>\n",
       "      <td>250</td>\n",
       "      <td>277.0</td>\n",
       "      <td>527</td>\n",
       "    </tr>\n",
       "  </tbody>\n",
       "</table>\n",
       "</div>"
      ],
      "text/plain": [
       "             Train NA  Test NA  Total NA\n",
       "PassengerId         0      0.0         0\n",
       "Survived            0      NaN    100000\n",
       "Pclass              0      0.0         0\n",
       "Name                0      0.0         0\n",
       "Sex                 0      0.0         0\n",
       "Age              3292   3487.0      6779\n",
       "SibSp               0      0.0         0\n",
       "Parch               0      0.0         0\n",
       "Ticket           4623   5181.0      9804\n",
       "Fare              134    133.0       267\n",
       "Cabin           67866  70831.0    138697\n",
       "Embarked          250    277.0       527"
      ]
     },
     "execution_count": 10,
     "metadata": {},
     "output_type": "execute_result"
    }
   ],
   "source": [
    "total_df_na=total_df.isna().sum()\n",
    "train_na=train.isna().sum()\n",
    "test_na=test.isna().sum()\n",
    "\n",
    "pd.concat([train_na, test_na, total_df_na], axis=1, sort=False, keys=['Train NA','Test NA','Total NA'])"
   ]
  },
  {
   "cell_type": "markdown",
   "metadata": {
    "papermill": {
     "duration": 0.063524,
     "end_time": "2021-04-26T05:59:57.582999",
     "exception": false,
     "start_time": "2021-04-26T05:59:57.519475",
     "status": "completed"
    },
    "tags": []
   },
   "source": [
    "missing data를 handling하기 위해서 EDA에서는 dataset을 합쳤지만, ML에서는 'data leakage'를 피하기 위해서 오직 train data set만 사용할 것이다. "
   ]
  },
  {
   "cell_type": "code",
   "execution_count": 11,
   "metadata": {
    "execution": {
     "iopub.execute_input": "2021-04-26T05:59:57.722383Z",
     "iopub.status.busy": "2021-04-26T05:59:57.721609Z",
     "iopub.status.idle": "2021-04-26T05:59:57.803669Z",
     "shell.execute_reply": "2021-04-26T05:59:57.803101Z"
    },
    "papermill": {
     "duration": 0.157438,
     "end_time": "2021-04-26T05:59:57.803828",
     "exception": false,
     "start_time": "2021-04-26T05:59:57.646390",
     "status": "completed"
    },
    "tags": []
   },
   "outputs": [
    {
     "data": {
      "text/html": [
       "<div>\n",
       "<style scoped>\n",
       "    .dataframe tbody tr th:only-of-type {\n",
       "        vertical-align: middle;\n",
       "    }\n",
       "\n",
       "    .dataframe tbody tr th {\n",
       "        vertical-align: top;\n",
       "    }\n",
       "\n",
       "    .dataframe thead th {\n",
       "        text-align: right;\n",
       "    }\n",
       "</style>\n",
       "<table border=\"1\" class=\"dataframe\">\n",
       "  <thead>\n",
       "    <tr style=\"text-align: right;\">\n",
       "      <th></th>\n",
       "      <th>PassengerId</th>\n",
       "      <th>Survived</th>\n",
       "      <th>Pclass</th>\n",
       "      <th>Age</th>\n",
       "      <th>SibSp</th>\n",
       "      <th>Parch</th>\n",
       "      <th>Fare</th>\n",
       "    </tr>\n",
       "  </thead>\n",
       "  <tbody>\n",
       "    <tr>\n",
       "      <th>count</th>\n",
       "      <td>200000.000000</td>\n",
       "      <td>100000.000000</td>\n",
       "      <td>200000.000000</td>\n",
       "      <td>193221.000000</td>\n",
       "      <td>200000.000000</td>\n",
       "      <td>200000.000000</td>\n",
       "      <td>199733.000000</td>\n",
       "    </tr>\n",
       "    <tr>\n",
       "      <th>mean</th>\n",
       "      <td>99999.500000</td>\n",
       "      <td>0.427740</td>\n",
       "      <td>2.237920</td>\n",
       "      <td>34.464565</td>\n",
       "      <td>0.442120</td>\n",
       "      <td>0.473695</td>\n",
       "      <td>44.652071</td>\n",
       "    </tr>\n",
       "    <tr>\n",
       "      <th>std</th>\n",
       "      <td>57735.171256</td>\n",
       "      <td>0.494753</td>\n",
       "      <td>0.868273</td>\n",
       "      <td>16.783847</td>\n",
       "      <td>0.819392</td>\n",
       "      <td>0.937125</td>\n",
       "      <td>67.436104</td>\n",
       "    </tr>\n",
       "    <tr>\n",
       "      <th>min</th>\n",
       "      <td>0.000000</td>\n",
       "      <td>0.000000</td>\n",
       "      <td>1.000000</td>\n",
       "      <td>0.080000</td>\n",
       "      <td>0.000000</td>\n",
       "      <td>0.000000</td>\n",
       "      <td>0.050000</td>\n",
       "    </tr>\n",
       "    <tr>\n",
       "      <th>25%</th>\n",
       "      <td>49999.750000</td>\n",
       "      <td>0.000000</td>\n",
       "      <td>1.000000</td>\n",
       "      <td>22.000000</td>\n",
       "      <td>0.000000</td>\n",
       "      <td>0.000000</td>\n",
       "      <td>10.080000</td>\n",
       "    </tr>\n",
       "    <tr>\n",
       "      <th>50%</th>\n",
       "      <td>99999.500000</td>\n",
       "      <td>0.000000</td>\n",
       "      <td>3.000000</td>\n",
       "      <td>31.000000</td>\n",
       "      <td>0.000000</td>\n",
       "      <td>0.000000</td>\n",
       "      <td>20.250000</td>\n",
       "    </tr>\n",
       "    <tr>\n",
       "      <th>75%</th>\n",
       "      <td>149999.250000</td>\n",
       "      <td>1.000000</td>\n",
       "      <td>3.000000</td>\n",
       "      <td>48.000000</td>\n",
       "      <td>1.000000</td>\n",
       "      <td>1.000000</td>\n",
       "      <td>34.850000</td>\n",
       "    </tr>\n",
       "    <tr>\n",
       "      <th>max</th>\n",
       "      <td>199999.000000</td>\n",
       "      <td>1.000000</td>\n",
       "      <td>3.000000</td>\n",
       "      <td>87.000000</td>\n",
       "      <td>8.000000</td>\n",
       "      <td>9.000000</td>\n",
       "      <td>744.660000</td>\n",
       "    </tr>\n",
       "  </tbody>\n",
       "</table>\n",
       "</div>"
      ],
      "text/plain": [
       "         PassengerId       Survived         Pclass            Age  \\\n",
       "count  200000.000000  100000.000000  200000.000000  193221.000000   \n",
       "mean    99999.500000       0.427740       2.237920      34.464565   \n",
       "std     57735.171256       0.494753       0.868273      16.783847   \n",
       "min         0.000000       0.000000       1.000000       0.080000   \n",
       "25%     49999.750000       0.000000       1.000000      22.000000   \n",
       "50%     99999.500000       0.000000       3.000000      31.000000   \n",
       "75%    149999.250000       1.000000       3.000000      48.000000   \n",
       "max    199999.000000       1.000000       3.000000      87.000000   \n",
       "\n",
       "               SibSp          Parch           Fare  \n",
       "count  200000.000000  200000.000000  199733.000000  \n",
       "mean        0.442120       0.473695      44.652071  \n",
       "std         0.819392       0.937125      67.436104  \n",
       "min         0.000000       0.000000       0.050000  \n",
       "25%         0.000000       0.000000      10.080000  \n",
       "50%         0.000000       0.000000      20.250000  \n",
       "75%         1.000000       1.000000      34.850000  \n",
       "max         8.000000       9.000000     744.660000  "
      ]
     },
     "execution_count": 11,
     "metadata": {},
     "output_type": "execute_result"
    }
   ],
   "source": [
    "total_df.describe()"
   ]
  },
  {
   "cell_type": "markdown",
   "metadata": {
    "papermill": {
     "duration": 0.06306,
     "end_time": "2021-04-26T05:59:57.930587",
     "exception": false,
     "start_time": "2021-04-26T05:59:57.867527",
     "status": "completed"
    },
    "tags": []
   },
   "source": [
    "<a id=\"survived\"></a>\n",
    "### (1) Survived\n",
    "- train set에서 survived의 0,1 분포가 어떤지 확인해보겠습니다. \n",
    "- 분포에 따라 모델의 평가 방법이 달라질 수 있습니다. "
   ]
  },
  {
   "cell_type": "code",
   "execution_count": 12,
   "metadata": {
    "execution": {
     "iopub.execute_input": "2021-04-26T05:59:58.069281Z",
     "iopub.status.busy": "2021-04-26T05:59:58.067881Z",
     "iopub.status.idle": "2021-04-26T05:59:58.263242Z",
     "shell.execute_reply": "2021-04-26T05:59:58.263742Z"
    },
    "papermill": {
     "duration": 0.26993,
     "end_time": "2021-04-26T05:59:58.263912",
     "exception": false,
     "start_time": "2021-04-26T05:59:57.993982",
     "status": "completed"
    },
    "tags": []
   },
   "outputs": [
    {
     "data": {
      "image/png": "[encoded data removed]",
      "text/plain": [
       "<Figure size 432x324 with 1 Axes>"
      ]
     },
     "metadata": {
      "needs_background": "light"
     },
     "output_type": "display_data"
    }
   ],
   "source": [
    "plt.figure(figsize=(6, 4.5))\n",
    "\n",
    "ax= sb.countplot(x='Survived', data=total_df, palette=['#4287f5','#7cd91e'])\n",
    "\n",
    "plt.xticks(np.arange(2), ['Drowned','Survived'])\n",
    "plt.title('Overall survival', fontsize=14)\n",
    "plt.xlabel('Survived vs Drowned')\n",
    "plt.ylabel('Number of Passendgers')\n",
    "\n",
    "labels=(total_df['Survived'].value_counts())\n",
    "\n",
    "for i,v in enumerate(labels):\n",
    "    ax.text(i, v-40, str(v), horizontalalignment='center', size=14, color='w', fontweight='bold')\n",
    "    \n",
    "plt.show()"
   ]
  },
  {
   "cell_type": "code",
   "execution_count": 13,
   "metadata": {
    "execution": {
     "iopub.execute_input": "2021-04-26T05:59:58.395739Z",
     "iopub.status.busy": "2021-04-26T05:59:58.394978Z",
     "iopub.status.idle": "2021-04-26T05:59:58.405010Z",
     "shell.execute_reply": "2021-04-26T05:59:58.405539Z"
    },
    "papermill": {
     "duration": 0.077607,
     "end_time": "2021-04-26T05:59:58.405707",
     "exception": false,
     "start_time": "2021-04-26T05:59:58.328100",
     "status": "completed"
    },
    "tags": []
   },
   "outputs": [
    {
     "data": {
      "text/plain": [
       "0.0    0.57226\n",
       "1.0    0.42774\n",
       "Name: Survived, dtype: float64"
      ]
     },
     "execution_count": 13,
     "metadata": {},
     "output_type": "execute_result"
    }
   ],
   "source": [
    "total_df['Survived'].value_counts(normalize=True)"
   ]
  },
  {
   "cell_type": "markdown",
   "metadata": {
    "papermill": {
     "duration": 0.064236,
     "end_time": "2021-04-26T05:59:58.535559",
     "exception": false,
     "start_time": "2021-04-26T05:59:58.471323",
     "status": "completed"
    },
    "tags": []
   },
   "source": [
    "<a id=\"independent_variables\"></a>\n",
    "### (2) Independent Variables \n",
    "> *references*\n",
    "> - [https://wikidocs.net/75068](https://wikidocs.net/75068)"
   ]
  },
  {
   "cell_type": "markdown",
   "metadata": {
    "papermill": {
     "duration": 0.064354,
     "end_time": "2021-04-26T05:59:58.664437",
     "exception": false,
     "start_time": "2021-04-26T05:59:58.600083",
     "status": "completed"
    },
    "tags": []
   },
   "source": [
    "#### 1) Age\n",
    "6779 : age missing values\n",
    "- 3292 : train dataset\n",
    "- 3487 : test dataset"
   ]
  },
  {
   "cell_type": "code",
   "execution_count": 14,
   "metadata": {
    "execution": {
     "iopub.execute_input": "2021-04-26T05:59:58.797355Z",
     "iopub.status.busy": "2021-04-26T05:59:58.796725Z",
     "iopub.status.idle": "2021-04-26T06:00:00.186932Z",
     "shell.execute_reply": "2021-04-26T06:00:00.187403Z"
    },
    "papermill": {
     "duration": 1.458084,
     "end_time": "2021-04-26T06:00:00.187575",
     "exception": false,
     "start_time": "2021-04-26T05:59:58.729491",
     "status": "completed"
    },
    "tags": []
   },
   "outputs": [
    {
     "name": "stderr",
     "output_type": "stream",
     "text": [
      "/opt/conda/lib/python3.7/site-packages/seaborn/distributions.py:2557: FutureWarning: `distplot` is a deprecated function and will be removed in a future version. Please adapt your code to use either `displot` (a figure-level function with similar flexibility) or `histplot` (an axes-level function for histograms).\n",
      "  warnings.warn(msg, FutureWarning)\n"
     ]
    },
    {
     "data": {
      "image/png": "[encoded data removed]",
      "text/plain": [
       "<Figure size 1080x216 with 1 Axes>"
      ]
     },
     "metadata": {
      "needs_background": "light"
     },
     "output_type": "display_data"
    }
   ],
   "source": [
    "plt.figure(figsize=(15,3))\n",
    "\n",
    "sb.distplot(total_df[(total_df['Age']>0)].Age, kde_kws={'lw':3}, bins=50)\n",
    "\n",
    "plt.title('Distribution of passengers age (total data)', fontsize=14)\n",
    "plt.xlabel('Age')\n",
    "plt.ylabel('Frequency')\n",
    "\n",
    "plt.tight_layout()"
   ]
  },
  {
   "cell_type": "code",
   "execution_count": 15,
   "metadata": {
    "execution": {
     "iopub.execute_input": "2021-04-26T06:00:00.324077Z",
     "iopub.status.busy": "2021-04-26T06:00:00.323083Z",
     "iopub.status.idle": "2021-04-26T06:00:00.353328Z",
     "shell.execute_reply": "2021-04-26T06:00:00.353810Z"
    },
    "papermill": {
     "duration": 0.100238,
     "end_time": "2021-04-26T06:00:00.354004",
     "exception": false,
     "start_time": "2021-04-26T06:00:00.253766",
     "status": "completed"
    },
    "tags": []
   },
   "outputs": [
    {
     "data": {
      "text/html": [
       "<div>\n",
       "<style scoped>\n",
       "    .dataframe tbody tr th:only-of-type {\n",
       "        vertical-align: middle;\n",
       "    }\n",
       "\n",
       "    .dataframe tbody tr th {\n",
       "        vertical-align: top;\n",
       "    }\n",
       "\n",
       "    .dataframe thead th {\n",
       "        text-align: right;\n",
       "    }\n",
       "</style>\n",
       "<table border=\"1\" class=\"dataframe\">\n",
       "  <thead>\n",
       "    <tr style=\"text-align: right;\">\n",
       "      <th></th>\n",
       "      <th>count</th>\n",
       "      <th>mean</th>\n",
       "      <th>std</th>\n",
       "      <th>min</th>\n",
       "      <th>25%</th>\n",
       "      <th>50%</th>\n",
       "      <th>75%</th>\n",
       "      <th>max</th>\n",
       "    </tr>\n",
       "  </thead>\n",
       "  <tbody>\n",
       "    <tr>\n",
       "      <th>Age</th>\n",
       "      <td>193221.0</td>\n",
       "      <td>34.464565</td>\n",
       "      <td>16.783847</td>\n",
       "      <td>0.08</td>\n",
       "      <td>22.0</td>\n",
       "      <td>31.0</td>\n",
       "      <td>48.0</td>\n",
       "      <td>87.0</td>\n",
       "    </tr>\n",
       "  </tbody>\n",
       "</table>\n",
       "</div>"
      ],
      "text/plain": [
       "        count       mean        std   min   25%   50%   75%   max\n",
       "Age  193221.0  34.464565  16.783847  0.08  22.0  31.0  48.0  87.0"
      ]
     },
     "execution_count": 15,
     "metadata": {},
     "output_type": "execute_result"
    }
   ],
   "source": [
    "age_distr= pd.DataFrame(total_df['Age'].describe())\n",
    "age_distr.transpose()"
   ]
  },
  {
   "cell_type": "markdown",
   "metadata": {
    "papermill": {
     "duration": 0.066313,
     "end_time": "2021-04-26T06:00:00.487086",
     "exception": false,
     "start_time": "2021-04-26T06:00:00.420773",
     "status": "completed"
    },
    "tags": []
   },
   "source": [
    "0.08세 ~ 87세까지 다양하게 나이대가 있으며 mean=34.46세 이다. "
   ]
  },
  {
   "cell_type": "markdown",
   "metadata": {
    "papermill": {
     "duration": 0.066386,
     "end_time": "2021-04-26T06:00:00.620287",
     "exception": false,
     "start_time": "2021-04-26T06:00:00.553901",
     "status": "completed"
    },
    "tags": []
   },
   "source": [
    "### 1-1) Age by surviving status"
   ]
  },
  {
   "cell_type": "code",
   "execution_count": 16,
   "metadata": {
    "execution": {
     "iopub.execute_input": "2021-04-26T06:00:00.759212Z",
     "iopub.status.busy": "2021-04-26T06:00:00.758221Z",
     "iopub.status.idle": "2021-04-26T06:00:02.697573Z",
     "shell.execute_reply": "2021-04-26T06:00:02.697005Z"
    },
    "papermill": {
     "duration": 2.010576,
     "end_time": "2021-04-26T06:00:02.697713",
     "exception": false,
     "start_time": "2021-04-26T06:00:00.687137",
     "status": "completed"
    },
    "tags": []
   },
   "outputs": [
    {
     "data": {
      "image/png": "[encoded data removed]",
      "text/plain": [
       "<Figure size 1080x216 with 1 Axes>"
      ]
     },
     "metadata": {
      "needs_background": "light"
     },
     "output_type": "display_data"
    }
   ],
   "source": [
    "plt.figure(figsize=(15,3))\n",
    "\n",
    "sb.boxplot(y='Survived', x='Age', data=train, palette=['#4287f5','#7cd91e'], fliersize=0, orient='h')\n",
    "\n",
    "sb.stripplot(y='Survived',x='Age', data=train, linewidth=0.6, palette=['#4287f5','#7cd91e'], orient='h')\n",
    "plt.yticks(np.arange(2), ['Drowned','Survived'])\n",
    "plt.title('Age distribution grouped by survivng status (train data)', fontsize=14)\n",
    "plt.ylabel('Passengers status after the tragedy')\n",
    "plt.tight_layout()"
   ]
  },
  {
   "cell_type": "code",
   "execution_count": 17,
   "metadata": {
    "execution": {
     "iopub.execute_input": "2021-04-26T06:00:02.847481Z",
     "iopub.status.busy": "2021-04-26T06:00:02.846751Z",
     "iopub.status.idle": "2021-04-26T06:00:02.889224Z",
     "shell.execute_reply": "2021-04-26T06:00:02.889746Z"
    },
    "papermill": {
     "duration": 0.119319,
     "end_time": "2021-04-26T06:00:02.889917",
     "exception": false,
     "start_time": "2021-04-26T06:00:02.770598",
     "status": "completed"
    },
    "tags": []
   },
   "outputs": [
    {
     "data": {
      "text/html": [
       "<div>\n",
       "<style scoped>\n",
       "    .dataframe tbody tr th:only-of-type {\n",
       "        vertical-align: middle;\n",
       "    }\n",
       "\n",
       "    .dataframe tbody tr th {\n",
       "        vertical-align: top;\n",
       "    }\n",
       "\n",
       "    .dataframe thead th {\n",
       "        text-align: right;\n",
       "    }\n",
       "</style>\n",
       "<table border=\"1\" class=\"dataframe\">\n",
       "  <thead>\n",
       "    <tr style=\"text-align: right;\">\n",
       "      <th></th>\n",
       "      <th>count</th>\n",
       "      <th>mean</th>\n",
       "      <th>std</th>\n",
       "      <th>min</th>\n",
       "      <th>25%</th>\n",
       "      <th>50%</th>\n",
       "      <th>75%</th>\n",
       "      <th>max</th>\n",
       "    </tr>\n",
       "    <tr>\n",
       "      <th>Survived</th>\n",
       "      <th></th>\n",
       "      <th></th>\n",
       "      <th></th>\n",
       "      <th></th>\n",
       "      <th></th>\n",
       "      <th></th>\n",
       "      <th></th>\n",
       "      <th></th>\n",
       "    </tr>\n",
       "  </thead>\n",
       "  <tbody>\n",
       "    <tr>\n",
       "      <th>0.0</th>\n",
       "      <td>55290.0</td>\n",
       "      <td>36.708695</td>\n",
       "      <td>17.809058</td>\n",
       "      <td>0.08</td>\n",
       "      <td>24.0</td>\n",
       "      <td>36.0</td>\n",
       "      <td>52.0</td>\n",
       "      <td>83.0</td>\n",
       "    </tr>\n",
       "    <tr>\n",
       "      <th>1.0</th>\n",
       "      <td>41418.0</td>\n",
       "      <td>40.553799</td>\n",
       "      <td>18.742172</td>\n",
       "      <td>0.08</td>\n",
       "      <td>27.0</td>\n",
       "      <td>43.0</td>\n",
       "      <td>55.0</td>\n",
       "      <td>87.0</td>\n",
       "    </tr>\n",
       "  </tbody>\n",
       "</table>\n",
       "</div>"
      ],
      "text/plain": [
       "            count       mean        std   min   25%   50%   75%   max\n",
       "Survived                                                             \n",
       "0.0       55290.0  36.708695  17.809058  0.08  24.0  36.0  52.0  83.0\n",
       "1.0       41418.0  40.553799  18.742172  0.08  27.0  43.0  55.0  87.0"
      ]
     },
     "execution_count": 17,
     "metadata": {},
     "output_type": "execute_result"
    }
   ],
   "source": [
    "pd.DataFrame(total_df.groupby('Survived')['Age'].describe())"
   ]
  },
  {
   "cell_type": "markdown",
   "metadata": {
    "papermill": {
     "duration": 0.07187,
     "end_time": "2021-04-26T06:00:03.033646",
     "exception": false,
     "start_time": "2021-04-26T06:00:02.961776",
     "status": "completed"
    },
    "tags": []
   },
   "source": [
    "### 1-2) Age by Pclass"
   ]
  },
  {
   "cell_type": "code",
   "execution_count": 18,
   "metadata": {
    "execution": {
     "iopub.execute_input": "2021-04-26T06:00:03.181967Z",
     "iopub.status.busy": "2021-04-26T06:00:03.181011Z",
     "iopub.status.idle": "2021-04-26T06:00:04.868207Z",
     "shell.execute_reply": "2021-04-26T06:00:04.868713Z"
    },
    "papermill": {
     "duration": 1.762253,
     "end_time": "2021-04-26T06:00:04.868895",
     "exception": false,
     "start_time": "2021-04-26T06:00:03.106642",
     "status": "completed"
    },
    "tags": []
   },
   "outputs": [
    {
     "data": {
      "image/png": "[encoded data removed]",
      "text/plain": [
       "<Figure size 1440x432 with 2 Axes>"
      ]
     },
     "metadata": {
      "needs_background": "light"
     },
     "output_type": "display_data"
    }
   ],
   "source": [
    "plt.figure(figsize=(20,6))\n",
    "\n",
    "palette=sb.cubehelix_palette(5, start=3)\n",
    "\n",
    "plt.subplot(1,2,1)\n",
    "sb.boxplot(x='Pclass', y='Age', data=total_df, palette=palette, fliersize=0)\n",
    "\n",
    "plt.xticks(np.arange(3), ['1st class','2nd class','3rd class'])\n",
    "plt.title('Age distribution grouped by ticket class (total data)', fontsize=16)\n",
    "plt.xlabel('Ticket class')\n",
    "\n",
    "plt.subplot(1,2,2)\n",
    "\n",
    "age_1_class = total_df[(total_df['Age']>0)&(total_df['Pclass']==1)]\n",
    "age_2_class = total_df[(total_df['Age']>0)&(total_df['Pclass']==2)]\n",
    "age_3_class = total_df[(total_df['Age']>0)&(total_df['Pclass']==3)]\n",
    "\n",
    "# Ploting the 3 variables that we create\n",
    "sb.kdeplot(age_1_class[\"Age\"], shade=True, color='#eed4d0', label = '1st class')\n",
    "sb.kdeplot(age_2_class[\"Age\"], shade=True,  color='#cda0aa', label = '2nd class')\n",
    "sb.kdeplot(age_3_class[\"Age\"], shade=True,color='#a2708e', label = '3rd class')\n",
    "plt.title('Age distribution grouped by ticket class (total data)',fontsize= 16)\n",
    "plt.xlabel('Age')\n",
    "plt.xlim(0, 90)\n",
    "plt.tight_layout()\n",
    "plt.show()"
   ]
  },
  {
   "cell_type": "code",
   "execution_count": 19,
   "metadata": {
    "execution": {
     "iopub.execute_input": "2021-04-26T06:00:05.021525Z",
     "iopub.status.busy": "2021-04-26T06:00:05.020736Z",
     "iopub.status.idle": "2021-04-26T06:00:05.066178Z",
     "shell.execute_reply": "2021-04-26T06:00:05.066701Z"
    },
    "papermill": {
     "duration": 0.124309,
     "end_time": "2021-04-26T06:00:05.066871",
     "exception": false,
     "start_time": "2021-04-26T06:00:04.942562",
     "status": "completed"
    },
    "tags": []
   },
   "outputs": [
    {
     "data": {
      "text/html": [
       "<div>\n",
       "<style scoped>\n",
       "    .dataframe tbody tr th:only-of-type {\n",
       "        vertical-align: middle;\n",
       "    }\n",
       "\n",
       "    .dataframe tbody tr th {\n",
       "        vertical-align: top;\n",
       "    }\n",
       "\n",
       "    .dataframe thead th {\n",
       "        text-align: right;\n",
       "    }\n",
       "</style>\n",
       "<table border=\"1\" class=\"dataframe\">\n",
       "  <thead>\n",
       "    <tr style=\"text-align: right;\">\n",
       "      <th></th>\n",
       "      <th>count</th>\n",
       "      <th>mean</th>\n",
       "      <th>std</th>\n",
       "      <th>min</th>\n",
       "      <th>25%</th>\n",
       "      <th>50%</th>\n",
       "      <th>75%</th>\n",
       "      <th>max</th>\n",
       "    </tr>\n",
       "    <tr>\n",
       "      <th>Pclass</th>\n",
       "      <th></th>\n",
       "      <th></th>\n",
       "      <th></th>\n",
       "      <th></th>\n",
       "      <th></th>\n",
       "      <th></th>\n",
       "      <th></th>\n",
       "      <th></th>\n",
       "    </tr>\n",
       "  </thead>\n",
       "  <tbody>\n",
       "    <tr>\n",
       "      <th>1</th>\n",
       "      <td>55365.0</td>\n",
       "      <td>40.672757</td>\n",
       "      <td>14.715634</td>\n",
       "      <td>0.08</td>\n",
       "      <td>28.0</td>\n",
       "      <td>41.0</td>\n",
       "      <td>52.0</td>\n",
       "      <td>83.0</td>\n",
       "    </tr>\n",
       "    <tr>\n",
       "      <th>2</th>\n",
       "      <td>36606.0</td>\n",
       "      <td>36.855067</td>\n",
       "      <td>18.470623</td>\n",
       "      <td>0.08</td>\n",
       "      <td>23.0</td>\n",
       "      <td>35.0</td>\n",
       "      <td>52.0</td>\n",
       "      <td>87.0</td>\n",
       "    </tr>\n",
       "    <tr>\n",
       "      <th>3</th>\n",
       "      <td>101250.0</td>\n",
       "      <td>30.205570</td>\n",
       "      <td>15.954521</td>\n",
       "      <td>0.08</td>\n",
       "      <td>20.0</td>\n",
       "      <td>26.0</td>\n",
       "      <td>41.0</td>\n",
       "      <td>85.0</td>\n",
       "    </tr>\n",
       "  </tbody>\n",
       "</table>\n",
       "</div>"
      ],
      "text/plain": [
       "           count       mean        std   min   25%   50%   75%   max\n",
       "Pclass                                                              \n",
       "1        55365.0  40.672757  14.715634  0.08  28.0  41.0  52.0  83.0\n",
       "2        36606.0  36.855067  18.470623  0.08  23.0  35.0  52.0  87.0\n",
       "3       101250.0  30.205570  15.954521  0.08  20.0  26.0  41.0  85.0"
      ]
     },
     "execution_count": 19,
     "metadata": {},
     "output_type": "execute_result"
    }
   ],
   "source": [
    "pd.DataFrame(total_df.groupby('Pclass')['Age'].describe())"
   ]
  },
  {
   "cell_type": "markdown",
   "metadata": {
    "papermill": {
     "duration": 0.074432,
     "end_time": "2021-04-26T06:00:05.217277",
     "exception": false,
     "start_time": "2021-04-26T06:00:05.142845",
     "status": "completed"
    },
    "tags": []
   },
   "source": [
    "2nd 클래스는 1st, 3rd 클래스에 비해 더 넓은 분포를 가진다. 또한 거의 대칭 적이다.\\\n",
    "가장 나이가 적은 passenger은 1,2,3 등급 동일한 나이인 0.08세이다. \\\n",
    "가장 나이가 많은 passenger은 2nd 클래스의 87세이다.\n",
    "\n",
    "3rd 클래스 mean age= 30.2세\\\n",
    "2nd 클래스 mean age= 36.9세\\\n",
    "1st 클래스 mean age= 40.7세"
   ]
  },
  {
   "cell_type": "markdown",
   "metadata": {
    "papermill": {
     "duration": 0.073346,
     "end_time": "2021-04-26T06:00:05.364681",
     "exception": false,
     "start_time": "2021-04-26T06:00:05.291335",
     "status": "completed"
    },
    "tags": []
   },
   "source": [
    "### 1-3) Age vs Pclass vs Sex"
   ]
  },
  {
   "cell_type": "code",
   "execution_count": 20,
   "metadata": {
    "execution": {
     "iopub.execute_input": "2021-04-26T06:00:05.515831Z",
     "iopub.status.busy": "2021-04-26T06:00:05.514864Z",
     "iopub.status.idle": "2021-04-26T06:00:06.154862Z",
     "shell.execute_reply": "2021-04-26T06:00:06.155340Z"
    },
    "papermill": {
     "duration": 0.717055,
     "end_time": "2021-04-26T06:00:06.155516",
     "exception": false,
     "start_time": "2021-04-26T06:00:05.438461",
     "status": "completed"
    },
    "tags": []
   },
   "outputs": [
    {
     "data": {
      "image/png": "[encoded data removed]",
      "text/plain": [
       "<Figure size 1440x360 with 3 Axes>"
      ]
     },
     "metadata": {
      "needs_background": "light"
     },
     "output_type": "display_data"
    }
   ],
   "source": [
    "plt.figure(figsize=(20, 5))\n",
    "palette = \"Set3\"\n",
    "\n",
    "plt.subplot(1, 3, 1)\n",
    "sb.boxplot(x = 'Sex', y = 'Age', data = age_1_class,\n",
    "     palette = palette, fliersize = 0)\n",
    "#sb.stripplot(x = 'Sex', y = 'Age', data = age_1_class,linewidth = 0.6, palette = palette)\n",
    "plt.title('1st class Age distribution by Sex',fontsize= 14)\n",
    "plt.ylim(-5, 80)\n",
    "\n",
    "plt.subplot(1, 3, 2)\n",
    "sb.boxplot(x = 'Sex', y = 'Age', data = age_2_class,\n",
    "     palette = palette, fliersize = 0)\n",
    "#sb.stripplot(x = 'Sex', y = 'Age', data = age_2_class,linewidth = 0.6, palette = palette)\n",
    "plt.title('2nd class Age distribution by Sex',fontsize= 14)\n",
    "plt.ylim(-5, 80)\n",
    "\n",
    "plt.subplot(1, 3, 3)\n",
    "sb.boxplot(x = 'Sex', y = 'Age',  data = age_3_class,\n",
    "     order = ['female', 'male'], palette = palette, fliersize = 0)\n",
    "#sb.stripplot(x = 'Sex', y = 'Age', data = age_3_class,order = ['female', 'male'], linewidth = 0.6, palette = palette)\n",
    "plt.title('3rd class Age distribution by Sex',fontsize= 14)\n",
    "plt.ylim(-5, 80)\n",
    "\n",
    "plt.show()"
   ]
  },
  {
   "cell_type": "code",
   "execution_count": 21,
   "metadata": {
    "execution": {
     "iopub.execute_input": "2021-04-26T06:00:06.308800Z",
     "iopub.status.busy": "2021-04-26T06:00:06.308134Z",
     "iopub.status.idle": "2021-04-26T06:00:06.379393Z",
     "shell.execute_reply": "2021-04-26T06:00:06.379890Z"
    },
    "papermill": {
     "duration": 0.149963,
     "end_time": "2021-04-26T06:00:06.380064",
     "exception": false,
     "start_time": "2021-04-26T06:00:06.230101",
     "status": "completed"
    },
    "tags": []
   },
   "outputs": [
    {
     "data": {
      "text/html": [
       "<div>\n",
       "<style scoped>\n",
       "    .dataframe tbody tr th:only-of-type {\n",
       "        vertical-align: middle;\n",
       "    }\n",
       "\n",
       "    .dataframe tbody tr th {\n",
       "        vertical-align: top;\n",
       "    }\n",
       "\n",
       "    .dataframe thead th {\n",
       "        text-align: right;\n",
       "    }\n",
       "</style>\n",
       "<table border=\"1\" class=\"dataframe\">\n",
       "  <thead>\n",
       "    <tr style=\"text-align: right;\">\n",
       "      <th></th>\n",
       "      <th></th>\n",
       "      <th>count</th>\n",
       "      <th>mean</th>\n",
       "      <th>std</th>\n",
       "      <th>min</th>\n",
       "      <th>25%</th>\n",
       "      <th>50%</th>\n",
       "      <th>75%</th>\n",
       "      <th>max</th>\n",
       "    </tr>\n",
       "    <tr>\n",
       "      <th></th>\n",
       "      <th>Sex</th>\n",
       "      <th></th>\n",
       "      <th></th>\n",
       "      <th></th>\n",
       "      <th></th>\n",
       "      <th></th>\n",
       "      <th></th>\n",
       "      <th></th>\n",
       "      <th></th>\n",
       "    </tr>\n",
       "  </thead>\n",
       "  <tbody>\n",
       "    <tr>\n",
       "      <th rowspan=\"2\" valign=\"top\">1st</th>\n",
       "      <th>female</th>\n",
       "      <td>25790.0</td>\n",
       "      <td>41.974173</td>\n",
       "      <td>15.253798</td>\n",
       "      <td>0.08</td>\n",
       "      <td>29.0</td>\n",
       "      <td>43.0</td>\n",
       "      <td>54.0</td>\n",
       "      <td>83.0</td>\n",
       "    </tr>\n",
       "    <tr>\n",
       "      <th>male</th>\n",
       "      <td>29575.0</td>\n",
       "      <td>39.537896</td>\n",
       "      <td>14.132517</td>\n",
       "      <td>0.08</td>\n",
       "      <td>28.0</td>\n",
       "      <td>39.0</td>\n",
       "      <td>51.0</td>\n",
       "      <td>80.0</td>\n",
       "    </tr>\n",
       "    <tr>\n",
       "      <th rowspan=\"2\" valign=\"top\">2nd</th>\n",
       "      <th>female</th>\n",
       "      <td>17554.0</td>\n",
       "      <td>37.283031</td>\n",
       "      <td>20.558883</td>\n",
       "      <td>0.08</td>\n",
       "      <td>22.0</td>\n",
       "      <td>36.0</td>\n",
       "      <td>55.0</td>\n",
       "      <td>87.0</td>\n",
       "    </tr>\n",
       "    <tr>\n",
       "      <th>male</th>\n",
       "      <td>19052.0</td>\n",
       "      <td>36.460753</td>\n",
       "      <td>16.302224</td>\n",
       "      <td>0.08</td>\n",
       "      <td>24.0</td>\n",
       "      <td>34.0</td>\n",
       "      <td>50.0</td>\n",
       "      <td>85.0</td>\n",
       "    </tr>\n",
       "    <tr>\n",
       "      <th rowspan=\"2\" valign=\"top\">3rd</th>\n",
       "      <th>female</th>\n",
       "      <td>28349.0</td>\n",
       "      <td>27.222629</td>\n",
       "      <td>17.974800</td>\n",
       "      <td>0.08</td>\n",
       "      <td>15.0</td>\n",
       "      <td>24.0</td>\n",
       "      <td>39.0</td>\n",
       "      <td>85.0</td>\n",
       "    </tr>\n",
       "    <tr>\n",
       "      <th>male</th>\n",
       "      <td>72901.0</td>\n",
       "      <td>31.365545</td>\n",
       "      <td>14.936175</td>\n",
       "      <td>0.08</td>\n",
       "      <td>22.0</td>\n",
       "      <td>27.0</td>\n",
       "      <td>41.0</td>\n",
       "      <td>83.0</td>\n",
       "    </tr>\n",
       "  </tbody>\n",
       "</table>\n",
       "</div>"
      ],
      "text/plain": [
       "              count       mean        std   min   25%   50%   75%   max\n",
       "    Sex                                                                \n",
       "1st female  25790.0  41.974173  15.253798  0.08  29.0  43.0  54.0  83.0\n",
       "    male    29575.0  39.537896  14.132517  0.08  28.0  39.0  51.0  80.0\n",
       "2nd female  17554.0  37.283031  20.558883  0.08  22.0  36.0  55.0  87.0\n",
       "    male    19052.0  36.460753  16.302224  0.08  24.0  34.0  50.0  85.0\n",
       "3rd female  28349.0  27.222629  17.974800  0.08  15.0  24.0  39.0  85.0\n",
       "    male    72901.0  31.365545  14.936175  0.08  22.0  27.0  41.0  83.0"
      ]
     },
     "execution_count": 21,
     "metadata": {},
     "output_type": "execute_result"
    }
   ],
   "source": [
    "age_1_class_stat = pd.DataFrame(age_1_class.groupby('Sex')['Age'].describe())\n",
    "age_2_class_stat = pd.DataFrame(age_2_class.groupby('Sex')['Age'].describe())\n",
    "age_3_class_stat = pd.DataFrame(age_3_class.groupby('Sex')['Age'].describe())\n",
    "\n",
    "pd.concat([age_1_class_stat, age_2_class_stat, age_3_class_stat], axis=0, sort = False, keys = ['1st', '2nd', '3rd'])"
   ]
  },
  {
   "cell_type": "markdown",
   "metadata": {
    "papermill": {
     "duration": 0.076306,
     "end_time": "2021-04-26T06:00:06.532881",
     "exception": false,
     "start_time": "2021-04-26T06:00:06.456575",
     "status": "completed"
    },
    "tags": []
   },
   "source": [
    "#### 2) Cabin\n",
    "- 첫번째 코드만 추출함\n",
    "- A: lst class\n",
    "- B\n",
    "- C: 3rd class\n",
    "- D: walking area\n",
    "- E: 1st and 2nd class\n",
    "- F: 2nd class, 2rd class\n",
    "- G: boiler room\n",
    "- T: boat deck\n",
    "- U: Unknown"
   ]
  },
  {
   "cell_type": "code",
   "execution_count": 22,
   "metadata": {
    "execution": {
     "iopub.execute_input": "2021-04-26T06:00:06.688884Z",
     "iopub.status.busy": "2021-04-26T06:00:06.688128Z",
     "iopub.status.idle": "2021-04-26T06:00:07.628440Z",
     "shell.execute_reply": "2021-04-26T06:00:07.628992Z"
    },
    "papermill": {
     "duration": 1.020379,
     "end_time": "2021-04-26T06:00:07.629197",
     "exception": false,
     "start_time": "2021-04-26T06:00:06.608818",
     "status": "completed"
    },
    "tags": []
   },
   "outputs": [],
   "source": [
    "total_df['Cabin']=total_df['Cabin'].str.split('',expand=True)[1]\n",
    "total_df.loc[total_df['Cabin'].isna(), 'Cabin']='X'"
   ]
  },
  {
   "cell_type": "code",
   "execution_count": 23,
   "metadata": {
    "execution": {
     "iopub.execute_input": "2021-04-26T06:00:07.788229Z",
     "iopub.status.busy": "2021-04-26T06:00:07.787552Z",
     "iopub.status.idle": "2021-04-26T06:00:08.903334Z",
     "shell.execute_reply": "2021-04-26T06:00:08.902797Z"
    },
    "papermill": {
     "duration": 1.19609,
     "end_time": "2021-04-26T06:00:08.903493",
     "exception": false,
     "start_time": "2021-04-26T06:00:07.707403",
     "status": "completed"
    },
    "tags": []
   },
   "outputs": [
    {
     "name": "stderr",
     "output_type": "stream",
     "text": [
      "/opt/conda/lib/python3.7/site-packages/pandas/plotting/_matplotlib/tools.py:400: MatplotlibDeprecationWarning: \n",
      "The is_first_col function was deprecated in Matplotlib 3.4 and will be removed two minor releases later. Use ax.get_subplotspec().is_first_col() instead.\n",
      "  if ax.is_first_col():\n"
     ]
    },
    {
     "data": {
      "image/png": "[encoded data removed]",
      "text/plain": [
       "<Figure size 1440x360 with 3 Axes>"
      ]
     },
     "metadata": {
      "needs_background": "light"
     },
     "output_type": "display_data"
    }
   ],
   "source": [
    "fig = plt.figure(figsize=(20, 5))\n",
    "\n",
    "ax1 = fig.add_subplot(131)\n",
    "sb.countplot(x = 'Cabin', data = total_df, palette = \"hls\", order = total_df['Cabin'].value_counts().index, ax = ax1)\n",
    "plt.title('Passengers distribution by Cabin',fontsize= 16)\n",
    "plt.ylabel('Number of passengers')\n",
    "\n",
    "ax2 = fig.add_subplot(132)\n",
    "Cabin_by_class = total_df.groupby('Cabin')['Pclass'].value_counts(normalize = True).unstack()\n",
    "Cabin_by_class.plot(kind='bar', stacked='True',color = ['#eed4d0', '#cda0aa', '#a2708e'], ax = ax2)\n",
    "plt.legend(('1st class', '2nd class', '3rd class'), loc=(1.04,0))\n",
    "plt.title('Proportion of classes on each Cabin',fontsize= 16)\n",
    "plt.xticks(rotation = False)\n",
    "\n",
    "ax3 = fig.add_subplot(133)\n",
    "Cabin_by_survived = total_df.groupby('Cabin')['Survived'].value_counts(normalize = True).unstack()\n",
    "Cabin_by_survived = Cabin_by_survived.sort_values(by = 1, ascending = False)\n",
    "Cabin_by_survived.plot(kind='bar', stacked='True', color=[\"#3f3e6fd1\", \"#85c6a9\"], ax = ax3)\n",
    "plt.title('Proportion of survived/drowned passengers by Cabin',fontsize= 16)\n",
    "plt.legend(( 'Drowned', 'Survived'), loc=(1.04,0))\n",
    "plt.xticks(rotation = False)\n",
    "plt.tight_layout()\n",
    "\n",
    "plt.show()\n"
   ]
  },
  {
   "cell_type": "markdown",
   "metadata": {
    "papermill": {
     "duration": 0.078129,
     "end_time": "2021-04-26T06:00:09.059884",
     "exception": false,
     "start_time": "2021-04-26T06:00:08.981755",
     "status": "completed"
    },
    "tags": []
   },
   "source": [
    "- 대부분의 passengers는 Cabin code가 없다. \n",
    "- Cabin code가 나와있는 승객들 중 가장 많은 수를 차지하는 deck은 'C'이며 lst class ticket이다. 'C' deck은 살아남은 승객들 중 4번째이다. \n",
    "- 가장 많은 생존률을 가진 deck은 'F'이다. \n",
    "- 'A' deck은 lifeboats와 가장 가까운 deck이였지만 생존률은 가장 낮은 확률을 보이고 있다. "
   ]
  },
  {
   "cell_type": "markdown",
   "metadata": {
    "papermill": {
     "duration": 0.077673,
     "end_time": "2021-04-26T06:00:09.216120",
     "exception": false,
     "start_time": "2021-04-26T06:00:09.138447",
     "status": "completed"
    },
    "tags": []
   },
   "source": [
    "### 3) Family\n",
    "- Family size = Sib + Parch +1"
   ]
  },
  {
   "cell_type": "code",
   "execution_count": 24,
   "metadata": {
    "execution": {
     "iopub.execute_input": "2021-04-26T06:00:09.380204Z",
     "iopub.status.busy": "2021-04-26T06:00:09.379514Z",
     "iopub.status.idle": "2021-04-26T06:00:09.389861Z",
     "shell.execute_reply": "2021-04-26T06:00:09.389237Z"
    },
    "papermill": {
     "duration": 0.095265,
     "end_time": "2021-04-26T06:00:09.390009",
     "exception": false,
     "start_time": "2021-04-26T06:00:09.294744",
     "status": "completed"
    },
    "tags": []
   },
   "outputs": [
    {
     "name": "stdout",
     "output_type": "stream",
     "text": [
      "Family size and number of passengers:\n",
      "1     116448\n",
      "2      30139\n",
      "3      25289\n",
      "4      19724\n",
      "5       4151\n",
      "6       2021\n",
      "7       1184\n",
      "10       397\n",
      "11       242\n",
      "8        162\n",
      "9        157\n",
      "14        46\n",
      "12        26\n",
      "13         7\n",
      "18         4\n",
      "15         3\n",
      "Name: Family_size, dtype: int64\n"
     ]
    }
   ],
   "source": [
    "total_df['Family_size']=total_df['SibSp']+total_df['Parch']+1\n",
    "family_size=total_df['Family_size'].value_counts()\n",
    "print('Family size and number of passengers:')\n",
    "print(family_size)"
   ]
  },
  {
   "cell_type": "code",
   "execution_count": 25,
   "metadata": {
    "execution": {
     "iopub.execute_input": "2021-04-26T06:00:09.550358Z",
     "iopub.status.busy": "2021-04-26T06:00:09.549706Z",
     "iopub.status.idle": "2021-04-26T06:00:10.280019Z",
     "shell.execute_reply": "2021-04-26T06:00:10.280543Z"
    },
    "papermill": {
     "duration": 0.811462,
     "end_time": "2021-04-26T06:00:10.280711",
     "exception": false,
     "start_time": "2021-04-26T06:00:09.469249",
     "status": "completed"
    },
    "tags": []
   },
   "outputs": [
    {
     "name": "stderr",
     "output_type": "stream",
     "text": [
      "/opt/conda/lib/python3.7/site-packages/seaborn/_decorators.py:43: FutureWarning: Pass the following variable as a keyword arg: x. From version 0.12, the only valid positional argument will be `data`, and passing other arguments without an explicit keyword will result in an error or misinterpretation.\n",
      "  FutureWarning\n",
      "/opt/conda/lib/python3.7/site-packages/pandas/plotting/_matplotlib/tools.py:400: MatplotlibDeprecationWarning: \n",
      "The is_first_col function was deprecated in Matplotlib 3.4 and will be removed two minor releases later. Use ax.get_subplotspec().is_first_col() instead.\n",
      "  if ax.is_first_col():\n"
     ]
    },
    {
     "data": {
      "image/png": "[encoded data removed]",
      "text/plain": [
       "<Figure size 864x288 with 2 Axes>"
      ]
     },
     "metadata": {
      "needs_background": "light"
     },
     "output_type": "display_data"
    }
   ],
   "source": [
    "fig = plt.figure(figsize = (12,4))\n",
    "\n",
    "ax1 = fig.add_subplot(121)\n",
    "ax = sb.countplot(total_df['Family_size'], ax = ax1)\n",
    "\n",
    "# calculate passengers for each category\n",
    "labels = (total_df['Family_size'].value_counts())\n",
    "# add result numbers on barchart\n",
    "for i, v in enumerate(labels):\n",
    "    ax.text(i, v+6, str(v), horizontalalignment = 'center', size = 10, color = 'black')\n",
    "    \n",
    "plt.title('Passengers distribution by family size')\n",
    "plt.ylabel('Number of passengers')\n",
    "\n",
    "ax2 = fig.add_subplot(122)\n",
    "d = total_df.groupby('Family_size')['Survived'].value_counts(normalize = True).unstack()\n",
    "d.plot(kind='bar', color=[\"#3f3e6fd1\", \"#85c6a9\"], stacked='True', ax = ax2)\n",
    "plt.title('Proportion of survived/drowned passengers by family size (train data)')\n",
    "plt.legend(( 'Drowned', 'Survived'), loc=(1.04,0))\n",
    "plt.xticks(rotation = False)\n",
    "\n",
    "plt.tight_layout()"
   ]
  },
  {
   "cell_type": "markdown",
   "metadata": {
    "papermill": {
     "duration": 0.080015,
     "end_time": "2021-04-26T06:00:10.440668",
     "exception": false,
     "start_time": "2021-04-26T06:00:10.360653",
     "status": "completed"
    },
    "tags": []
   },
   "source": [
    "- family size가 15명인 그룹은 모두 살아남지 못하였다. \n",
    "- 대부분은 혼자 여행하는 사람들이였고, 생존율은 40% 정도 이다. \n",
    "- 가장 높은 생존율을 보이는 family size는 2,3 정도이다. \n",
    "- 4개의 category로 family size group을 나누어보겠다.\n",
    "- single\n",
    "- usual(sizes 2,3,4,5)\n",
    "- big(6,7,8,9)\n",
    "- large(all bigger then 10)"
   ]
  },
  {
   "cell_type": "code",
   "execution_count": 26,
   "metadata": {
    "execution": {
     "iopub.execute_input": "2021-04-26T06:00:10.608917Z",
     "iopub.status.busy": "2021-04-26T06:00:10.606043Z",
     "iopub.status.idle": "2021-04-26T06:00:10.675791Z",
     "shell.execute_reply": "2021-04-26T06:00:10.676288Z"
    },
    "papermill": {
     "duration": 0.155116,
     "end_time": "2021-04-26T06:00:10.676479",
     "exception": false,
     "start_time": "2021-04-26T06:00:10.521363",
     "status": "completed"
    },
    "tags": []
   },
   "outputs": [],
   "source": [
    "total_df['Family_size_group']=total_df['Family_size'].map(lambda x: 'f_single' if x ==1\n",
    "                                                         else('f_usual' if 6>x>=2\n",
    "                                                             else('f_big' if 10>x>=6\n",
    "                                                                 else('f_large'))))"
   ]
  },
  {
   "cell_type": "code",
   "execution_count": 27,
   "metadata": {
    "execution": {
     "iopub.execute_input": "2021-04-26T06:00:10.870440Z",
     "iopub.status.busy": "2021-04-26T06:00:10.849017Z",
     "iopub.status.idle": "2021-04-26T06:00:11.372292Z",
     "shell.execute_reply": "2021-04-26T06:00:11.372751Z"
    },
    "papermill": {
     "duration": 0.614979,
     "end_time": "2021-04-26T06:00:11.372925",
     "exception": false,
     "start_time": "2021-04-26T06:00:10.757946",
     "status": "completed"
    },
    "tags": []
   },
   "outputs": [
    {
     "data": {
      "image/png": "[encoded data removed]",
      "text/plain": [
       "<Figure size 1008x360 with 2 Axes>"
      ]
     },
     "metadata": {
      "needs_background": "light"
     },
     "output_type": "display_data"
    }
   ],
   "source": [
    "fig = plt.figure(figsize = (14,5))\n",
    "\n",
    "ax1 = fig.add_subplot(121)\n",
    "d = total_df.groupby('Family_size_group')['Survived'].value_counts(normalize = True).unstack()\n",
    "d = d.sort_values(by = 1, ascending = False)\n",
    "d.plot(kind='bar', stacked='True', color = [\"#3f3e6fd1\", \"#85c6a9\"], ax = ax1)\n",
    "plt.title('Proportion of survived/drowned passengers by family size')\n",
    "plt.legend(( 'Drowned', 'Survived'), loc=(1.04,0))\n",
    "_ = plt.xticks(rotation=False)\n",
    "\n",
    "\n",
    "ax2 = fig.add_subplot(122)\n",
    "d2 = total_df.groupby('Family_size_group')['Pclass'].value_counts(normalize = True).unstack()\n",
    "d2 = d2.sort_values(by = 1, ascending = False)\n",
    "d2.plot(kind='bar', stacked='True', color = ['#eed4d0', '#cda0aa', '#a2708e'], ax = ax2)\n",
    "plt.legend(('1st class', '2nd class', '3rd class'), loc=(1.04,0))\n",
    "plt.title('Proportion of 1st/2nd/3rd ticket class in family group size')\n",
    "_ = plt.xticks(rotation=False)\n",
    "\n",
    "plt.tight_layout()"
   ]
  },
  {
   "cell_type": "markdown",
   "metadata": {
    "papermill": {
     "duration": 0.081614,
     "end_time": "2021-04-26T06:00:11.535966",
     "exception": false,
     "start_time": "2021-04-26T06:00:11.454352",
     "status": "completed"
    },
    "tags": []
   },
   "source": [
    "#### 4) Pclass"
   ]
  },
  {
   "cell_type": "code",
   "execution_count": 28,
   "metadata": {
    "execution": {
     "iopub.execute_input": "2021-04-26T06:00:11.706802Z",
     "iopub.status.busy": "2021-04-26T06:00:11.706136Z",
     "iopub.status.idle": "2021-04-26T06:00:11.915960Z",
     "shell.execute_reply": "2021-04-26T06:00:11.916444Z"
    },
    "papermill": {
     "duration": 0.298974,
     "end_time": "2021-04-26T06:00:11.916619",
     "exception": false,
     "start_time": "2021-04-26T06:00:11.617645",
     "status": "completed"
    },
    "tags": []
   },
   "outputs": [
    {
     "name": "stderr",
     "output_type": "stream",
     "text": [
      "/opt/conda/lib/python3.7/site-packages/seaborn/_decorators.py:43: FutureWarning: Pass the following variable as a keyword arg: x. From version 0.12, the only valid positional argument will be `data`, and passing other arguments without an explicit keyword will result in an error or misinterpretation.\n",
      "  FutureWarning\n"
     ]
    },
    {
     "data": {
      "image/png": "[encoded data removed]",
      "text/plain": [
       "<Figure size 432x288 with 1 Axes>"
      ]
     },
     "metadata": {
      "needs_background": "light"
     },
     "output_type": "display_data"
    }
   ],
   "source": [
    "ax = sb.countplot(total_df['Pclass'], palette = ['#eed4d0', '#cda0aa', '#a2708e'])\n",
    "# calculate passengers for each category\n",
    "labels = (total_df['Pclass'].value_counts(sort = False))\n",
    "# add result numbers on barchart\n",
    "for i, v in enumerate(labels):\n",
    "    ax.text(i, v+2, str(v), horizontalalignment = 'center', size = 12, color = 'black', fontweight = 'bold')\n",
    "    \n",
    "    \n",
    "plt.title('Passengers distribution by Pclass')\n",
    "plt.ylabel('Number of passengers')\n",
    "plt.tight_layout()"
   ]
  },
  {
   "cell_type": "code",
   "execution_count": 29,
   "metadata": {
    "execution": {
     "iopub.execute_input": "2021-04-26T06:00:12.116122Z",
     "iopub.status.busy": "2021-04-26T06:00:12.115469Z",
     "iopub.status.idle": "2021-04-26T06:00:12.562226Z",
     "shell.execute_reply": "2021-04-26T06:00:12.561570Z"
    },
    "papermill": {
     "duration": 0.561583,
     "end_time": "2021-04-26T06:00:12.562365",
     "exception": false,
     "start_time": "2021-04-26T06:00:12.000782",
     "status": "completed"
    },
    "tags": []
   },
   "outputs": [
    {
     "name": "stderr",
     "output_type": "stream",
     "text": [
      "/opt/conda/lib/python3.7/site-packages/pandas/plotting/_matplotlib/tools.py:400: MatplotlibDeprecationWarning: \n",
      "The is_first_col function was deprecated in Matplotlib 3.4 and will be removed two minor releases later. Use ax.get_subplotspec().is_first_col() instead.\n",
      "  if ax.is_first_col():\n"
     ]
    },
    {
     "data": {
      "image/png": "[encoded data removed]",
      "text/plain": [
       "<Figure size 1008x360 with 2 Axes>"
      ]
     },
     "metadata": {
      "needs_background": "light"
     },
     "output_type": "display_data"
    }
   ],
   "source": [
    "fig = plt.figure(figsize=(14, 5))\n",
    "\n",
    "ax1 = fig.add_subplot(121)\n",
    "sb.countplot(x = 'Pclass', hue = 'Survived', data = total_df, palette=[\"#3f3e6fd1\", \"#85c6a9\"], ax = ax1)\n",
    "plt.title('Number of survived/drowned passengers by class (train data)')\n",
    "plt.ylabel('Number of passengers')\n",
    "plt.legend(( 'Drowned', 'Survived'), loc=(1.04,0))\n",
    "_ = plt.xticks(rotation=False)\n",
    "\n",
    "ax2 = fig.add_subplot(122)\n",
    "d = total_df.groupby('Pclass')['Survived'].value_counts(normalize = True).unstack()\n",
    "d.plot(kind='bar', stacked='True', ax = ax2, color =[\"#3f3e6fd1\", \"#85c6a9\"])\n",
    "plt.title('Proportion of survived/drowned passengers by class (train data)')\n",
    "plt.legend(( 'Drowned', 'Survived'), loc=(1.04,0))\n",
    "_ = plt.xticks(rotation=False)\n",
    "\n",
    "plt.tight_layout()"
   ]
  },
  {
   "cell_type": "markdown",
   "metadata": {
    "papermill": {
     "duration": 0.085599,
     "end_time": "2021-04-26T06:00:12.732780",
     "exception": false,
     "start_time": "2021-04-26T06:00:12.647181",
     "status": "completed"
    },
    "tags": []
   },
   "source": [
    "- 가장 많은 승객이 탄 3등급 임에도 불구하고 생존율은 가장 적은 승객이 탑승한 1등급에 비해 더 적은 생존율을 보인다. "
   ]
  },
  {
   "cell_type": "markdown",
   "metadata": {
    "papermill": {
     "duration": 0.085586,
     "end_time": "2021-04-26T06:00:12.906083",
     "exception": false,
     "start_time": "2021-04-26T06:00:12.820497",
     "status": "completed"
    },
    "tags": []
   },
   "source": [
    "### 4-1) Pclass vs Surviving vs Sex"
   ]
  },
  {
   "cell_type": "code",
   "execution_count": 30,
   "metadata": {
    "execution": {
     "iopub.execute_input": "2021-04-26T06:00:13.083943Z",
     "iopub.status.busy": "2021-04-26T06:00:13.082902Z",
     "iopub.status.idle": "2021-04-26T06:00:14.008464Z",
     "shell.execute_reply": "2021-04-26T06:00:14.007832Z"
    },
    "papermill": {
     "duration": 1.017137,
     "end_time": "2021-04-26T06:00:14.008612",
     "exception": false,
     "start_time": "2021-04-26T06:00:12.991475",
     "status": "completed"
    },
    "tags": []
   },
   "outputs": [
    {
     "data": {
      "image/png": "[encoded data removed]",
      "text/plain": [
       "<Figure size 771.875x360 with 2 Axes>"
      ]
     },
     "metadata": {
      "needs_background": "light"
     },
     "output_type": "display_data"
    }
   ],
   "source": [
    "sb.catplot(x = 'Pclass', hue = 'Survived', col = 'Sex', kind = 'count', data = total_df , palette=[\"#3f3e6fd1\", \"#85c6a9\"])\n",
    "\n",
    "plt.tight_layout()"
   ]
  },
  {
   "cell_type": "markdown",
   "metadata": {
    "papermill": {
     "duration": 0.086779,
     "end_time": "2021-04-26T06:00:14.182688",
     "exception": false,
     "start_time": "2021-04-26T06:00:14.095909",
     "status": "completed"
    },
    "tags": []
   },
   "source": [
    "- 1등급 클래스의 남성 승객들의 대부분은 살아남지 못하였고 여성들은 대부분 살아남았다. \n",
    "- 3등급 클래스의 여성의 절반 이상은 살아남았다. "
   ]
  },
  {
   "cell_type": "markdown",
   "metadata": {
    "papermill": {
     "duration": 0.08528,
     "end_time": "2021-04-26T06:00:14.353494",
     "exception": false,
     "start_time": "2021-04-26T06:00:14.268214",
     "status": "completed"
    },
    "tags": []
   },
   "source": [
    "### 5) Embarked"
   ]
  },
  {
   "cell_type": "code",
   "execution_count": 31,
   "metadata": {
    "execution": {
     "iopub.execute_input": "2021-04-26T06:00:14.581078Z",
     "iopub.status.busy": "2021-04-26T06:00:14.556143Z",
     "iopub.status.idle": "2021-04-26T06:00:15.365331Z",
     "shell.execute_reply": "2021-04-26T06:00:15.364662Z"
    },
    "papermill": {
     "duration": 0.925876,
     "end_time": "2021-04-26T06:00:15.365531",
     "exception": false,
     "start_time": "2021-04-26T06:00:14.439655",
     "status": "completed"
    },
    "tags": []
   },
   "outputs": [
    {
     "name": "stderr",
     "output_type": "stream",
     "text": [
      "/opt/conda/lib/python3.7/site-packages/seaborn/_decorators.py:43: FutureWarning: Pass the following variable as a keyword arg: x. From version 0.12, the only valid positional argument will be `data`, and passing other arguments without an explicit keyword will result in an error or misinterpretation.\n",
      "  FutureWarning\n",
      "/opt/conda/lib/python3.7/site-packages/pandas/plotting/_matplotlib/tools.py:400: MatplotlibDeprecationWarning: \n",
      "The is_first_col function was deprecated in Matplotlib 3.4 and will be removed two minor releases later. Use ax.get_subplotspec().is_first_col() instead.\n",
      "  if ax.is_first_col():\n"
     ]
    },
    {
     "data": {
      "image/png": "[encoded data removed]",
      "text/plain": [
       "<Figure size 1080x288 with 3 Axes>"
      ]
     },
     "metadata": {
      "needs_background": "light"
     },
     "output_type": "display_data"
    }
   ],
   "source": [
    "fig = plt.figure(figsize = (15,4))\n",
    "\n",
    "ax1 = fig.add_subplot(131)\n",
    "palette = sb.cubehelix_palette(5, start = 2)\n",
    "ax = sb.countplot(total_df['Embarked'], palette = palette, order = ['C', 'Q', 'S'], ax = ax1)\n",
    "plt.title('Number of passengers by Embarked')\n",
    "plt.ylabel('Number of passengers')\n",
    "\n",
    "# calculate passengers for each category\n",
    "labels = (total_df['Embarked'].value_counts())\n",
    "labels = labels.sort_index()\n",
    "# add result numbers on barchart\n",
    "for i, v in enumerate(labels):\n",
    "    ax.text(i, v+10, str(v), horizontalalignment = 'center', size = 10, color = 'black')\n",
    "    \n",
    "\n",
    "ax2 = fig.add_subplot(132)\n",
    "surv_by_emb = total_df.groupby('Embarked')['Survived'].value_counts(normalize = True)\n",
    "surv_by_emb = surv_by_emb.unstack().sort_index()\n",
    "surv_by_emb.plot(kind='bar', stacked='True', color=[\"#3f3e6fd1\", \"#85c6a9\"], ax = ax2)\n",
    "plt.title('Proportion of survived/drowned passengers by Embarked (train data)')\n",
    "plt.legend(( 'Drowned', 'Survived'), loc=(1.04,0))\n",
    "_ = plt.xticks(rotation=False)\n",
    "\n",
    "\n",
    "ax3 = fig.add_subplot(133)\n",
    "class_by_emb = total_df.groupby('Embarked')['Pclass'].value_counts(normalize = True)\n",
    "class_by_emb = class_by_emb.unstack().sort_index()\n",
    "class_by_emb.plot(kind='bar', stacked='True', color = ['#eed4d0', '#cda0aa', '#a2708e'], ax = ax3)\n",
    "plt.legend(('1st class', '2nd class', '3rd class'), loc=(1.04,0))\n",
    "plt.title('Proportion of clases by Embarked')\n",
    "_ = plt.xticks(rotation=False)\n",
    "\n",
    "plt.tight_layout()"
   ]
  },
  {
   "cell_type": "markdown",
   "metadata": {
    "papermill": {
     "duration": 0.08696,
     "end_time": "2021-04-26T06:00:15.540838",
     "exception": false,
     "start_time": "2021-04-26T06:00:15.453878",
     "status": "completed"
    },
    "tags": []
   },
   "source": [
    "- 대부분의 승객(140981)들은 S 항구에서 출발하였고 S 항구에서 출발한 승객들의 생존율은 가장 낮았다. 또한 3등급 클래스 사람들이 대부분이다. \n",
    "- C항구에서 출발한 승객들은 75% 이상의 생존율을 보인다. \n",
    "- 가장 적은 승객들이 탑승한 Q항구에는 가장 많은 l등급 클래스의 승객들이 탑승하였다. "
   ]
  },
  {
   "cell_type": "code",
   "execution_count": 32,
   "metadata": {
    "execution": {
     "iopub.execute_input": "2021-04-26T06:00:15.753432Z",
     "iopub.status.busy": "2021-04-26T06:00:15.752719Z",
     "iopub.status.idle": "2021-04-26T06:00:16.910656Z",
     "shell.execute_reply": "2021-04-26T06:00:16.909984Z"
    },
    "papermill": {
     "duration": 1.282752,
     "end_time": "2021-04-26T06:00:16.910798",
     "exception": false,
     "start_time": "2021-04-26T06:00:15.628046",
     "status": "completed"
    },
    "tags": []
   },
   "outputs": [
    {
     "data": {
      "image/png": "[encoded data removed]",
      "text/plain": [
       "<Figure size 432x432 with 1 Axes>"
      ]
     },
     "metadata": {
      "needs_background": "light"
     },
     "output_type": "display_data"
    }
   ],
   "source": [
    "sb.catplot(x=\"Embarked\", y=\"Fare\", kind=\"violin\", inner=None,\n",
    "            data=total_df, height = 6, palette = palette, order = ['C', 'Q', 'S'])\n",
    "plt.title('Distribution of Fare by Embarked')\n",
    "plt.tight_layout()"
   ]
  },
  {
   "cell_type": "code",
   "execution_count": 33,
   "metadata": {
    "execution": {
     "iopub.execute_input": "2021-04-26T06:00:17.115526Z",
     "iopub.status.busy": "2021-04-26T06:00:17.114864Z",
     "iopub.status.idle": "2021-04-26T06:00:17.155655Z",
     "shell.execute_reply": "2021-04-26T06:00:17.154999Z"
    },
    "papermill": {
     "duration": 0.155312,
     "end_time": "2021-04-26T06:00:17.155793",
     "exception": false,
     "start_time": "2021-04-26T06:00:17.000481",
     "status": "completed"
    },
    "tags": []
   },
   "outputs": [
    {
     "data": {
      "text/html": [
       "<div>\n",
       "<style scoped>\n",
       "    .dataframe tbody tr th:only-of-type {\n",
       "        vertical-align: middle;\n",
       "    }\n",
       "\n",
       "    .dataframe tbody tr th {\n",
       "        vertical-align: top;\n",
       "    }\n",
       "\n",
       "    .dataframe thead th {\n",
       "        text-align: right;\n",
       "    }\n",
       "</style>\n",
       "<table border=\"1\" class=\"dataframe\">\n",
       "  <thead>\n",
       "    <tr style=\"text-align: right;\">\n",
       "      <th></th>\n",
       "      <th>count</th>\n",
       "      <th>mean</th>\n",
       "      <th>std</th>\n",
       "      <th>min</th>\n",
       "      <th>25%</th>\n",
       "      <th>50%</th>\n",
       "      <th>75%</th>\n",
       "      <th>max</th>\n",
       "    </tr>\n",
       "    <tr>\n",
       "      <th>Embarked</th>\n",
       "      <th></th>\n",
       "      <th></th>\n",
       "      <th></th>\n",
       "      <th></th>\n",
       "      <th></th>\n",
       "      <th></th>\n",
       "      <th></th>\n",
       "      <th></th>\n",
       "    </tr>\n",
       "  </thead>\n",
       "  <tbody>\n",
       "    <tr>\n",
       "      <th>C</th>\n",
       "      <td>44440.0</td>\n",
       "      <td>73.673693</td>\n",
       "      <td>87.985577</td>\n",
       "      <td>1.51</td>\n",
       "      <td>13.54</td>\n",
       "      <td>31.42</td>\n",
       "      <td>89.5025</td>\n",
       "      <td>744.46</td>\n",
       "    </tr>\n",
       "    <tr>\n",
       "      <th>Q</th>\n",
       "      <td>13977.0</td>\n",
       "      <td>78.479737</td>\n",
       "      <td>92.941969</td>\n",
       "      <td>2.29</td>\n",
       "      <td>10.81</td>\n",
       "      <td>28.45</td>\n",
       "      <td>115.6700</td>\n",
       "      <td>744.66</td>\n",
       "    </tr>\n",
       "    <tr>\n",
       "      <th>S</th>\n",
       "      <td>140791.0</td>\n",
       "      <td>32.125407</td>\n",
       "      <td>50.934735</td>\n",
       "      <td>0.05</td>\n",
       "      <td>9.50</td>\n",
       "      <td>13.24</td>\n",
       "      <td>29.9900</td>\n",
       "      <td>727.65</td>\n",
       "    </tr>\n",
       "  </tbody>\n",
       "</table>\n",
       "</div>"
      ],
      "text/plain": [
       "             count       mean        std   min    25%    50%       75%     max\n",
       "Embarked                                                                      \n",
       "C          44440.0  73.673693  87.985577  1.51  13.54  31.42   89.5025  744.46\n",
       "Q          13977.0  78.479737  92.941969  2.29  10.81  28.45  115.6700  744.66\n",
       "S         140791.0  32.125407  50.934735  0.05   9.50  13.24   29.9900  727.65"
      ]
     },
     "execution_count": 33,
     "metadata": {},
     "output_type": "execute_result"
    }
   ],
   "source": [
    "pd.DataFrame(total_df.groupby('Embarked')['Fare'].describe())"
   ]
  },
  {
   "cell_type": "markdown",
   "metadata": {
    "papermill": {
     "duration": 0.089032,
     "end_time": "2021-04-26T06:00:17.334267",
     "exception": false,
     "start_time": "2021-04-26T06:00:17.245235",
     "status": "completed"
    },
    "tags": []
   },
   "source": [
    "### 6) Fare"
   ]
  },
  {
   "cell_type": "code",
   "execution_count": 34,
   "metadata": {
    "execution": {
     "iopub.execute_input": "2021-04-26T06:00:17.537064Z",
     "iopub.status.busy": "2021-04-26T06:00:17.533258Z",
     "iopub.status.idle": "2021-04-26T06:00:18.764322Z",
     "shell.execute_reply": "2021-04-26T06:00:18.763660Z"
    },
    "papermill": {
     "duration": 1.340943,
     "end_time": "2021-04-26T06:00:18.764475",
     "exception": false,
     "start_time": "2021-04-26T06:00:17.423532",
     "status": "completed"
    },
    "tags": []
   },
   "outputs": [
    {
     "name": "stderr",
     "output_type": "stream",
     "text": [
      "/opt/conda/lib/python3.7/site-packages/seaborn/distributions.py:2557: FutureWarning: `distplot` is a deprecated function and will be removed in a future version. Please adapt your code to use either `displot` (a figure-level function with similar flexibility) or `histplot` (an axes-level function for histograms).\n",
      "  warnings.warn(msg, FutureWarning)\n"
     ]
    },
    {
     "data": {
      "image/png": "[encoded data removed]",
      "text/plain": [
       "<Figure size 576x576 with 1 Axes>"
      ]
     },
     "metadata": {
      "needs_background": "light"
     },
     "output_type": "display_data"
    }
   ],
   "source": [
    "fig, ax = plt.subplots(1, 1, figsize=(8, 8))\n",
    "g = sb.distplot(total_df['Fare'], color='r', label='Skewness : {:.2f}'.format(total_df['Fare'].skew()), ax=ax)\n",
    "g = g.legend(loc='best')"
   ]
  },
  {
   "cell_type": "code",
   "execution_count": 35,
   "metadata": {
    "execution": {
     "iopub.execute_input": "2021-04-26T06:00:18.962551Z",
     "iopub.status.busy": "2021-04-26T06:00:18.961401Z",
     "iopub.status.idle": "2021-04-26T06:00:20.920330Z",
     "shell.execute_reply": "2021-04-26T06:00:20.919776Z"
    },
    "papermill": {
     "duration": 2.063141,
     "end_time": "2021-04-26T06:00:20.920466",
     "exception": false,
     "start_time": "2021-04-26T06:00:18.857325",
     "status": "completed"
    },
    "tags": []
   },
   "outputs": [
    {
     "name": "stderr",
     "output_type": "stream",
     "text": [
      "/opt/conda/lib/python3.7/site-packages/seaborn/distributions.py:2557: FutureWarning: `distplot` is a deprecated function and will be removed in a future version. Please adapt your code to use either `displot` (a figure-level function with similar flexibility) or `histplot` (an axes-level function for histograms).\n",
      "  warnings.warn(msg, FutureWarning)\n"
     ]
    },
    {
     "data": {
      "image/png": "[encoded data removed]",
      "text/plain": [
       "<Figure size 576x576 with 1 Axes>"
      ]
     },
     "metadata": {
      "needs_background": "light"
     },
     "output_type": "display_data"
    }
   ],
   "source": [
    "fare_map = total_df[['Fare', 'Pclass']].dropna().groupby('Pclass').median().to_dict()\n",
    "total_df['Fare'] = total_df['Fare'].fillna(total_df['Pclass'].map(fare_map['Fare']))\n",
    "\n",
    "total_df['Fare'] = total_df['Fare'].map(lambda i: np.log(i) if i > 0 else 0)\n",
    "fig, ax = plt.subplots(1, 1, figsize=(8, 8))\n",
    "g = sb.distplot(total_df['Fare'], color='b', label='Skewness : {:.2f}'.format(total_df['Fare'].skew()), ax=ax)\n",
    "g = g.legend(loc='best')"
   ]
  },
  {
   "cell_type": "markdown",
   "metadata": {
    "papermill": {
     "duration": 0.100249,
     "end_time": "2021-04-26T06:00:21.116706",
     "exception": false,
     "start_time": "2021-04-26T06:00:21.016457",
     "status": "completed"
    },
    "tags": []
   },
   "source": [
    "# Feature Engineering"
   ]
  },
  {
   "cell_type": "markdown",
   "metadata": {
    "papermill": {
     "duration": 0.092676,
     "end_time": "2021-04-26T06:00:21.303478",
     "exception": false,
     "start_time": "2021-04-26T06:00:21.210802",
     "status": "completed"
    },
    "tags": []
   },
   "source": [
    "- Null values 확인"
   ]
  },
  {
   "cell_type": "code",
   "execution_count": 36,
   "metadata": {
    "execution": {
     "iopub.execute_input": "2021-04-26T06:00:21.519444Z",
     "iopub.status.busy": "2021-04-26T06:00:21.518465Z",
     "iopub.status.idle": "2021-04-26T06:00:21.523419Z",
     "shell.execute_reply": "2021-04-26T06:00:21.522882Z"
    },
    "papermill": {
     "duration": 0.12726,
     "end_time": "2021-04-26T06:00:21.523564",
     "exception": false,
     "start_time": "2021-04-26T06:00:21.396304",
     "status": "completed"
    },
    "tags": []
   },
   "outputs": [
    {
     "data": {
      "text/html": [
       "<div>\n",
       "<style scoped>\n",
       "    .dataframe tbody tr th:only-of-type {\n",
       "        vertical-align: middle;\n",
       "    }\n",
       "\n",
       "    .dataframe tbody tr th {\n",
       "        vertical-align: top;\n",
       "    }\n",
       "\n",
       "    .dataframe thead th {\n",
       "        text-align: right;\n",
       "    }\n",
       "</style>\n",
       "<table border=\"1\" class=\"dataframe\">\n",
       "  <thead>\n",
       "    <tr style=\"text-align: right;\">\n",
       "      <th></th>\n",
       "      <th>PassengerId</th>\n",
       "      <th>Survived</th>\n",
       "      <th>Pclass</th>\n",
       "      <th>Name</th>\n",
       "      <th>Sex</th>\n",
       "      <th>Age</th>\n",
       "      <th>SibSp</th>\n",
       "      <th>Parch</th>\n",
       "      <th>Ticket</th>\n",
       "      <th>Fare</th>\n",
       "      <th>Cabin</th>\n",
       "      <th>Embarked</th>\n",
       "      <th>Family_size</th>\n",
       "      <th>Family_size_group</th>\n",
       "    </tr>\n",
       "  </thead>\n",
       "  <tbody>\n",
       "    <tr>\n",
       "      <th>0</th>\n",
       "      <td>0</td>\n",
       "      <td>1.0</td>\n",
       "      <td>1</td>\n",
       "      <td>Oconnor, Frankie</td>\n",
       "      <td>male</td>\n",
       "      <td>NaN</td>\n",
       "      <td>2</td>\n",
       "      <td>0</td>\n",
       "      <td>209245</td>\n",
       "      <td>3.301009</td>\n",
       "      <td>C</td>\n",
       "      <td>S</td>\n",
       "      <td>3</td>\n",
       "      <td>f_usual</td>\n",
       "    </tr>\n",
       "    <tr>\n",
       "      <th>1</th>\n",
       "      <td>1</td>\n",
       "      <td>0.0</td>\n",
       "      <td>3</td>\n",
       "      <td>Bryan, Drew</td>\n",
       "      <td>male</td>\n",
       "      <td>NaN</td>\n",
       "      <td>0</td>\n",
       "      <td>0</td>\n",
       "      <td>27323</td>\n",
       "      <td>2.591516</td>\n",
       "      <td>X</td>\n",
       "      <td>S</td>\n",
       "      <td>1</td>\n",
       "      <td>f_single</td>\n",
       "    </tr>\n",
       "    <tr>\n",
       "      <th>2</th>\n",
       "      <td>2</td>\n",
       "      <td>0.0</td>\n",
       "      <td>3</td>\n",
       "      <td>Owens, Kenneth</td>\n",
       "      <td>male</td>\n",
       "      <td>0.33</td>\n",
       "      <td>1</td>\n",
       "      <td>2</td>\n",
       "      <td>CA 457703</td>\n",
       "      <td>4.266756</td>\n",
       "      <td>X</td>\n",
       "      <td>S</td>\n",
       "      <td>4</td>\n",
       "      <td>f_usual</td>\n",
       "    </tr>\n",
       "    <tr>\n",
       "      <th>3</th>\n",
       "      <td>3</td>\n",
       "      <td>0.0</td>\n",
       "      <td>3</td>\n",
       "      <td>Kramer, James</td>\n",
       "      <td>male</td>\n",
       "      <td>19.00</td>\n",
       "      <td>0</td>\n",
       "      <td>0</td>\n",
       "      <td>A. 10866</td>\n",
       "      <td>2.568022</td>\n",
       "      <td>X</td>\n",
       "      <td>S</td>\n",
       "      <td>1</td>\n",
       "      <td>f_single</td>\n",
       "    </tr>\n",
       "    <tr>\n",
       "      <th>4</th>\n",
       "      <td>4</td>\n",
       "      <td>1.0</td>\n",
       "      <td>3</td>\n",
       "      <td>Bond, Michael</td>\n",
       "      <td>male</td>\n",
       "      <td>25.00</td>\n",
       "      <td>0</td>\n",
       "      <td>0</td>\n",
       "      <td>427635</td>\n",
       "      <td>2.048982</td>\n",
       "      <td>X</td>\n",
       "      <td>S</td>\n",
       "      <td>1</td>\n",
       "      <td>f_single</td>\n",
       "    </tr>\n",
       "    <tr>\n",
       "      <th>...</th>\n",
       "      <td>...</td>\n",
       "      <td>...</td>\n",
       "      <td>...</td>\n",
       "      <td>...</td>\n",
       "      <td>...</td>\n",
       "      <td>...</td>\n",
       "      <td>...</td>\n",
       "      <td>...</td>\n",
       "      <td>...</td>\n",
       "      <td>...</td>\n",
       "      <td>...</td>\n",
       "      <td>...</td>\n",
       "      <td>...</td>\n",
       "      <td>...</td>\n",
       "    </tr>\n",
       "    <tr>\n",
       "      <th>99995</th>\n",
       "      <td>199995</td>\n",
       "      <td>NaN</td>\n",
       "      <td>3</td>\n",
       "      <td>Cash, Cheryle</td>\n",
       "      <td>female</td>\n",
       "      <td>27.00</td>\n",
       "      <td>0</td>\n",
       "      <td>0</td>\n",
       "      <td>7686</td>\n",
       "      <td>2.314514</td>\n",
       "      <td>X</td>\n",
       "      <td>Q</td>\n",
       "      <td>1</td>\n",
       "      <td>f_single</td>\n",
       "    </tr>\n",
       "    <tr>\n",
       "      <th>99996</th>\n",
       "      <td>199996</td>\n",
       "      <td>NaN</td>\n",
       "      <td>1</td>\n",
       "      <td>Brown, Howard</td>\n",
       "      <td>male</td>\n",
       "      <td>59.00</td>\n",
       "      <td>1</td>\n",
       "      <td>0</td>\n",
       "      <td>13004</td>\n",
       "      <td>4.224056</td>\n",
       "      <td>X</td>\n",
       "      <td>S</td>\n",
       "      <td>2</td>\n",
       "      <td>f_usual</td>\n",
       "    </tr>\n",
       "    <tr>\n",
       "      <th>99997</th>\n",
       "      <td>199997</td>\n",
       "      <td>NaN</td>\n",
       "      <td>3</td>\n",
       "      <td>Lightfoot, Cameron</td>\n",
       "      <td>male</td>\n",
       "      <td>47.00</td>\n",
       "      <td>0</td>\n",
       "      <td>0</td>\n",
       "      <td>4383317</td>\n",
       "      <td>2.386007</td>\n",
       "      <td>X</td>\n",
       "      <td>S</td>\n",
       "      <td>1</td>\n",
       "      <td>f_single</td>\n",
       "    </tr>\n",
       "    <tr>\n",
       "      <th>99998</th>\n",
       "      <td>199998</td>\n",
       "      <td>NaN</td>\n",
       "      <td>1</td>\n",
       "      <td>Jacobsen, Margaret</td>\n",
       "      <td>female</td>\n",
       "      <td>49.00</td>\n",
       "      <td>1</td>\n",
       "      <td>2</td>\n",
       "      <td>PC 26988</td>\n",
       "      <td>3.390473</td>\n",
       "      <td>B</td>\n",
       "      <td>C</td>\n",
       "      <td>4</td>\n",
       "      <td>f_usual</td>\n",
       "    </tr>\n",
       "    <tr>\n",
       "      <th>99999</th>\n",
       "      <td>199999</td>\n",
       "      <td>NaN</td>\n",
       "      <td>1</td>\n",
       "      <td>Fishback, Joanna</td>\n",
       "      <td>female</td>\n",
       "      <td>41.00</td>\n",
       "      <td>0</td>\n",
       "      <td>2</td>\n",
       "      <td>PC 41824</td>\n",
       "      <td>5.275100</td>\n",
       "      <td>E</td>\n",
       "      <td>C</td>\n",
       "      <td>3</td>\n",
       "      <td>f_usual</td>\n",
       "    </tr>\n",
       "  </tbody>\n",
       "</table>\n",
       "<p>200000 rows × 14 columns</p>\n",
       "</div>"
      ],
      "text/plain": [
       "       PassengerId  Survived  Pclass                Name     Sex    Age  \\\n",
       "0                0       1.0       1    Oconnor, Frankie    male    NaN   \n",
       "1                1       0.0       3         Bryan, Drew    male    NaN   \n",
       "2                2       0.0       3      Owens, Kenneth    male   0.33   \n",
       "3                3       0.0       3       Kramer, James    male  19.00   \n",
       "4                4       1.0       3       Bond, Michael    male  25.00   \n",
       "...            ...       ...     ...                 ...     ...    ...   \n",
       "99995       199995       NaN       3       Cash, Cheryle  female  27.00   \n",
       "99996       199996       NaN       1       Brown, Howard    male  59.00   \n",
       "99997       199997       NaN       3  Lightfoot, Cameron    male  47.00   \n",
       "99998       199998       NaN       1  Jacobsen, Margaret  female  49.00   \n",
       "99999       199999       NaN       1    Fishback, Joanna  female  41.00   \n",
       "\n",
       "       SibSp  Parch     Ticket      Fare Cabin Embarked  Family_size  \\\n",
       "0          2      0     209245  3.301009     C        S            3   \n",
       "1          0      0      27323  2.591516     X        S            1   \n",
       "2          1      2  CA 457703  4.266756     X        S            4   \n",
       "3          0      0   A. 10866  2.568022     X        S            1   \n",
       "4          0      0     427635  2.048982     X        S            1   \n",
       "...      ...    ...        ...       ...   ...      ...          ...   \n",
       "99995      0      0       7686  2.314514     X        Q            1   \n",
       "99996      1      0      13004  4.224056     X        S            2   \n",
       "99997      0      0    4383317  2.386007     X        S            1   \n",
       "99998      1      2   PC 26988  3.390473     B        C            4   \n",
       "99999      0      2   PC 41824  5.275100     E        C            3   \n",
       "\n",
       "      Family_size_group  \n",
       "0               f_usual  \n",
       "1              f_single  \n",
       "2               f_usual  \n",
       "3              f_single  \n",
       "4              f_single  \n",
       "...                 ...  \n",
       "99995          f_single  \n",
       "99996           f_usual  \n",
       "99997          f_single  \n",
       "99998           f_usual  \n",
       "99999           f_usual  \n",
       "\n",
       "[200000 rows x 14 columns]"
      ]
     },
     "execution_count": 36,
     "metadata": {},
     "output_type": "execute_result"
    }
   ],
   "source": [
    "total_df"
   ]
  },
  {
   "cell_type": "code",
   "execution_count": 37,
   "metadata": {
    "execution": {
     "iopub.execute_input": "2021-04-26T06:00:21.734421Z",
     "iopub.status.busy": "2021-04-26T06:00:21.733731Z",
     "iopub.status.idle": "2021-04-26T06:00:21.872114Z",
     "shell.execute_reply": "2021-04-26T06:00:21.872867Z"
    },
    "papermill": {
     "duration": 0.255896,
     "end_time": "2021-04-26T06:00:21.873111",
     "exception": false,
     "start_time": "2021-04-26T06:00:21.617215",
     "status": "completed"
    },
    "tags": []
   },
   "outputs": [
    {
     "data": {
      "text/plain": [
       "PassengerId               0\n",
       "Survived             100000\n",
       "Pclass                    0\n",
       "Name                      0\n",
       "Sex                       0\n",
       "Age                    6779\n",
       "SibSp                     0\n",
       "Parch                     0\n",
       "Ticket                 9804\n",
       "Fare                      0\n",
       "Cabin                     0\n",
       "Embarked                527\n",
       "Family_size               0\n",
       "Family_size_group         0\n",
       "dtype: int64"
      ]
     },
     "execution_count": 37,
     "metadata": {},
     "output_type": "execute_result"
    }
   ],
   "source": [
    "total_df.isna().sum()"
   ]
  },
  {
   "cell_type": "markdown",
   "metadata": {
    "papermill": {
     "duration": 0.094844,
     "end_time": "2021-04-26T06:00:22.106283",
     "exception": false,
     "start_time": "2021-04-26T06:00:22.011439",
     "status": "completed"
    },
    "tags": []
   },
   "source": [
    "## 1) Data Correlation"
   ]
  },
  {
   "cell_type": "code",
   "execution_count": 38,
   "metadata": {
    "execution": {
     "iopub.execute_input": "2021-04-26T06:00:22.299133Z",
     "iopub.status.busy": "2021-04-26T06:00:22.298484Z",
     "iopub.status.idle": "2021-04-26T06:00:23.314248Z",
     "shell.execute_reply": "2021-04-26T06:00:23.313604Z"
    },
    "papermill": {
     "duration": 1.113181,
     "end_time": "2021-04-26T06:00:23.314396",
     "exception": false,
     "start_time": "2021-04-26T06:00:22.201215",
     "status": "completed"
    },
    "tags": []
   },
   "outputs": [
    {
     "data": {
      "image/png": "[encoded data removed]",
      "text/plain": [
       "<Figure size 1224x360 with 3 Axes>"
      ]
     },
     "metadata": {
      "needs_background": "light"
     },
     "output_type": "display_data"
    }
   ],
   "source": [
    "fig, ax=plt.subplots(1, 3, figsize=(17,5))\n",
    "feature_lst=['Pclass','Age','Fare','Sex','Family_size']\n",
    "\n",
    "corr=total_df[feature_lst].corr()\n",
    "\n",
    "mask=np.zeros_like(corr, dtype=np.bool)\n",
    "mask[np.triu_indices_from(mask)]=True\n",
    "\n",
    "for idx, method in enumerate(['pearson','kendall','spearman']):\n",
    "    sb.heatmap(total_df[feature_lst].corr(method=method), ax=ax[idx],\n",
    "              square=True, annot=True, fmt='.2f', center=0, linewidth=2,\n",
    "              cbar=False, cmap=sb.diverging_palette(240, 10, as_cmap=True),\n",
    "        mask=mask)\n",
    "    ax[idx].set_title(f'{method.capitalize()} Correlation', loc='left', fontweight='bold')\n",
    "    \n",
    "plt.show()"
   ]
  },
  {
   "cell_type": "markdown",
   "metadata": {
    "papermill": {
     "duration": 0.095694,
     "end_time": "2021-04-26T06:00:23.507696",
     "exception": false,
     "start_time": "2021-04-26T06:00:23.412002",
     "status": "completed"
    },
    "tags": []
   },
   "source": [
    "### 2) Age\n",
    "- 각 클래스마다 나이의 평균을 각 클래스마다의 null 값에 넣어주었다. "
   ]
  },
  {
   "cell_type": "code",
   "execution_count": 39,
   "metadata": {
    "execution": {
     "iopub.execute_input": "2021-04-26T06:00:23.707369Z",
     "iopub.status.busy": "2021-04-26T06:00:23.706252Z",
     "iopub.status.idle": "2021-04-26T06:00:23.730354Z",
     "shell.execute_reply": "2021-04-26T06:00:23.729766Z"
    },
    "papermill": {
     "duration": 0.127812,
     "end_time": "2021-04-26T06:00:23.730544",
     "exception": false,
     "start_time": "2021-04-26T06:00:23.602732",
     "status": "completed"
    },
    "tags": []
   },
   "outputs": [],
   "source": [
    "age_map= total_df[['Age','Pclass']].dropna().groupby('Pclass').median().to_dict()\n",
    "total_df['Age']=total_df['Age'].fillna(total_df['Pclass'].map(age_map['Age']))"
   ]
  },
  {
   "cell_type": "markdown",
   "metadata": {
    "papermill": {
     "duration": 0.096054,
     "end_time": "2021-04-26T06:00:23.923760",
     "exception": false,
     "start_time": "2021-04-26T06:00:23.827706",
     "status": "completed"
    },
    "tags": []
   },
   "source": [
    "### 3) Embarked"
   ]
  },
  {
   "cell_type": "code",
   "execution_count": 40,
   "metadata": {
    "execution": {
     "iopub.execute_input": "2021-04-26T06:00:24.171720Z",
     "iopub.status.busy": "2021-04-26T06:00:24.141894Z",
     "iopub.status.idle": "2021-04-26T06:00:24.177573Z",
     "shell.execute_reply": "2021-04-26T06:00:24.176970Z"
    },
    "papermill": {
     "duration": 0.156053,
     "end_time": "2021-04-26T06:00:24.177724",
     "exception": false,
     "start_time": "2021-04-26T06:00:24.021671",
     "status": "completed"
    },
    "tags": []
   },
   "outputs": [
    {
     "name": "stdout",
     "output_type": "stream",
     "text": [
      "Embarked has  527  Null values\n"
     ]
    }
   ],
   "source": [
    "print('Embarked has ', sum(total_df['Embarked'].isnull()), ' Null values')"
   ]
  },
  {
   "cell_type": "code",
   "execution_count": 41,
   "metadata": {
    "execution": {
     "iopub.execute_input": "2021-04-26T06:00:24.394012Z",
     "iopub.status.busy": "2021-04-26T06:00:24.393376Z",
     "iopub.status.idle": "2021-04-26T06:00:24.399959Z",
     "shell.execute_reply": "2021-04-26T06:00:24.399424Z"
    },
    "papermill": {
     "duration": 0.126682,
     "end_time": "2021-04-26T06:00:24.400104",
     "exception": false,
     "start_time": "2021-04-26T06:00:24.273422",
     "status": "completed"
    },
    "tags": []
   },
   "outputs": [],
   "source": [
    "total_df['Embarked'] = total_df['Embarked'].fillna('S')"
   ]
  },
  {
   "cell_type": "code",
   "execution_count": 42,
   "metadata": {
    "execution": {
     "iopub.execute_input": "2021-04-26T06:00:24.622360Z",
     "iopub.status.busy": "2021-04-26T06:00:24.621540Z",
     "iopub.status.idle": "2021-04-26T06:00:24.624500Z",
     "shell.execute_reply": "2021-04-26T06:00:24.625013Z"
    },
    "papermill": {
     "duration": 0.128617,
     "end_time": "2021-04-26T06:00:24.625205",
     "exception": false,
     "start_time": "2021-04-26T06:00:24.496588",
     "status": "completed"
    },
    "tags": []
   },
   "outputs": [
    {
     "data": {
      "text/html": [
       "<div>\n",
       "<style scoped>\n",
       "    .dataframe tbody tr th:only-of-type {\n",
       "        vertical-align: middle;\n",
       "    }\n",
       "\n",
       "    .dataframe tbody tr th {\n",
       "        vertical-align: top;\n",
       "    }\n",
       "\n",
       "    .dataframe thead th {\n",
       "        text-align: right;\n",
       "    }\n",
       "</style>\n",
       "<table border=\"1\" class=\"dataframe\">\n",
       "  <thead>\n",
       "    <tr style=\"text-align: right;\">\n",
       "      <th></th>\n",
       "      <th>PassengerId</th>\n",
       "      <th>Survived</th>\n",
       "      <th>Pclass</th>\n",
       "      <th>Name</th>\n",
       "      <th>Sex</th>\n",
       "      <th>Age</th>\n",
       "      <th>SibSp</th>\n",
       "      <th>Parch</th>\n",
       "      <th>Ticket</th>\n",
       "      <th>Fare</th>\n",
       "      <th>Cabin</th>\n",
       "      <th>Embarked</th>\n",
       "      <th>Family_size</th>\n",
       "      <th>Family_size_group</th>\n",
       "    </tr>\n",
       "  </thead>\n",
       "  <tbody>\n",
       "    <tr>\n",
       "      <th>0</th>\n",
       "      <td>0</td>\n",
       "      <td>1.0</td>\n",
       "      <td>1</td>\n",
       "      <td>Oconnor, Frankie</td>\n",
       "      <td>male</td>\n",
       "      <td>41.00</td>\n",
       "      <td>2</td>\n",
       "      <td>0</td>\n",
       "      <td>209245</td>\n",
       "      <td>3.301009</td>\n",
       "      <td>C</td>\n",
       "      <td>S</td>\n",
       "      <td>3</td>\n",
       "      <td>f_usual</td>\n",
       "    </tr>\n",
       "    <tr>\n",
       "      <th>1</th>\n",
       "      <td>1</td>\n",
       "      <td>0.0</td>\n",
       "      <td>3</td>\n",
       "      <td>Bryan, Drew</td>\n",
       "      <td>male</td>\n",
       "      <td>26.00</td>\n",
       "      <td>0</td>\n",
       "      <td>0</td>\n",
       "      <td>27323</td>\n",
       "      <td>2.591516</td>\n",
       "      <td>X</td>\n",
       "      <td>S</td>\n",
       "      <td>1</td>\n",
       "      <td>f_single</td>\n",
       "    </tr>\n",
       "    <tr>\n",
       "      <th>2</th>\n",
       "      <td>2</td>\n",
       "      <td>0.0</td>\n",
       "      <td>3</td>\n",
       "      <td>Owens, Kenneth</td>\n",
       "      <td>male</td>\n",
       "      <td>0.33</td>\n",
       "      <td>1</td>\n",
       "      <td>2</td>\n",
       "      <td>CA 457703</td>\n",
       "      <td>4.266756</td>\n",
       "      <td>X</td>\n",
       "      <td>S</td>\n",
       "      <td>4</td>\n",
       "      <td>f_usual</td>\n",
       "    </tr>\n",
       "    <tr>\n",
       "      <th>3</th>\n",
       "      <td>3</td>\n",
       "      <td>0.0</td>\n",
       "      <td>3</td>\n",
       "      <td>Kramer, James</td>\n",
       "      <td>male</td>\n",
       "      <td>19.00</td>\n",
       "      <td>0</td>\n",
       "      <td>0</td>\n",
       "      <td>A. 10866</td>\n",
       "      <td>2.568022</td>\n",
       "      <td>X</td>\n",
       "      <td>S</td>\n",
       "      <td>1</td>\n",
       "      <td>f_single</td>\n",
       "    </tr>\n",
       "    <tr>\n",
       "      <th>4</th>\n",
       "      <td>4</td>\n",
       "      <td>1.0</td>\n",
       "      <td>3</td>\n",
       "      <td>Bond, Michael</td>\n",
       "      <td>male</td>\n",
       "      <td>25.00</td>\n",
       "      <td>0</td>\n",
       "      <td>0</td>\n",
       "      <td>427635</td>\n",
       "      <td>2.048982</td>\n",
       "      <td>X</td>\n",
       "      <td>S</td>\n",
       "      <td>1</td>\n",
       "      <td>f_single</td>\n",
       "    </tr>\n",
       "    <tr>\n",
       "      <th>...</th>\n",
       "      <td>...</td>\n",
       "      <td>...</td>\n",
       "      <td>...</td>\n",
       "      <td>...</td>\n",
       "      <td>...</td>\n",
       "      <td>...</td>\n",
       "      <td>...</td>\n",
       "      <td>...</td>\n",
       "      <td>...</td>\n",
       "      <td>...</td>\n",
       "      <td>...</td>\n",
       "      <td>...</td>\n",
       "      <td>...</td>\n",
       "      <td>...</td>\n",
       "    </tr>\n",
       "    <tr>\n",
       "      <th>99995</th>\n",
       "      <td>199995</td>\n",
       "      <td>NaN</td>\n",
       "      <td>3</td>\n",
       "      <td>Cash, Cheryle</td>\n",
       "      <td>female</td>\n",
       "      <td>27.00</td>\n",
       "      <td>0</td>\n",
       "      <td>0</td>\n",
       "      <td>7686</td>\n",
       "      <td>2.314514</td>\n",
       "      <td>X</td>\n",
       "      <td>Q</td>\n",
       "      <td>1</td>\n",
       "      <td>f_single</td>\n",
       "    </tr>\n",
       "    <tr>\n",
       "      <th>99996</th>\n",
       "      <td>199996</td>\n",
       "      <td>NaN</td>\n",
       "      <td>1</td>\n",
       "      <td>Brown, Howard</td>\n",
       "      <td>male</td>\n",
       "      <td>59.00</td>\n",
       "      <td>1</td>\n",
       "      <td>0</td>\n",
       "      <td>13004</td>\n",
       "      <td>4.224056</td>\n",
       "      <td>X</td>\n",
       "      <td>S</td>\n",
       "      <td>2</td>\n",
       "      <td>f_usual</td>\n",
       "    </tr>\n",
       "    <tr>\n",
       "      <th>99997</th>\n",
       "      <td>199997</td>\n",
       "      <td>NaN</td>\n",
       "      <td>3</td>\n",
       "      <td>Lightfoot, Cameron</td>\n",
       "      <td>male</td>\n",
       "      <td>47.00</td>\n",
       "      <td>0</td>\n",
       "      <td>0</td>\n",
       "      <td>4383317</td>\n",
       "      <td>2.386007</td>\n",
       "      <td>X</td>\n",
       "      <td>S</td>\n",
       "      <td>1</td>\n",
       "      <td>f_single</td>\n",
       "    </tr>\n",
       "    <tr>\n",
       "      <th>99998</th>\n",
       "      <td>199998</td>\n",
       "      <td>NaN</td>\n",
       "      <td>1</td>\n",
       "      <td>Jacobsen, Margaret</td>\n",
       "      <td>female</td>\n",
       "      <td>49.00</td>\n",
       "      <td>1</td>\n",
       "      <td>2</td>\n",
       "      <td>PC 26988</td>\n",
       "      <td>3.390473</td>\n",
       "      <td>B</td>\n",
       "      <td>C</td>\n",
       "      <td>4</td>\n",
       "      <td>f_usual</td>\n",
       "    </tr>\n",
       "    <tr>\n",
       "      <th>99999</th>\n",
       "      <td>199999</td>\n",
       "      <td>NaN</td>\n",
       "      <td>1</td>\n",
       "      <td>Fishback, Joanna</td>\n",
       "      <td>female</td>\n",
       "      <td>41.00</td>\n",
       "      <td>0</td>\n",
       "      <td>2</td>\n",
       "      <td>PC 41824</td>\n",
       "      <td>5.275100</td>\n",
       "      <td>E</td>\n",
       "      <td>C</td>\n",
       "      <td>3</td>\n",
       "      <td>f_usual</td>\n",
       "    </tr>\n",
       "  </tbody>\n",
       "</table>\n",
       "<p>200000 rows × 14 columns</p>\n",
       "</div>"
      ],
      "text/plain": [
       "       PassengerId  Survived  Pclass                Name     Sex    Age  \\\n",
       "0                0       1.0       1    Oconnor, Frankie    male  41.00   \n",
       "1                1       0.0       3         Bryan, Drew    male  26.00   \n",
       "2                2       0.0       3      Owens, Kenneth    male   0.33   \n",
       "3                3       0.0       3       Kramer, James    male  19.00   \n",
       "4                4       1.0       3       Bond, Michael    male  25.00   \n",
       "...            ...       ...     ...                 ...     ...    ...   \n",
       "99995       199995       NaN       3       Cash, Cheryle  female  27.00   \n",
       "99996       199996       NaN       1       Brown, Howard    male  59.00   \n",
       "99997       199997       NaN       3  Lightfoot, Cameron    male  47.00   \n",
       "99998       199998       NaN       1  Jacobsen, Margaret  female  49.00   \n",
       "99999       199999       NaN       1    Fishback, Joanna  female  41.00   \n",
       "\n",
       "       SibSp  Parch     Ticket      Fare Cabin Embarked  Family_size  \\\n",
       "0          2      0     209245  3.301009     C        S            3   \n",
       "1          0      0      27323  2.591516     X        S            1   \n",
       "2          1      2  CA 457703  4.266756     X        S            4   \n",
       "3          0      0   A. 10866  2.568022     X        S            1   \n",
       "4          0      0     427635  2.048982     X        S            1   \n",
       "...      ...    ...        ...       ...   ...      ...          ...   \n",
       "99995      0      0       7686  2.314514     X        Q            1   \n",
       "99996      1      0      13004  4.224056     X        S            2   \n",
       "99997      0      0    4383317  2.386007     X        S            1   \n",
       "99998      1      2   PC 26988  3.390473     B        C            4   \n",
       "99999      0      2   PC 41824  5.275100     E        C            3   \n",
       "\n",
       "      Family_size_group  \n",
       "0               f_usual  \n",
       "1              f_single  \n",
       "2               f_usual  \n",
       "3              f_single  \n",
       "4              f_single  \n",
       "...                 ...  \n",
       "99995          f_single  \n",
       "99996           f_usual  \n",
       "99997          f_single  \n",
       "99998           f_usual  \n",
       "99999           f_usual  \n",
       "\n",
       "[200000 rows x 14 columns]"
      ]
     },
     "execution_count": 42,
     "metadata": {},
     "output_type": "execute_result"
    }
   ],
   "source": [
    "total_df"
   ]
  },
  {
   "cell_type": "markdown",
   "metadata": {
    "papermill": {
     "duration": 0.097951,
     "end_time": "2021-04-26T06:00:24.820423",
     "exception": false,
     "start_time": "2021-04-26T06:00:24.722472",
     "status": "completed"
    },
    "tags": []
   },
   "source": [
    "### 4) Name"
   ]
  },
  {
   "cell_type": "code",
   "execution_count": 43,
   "metadata": {
    "execution": {
     "iopub.execute_input": "2021-04-26T06:00:25.020908Z",
     "iopub.status.busy": "2021-04-26T06:00:25.020200Z",
     "iopub.status.idle": "2021-04-26T06:00:25.128670Z",
     "shell.execute_reply": "2021-04-26T06:00:25.129188Z"
    },
    "papermill": {
     "duration": 0.210491,
     "end_time": "2021-04-26T06:00:25.129382",
     "exception": false,
     "start_time": "2021-04-26T06:00:24.918891",
     "status": "completed"
    },
    "tags": []
   },
   "outputs": [],
   "source": [
    "total_df['Name'] = total_df['Name'].map(lambda x: x.split(',')[0])"
   ]
  },
  {
   "cell_type": "markdown",
   "metadata": {
    "papermill": {
     "duration": 0.0973,
     "end_time": "2021-04-26T06:00:25.323631",
     "exception": false,
     "start_time": "2021-04-26T06:00:25.226331",
     "status": "completed"
    },
    "tags": []
   },
   "source": [
    "### 5) Ticket"
   ]
  },
  {
   "cell_type": "code",
   "execution_count": 44,
   "metadata": {
    "execution": {
     "iopub.execute_input": "2021-04-26T06:00:25.521655Z",
     "iopub.status.busy": "2021-04-26T06:00:25.520911Z",
     "iopub.status.idle": "2021-04-26T06:00:25.698315Z",
     "shell.execute_reply": "2021-04-26T06:00:25.698823Z"
    },
    "papermill": {
     "duration": 0.277948,
     "end_time": "2021-04-26T06:00:25.699020",
     "exception": false,
     "start_time": "2021-04-26T06:00:25.421072",
     "status": "completed"
    },
    "tags": []
   },
   "outputs": [],
   "source": [
    "total_df['Ticket'] = total_df['Ticket'].fillna('X').map(lambda x:str(x).split()[0] if len(str(x).split()) > 1 else 'X')"
   ]
  },
  {
   "cell_type": "markdown",
   "metadata": {
    "papermill": {
     "duration": 0.097806,
     "end_time": "2021-04-26T06:00:25.895606",
     "exception": false,
     "start_time": "2021-04-26T06:00:25.797800",
     "status": "completed"
    },
    "tags": []
   },
   "source": [
    "### 6) Drop\n",
    "- PassengerId, Name, SibSp, Parch, Cabin"
   ]
  },
  {
   "cell_type": "code",
   "execution_count": 45,
   "metadata": {
    "execution": {
     "iopub.execute_input": "2021-04-26T06:00:26.098543Z",
     "iopub.status.busy": "2021-04-26T06:00:26.097636Z",
     "iopub.status.idle": "2021-04-26T06:00:26.139141Z",
     "shell.execute_reply": "2021-04-26T06:00:26.139664Z"
    },
    "papermill": {
     "duration": 0.14567,
     "end_time": "2021-04-26T06:00:26.139868",
     "exception": false,
     "start_time": "2021-04-26T06:00:25.994198",
     "status": "completed"
    },
    "tags": []
   },
   "outputs": [
    {
     "data": {
      "text/html": [
       "<div>\n",
       "<style scoped>\n",
       "    .dataframe tbody tr th:only-of-type {\n",
       "        vertical-align: middle;\n",
       "    }\n",
       "\n",
       "    .dataframe tbody tr th {\n",
       "        vertical-align: top;\n",
       "    }\n",
       "\n",
       "    .dataframe thead th {\n",
       "        text-align: right;\n",
       "    }\n",
       "</style>\n",
       "<table border=\"1\" class=\"dataframe\">\n",
       "  <thead>\n",
       "    <tr style=\"text-align: right;\">\n",
       "      <th></th>\n",
       "      <th>PassengerId</th>\n",
       "      <th>Survived</th>\n",
       "      <th>Pclass</th>\n",
       "      <th>Name</th>\n",
       "      <th>Sex</th>\n",
       "      <th>Age</th>\n",
       "      <th>SibSp</th>\n",
       "      <th>Parch</th>\n",
       "      <th>Ticket</th>\n",
       "      <th>Fare</th>\n",
       "      <th>Cabin</th>\n",
       "      <th>Embarked</th>\n",
       "      <th>Family_size</th>\n",
       "      <th>Family_size_group</th>\n",
       "    </tr>\n",
       "  </thead>\n",
       "  <tbody>\n",
       "    <tr>\n",
       "      <th>0</th>\n",
       "      <td>0</td>\n",
       "      <td>1.0</td>\n",
       "      <td>1</td>\n",
       "      <td>Oconnor</td>\n",
       "      <td>male</td>\n",
       "      <td>41.00</td>\n",
       "      <td>2</td>\n",
       "      <td>0</td>\n",
       "      <td>X</td>\n",
       "      <td>3.301009</td>\n",
       "      <td>C</td>\n",
       "      <td>S</td>\n",
       "      <td>3</td>\n",
       "      <td>f_usual</td>\n",
       "    </tr>\n",
       "    <tr>\n",
       "      <th>1</th>\n",
       "      <td>1</td>\n",
       "      <td>0.0</td>\n",
       "      <td>3</td>\n",
       "      <td>Bryan</td>\n",
       "      <td>male</td>\n",
       "      <td>26.00</td>\n",
       "      <td>0</td>\n",
       "      <td>0</td>\n",
       "      <td>X</td>\n",
       "      <td>2.591516</td>\n",
       "      <td>X</td>\n",
       "      <td>S</td>\n",
       "      <td>1</td>\n",
       "      <td>f_single</td>\n",
       "    </tr>\n",
       "    <tr>\n",
       "      <th>2</th>\n",
       "      <td>2</td>\n",
       "      <td>0.0</td>\n",
       "      <td>3</td>\n",
       "      <td>Owens</td>\n",
       "      <td>male</td>\n",
       "      <td>0.33</td>\n",
       "      <td>1</td>\n",
       "      <td>2</td>\n",
       "      <td>CA</td>\n",
       "      <td>4.266756</td>\n",
       "      <td>X</td>\n",
       "      <td>S</td>\n",
       "      <td>4</td>\n",
       "      <td>f_usual</td>\n",
       "    </tr>\n",
       "    <tr>\n",
       "      <th>3</th>\n",
       "      <td>3</td>\n",
       "      <td>0.0</td>\n",
       "      <td>3</td>\n",
       "      <td>Kramer</td>\n",
       "      <td>male</td>\n",
       "      <td>19.00</td>\n",
       "      <td>0</td>\n",
       "      <td>0</td>\n",
       "      <td>A.</td>\n",
       "      <td>2.568022</td>\n",
       "      <td>X</td>\n",
       "      <td>S</td>\n",
       "      <td>1</td>\n",
       "      <td>f_single</td>\n",
       "    </tr>\n",
       "    <tr>\n",
       "      <th>4</th>\n",
       "      <td>4</td>\n",
       "      <td>1.0</td>\n",
       "      <td>3</td>\n",
       "      <td>Bond</td>\n",
       "      <td>male</td>\n",
       "      <td>25.00</td>\n",
       "      <td>0</td>\n",
       "      <td>0</td>\n",
       "      <td>X</td>\n",
       "      <td>2.048982</td>\n",
       "      <td>X</td>\n",
       "      <td>S</td>\n",
       "      <td>1</td>\n",
       "      <td>f_single</td>\n",
       "    </tr>\n",
       "    <tr>\n",
       "      <th>...</th>\n",
       "      <td>...</td>\n",
       "      <td>...</td>\n",
       "      <td>...</td>\n",
       "      <td>...</td>\n",
       "      <td>...</td>\n",
       "      <td>...</td>\n",
       "      <td>...</td>\n",
       "      <td>...</td>\n",
       "      <td>...</td>\n",
       "      <td>...</td>\n",
       "      <td>...</td>\n",
       "      <td>...</td>\n",
       "      <td>...</td>\n",
       "      <td>...</td>\n",
       "    </tr>\n",
       "    <tr>\n",
       "      <th>99995</th>\n",
       "      <td>199995</td>\n",
       "      <td>NaN</td>\n",
       "      <td>3</td>\n",
       "      <td>Cash</td>\n",
       "      <td>female</td>\n",
       "      <td>27.00</td>\n",
       "      <td>0</td>\n",
       "      <td>0</td>\n",
       "      <td>X</td>\n",
       "      <td>2.314514</td>\n",
       "      <td>X</td>\n",
       "      <td>Q</td>\n",
       "      <td>1</td>\n",
       "      <td>f_single</td>\n",
       "    </tr>\n",
       "    <tr>\n",
       "      <th>99996</th>\n",
       "      <td>199996</td>\n",
       "      <td>NaN</td>\n",
       "      <td>1</td>\n",
       "      <td>Brown</td>\n",
       "      <td>male</td>\n",
       "      <td>59.00</td>\n",
       "      <td>1</td>\n",
       "      <td>0</td>\n",
       "      <td>X</td>\n",
       "      <td>4.224056</td>\n",
       "      <td>X</td>\n",
       "      <td>S</td>\n",
       "      <td>2</td>\n",
       "      <td>f_usual</td>\n",
       "    </tr>\n",
       "    <tr>\n",
       "      <th>99997</th>\n",
       "      <td>199997</td>\n",
       "      <td>NaN</td>\n",
       "      <td>3</td>\n",
       "      <td>Lightfoot</td>\n",
       "      <td>male</td>\n",
       "      <td>47.00</td>\n",
       "      <td>0</td>\n",
       "      <td>0</td>\n",
       "      <td>X</td>\n",
       "      <td>2.386007</td>\n",
       "      <td>X</td>\n",
       "      <td>S</td>\n",
       "      <td>1</td>\n",
       "      <td>f_single</td>\n",
       "    </tr>\n",
       "    <tr>\n",
       "      <th>99998</th>\n",
       "      <td>199998</td>\n",
       "      <td>NaN</td>\n",
       "      <td>1</td>\n",
       "      <td>Jacobsen</td>\n",
       "      <td>female</td>\n",
       "      <td>49.00</td>\n",
       "      <td>1</td>\n",
       "      <td>2</td>\n",
       "      <td>PC</td>\n",
       "      <td>3.390473</td>\n",
       "      <td>B</td>\n",
       "      <td>C</td>\n",
       "      <td>4</td>\n",
       "      <td>f_usual</td>\n",
       "    </tr>\n",
       "    <tr>\n",
       "      <th>99999</th>\n",
       "      <td>199999</td>\n",
       "      <td>NaN</td>\n",
       "      <td>1</td>\n",
       "      <td>Fishback</td>\n",
       "      <td>female</td>\n",
       "      <td>41.00</td>\n",
       "      <td>0</td>\n",
       "      <td>2</td>\n",
       "      <td>PC</td>\n",
       "      <td>5.275100</td>\n",
       "      <td>E</td>\n",
       "      <td>C</td>\n",
       "      <td>3</td>\n",
       "      <td>f_usual</td>\n",
       "    </tr>\n",
       "  </tbody>\n",
       "</table>\n",
       "<p>200000 rows × 14 columns</p>\n",
       "</div>"
      ],
      "text/plain": [
       "       PassengerId  Survived  Pclass       Name     Sex    Age  SibSp  Parch  \\\n",
       "0                0       1.0       1    Oconnor    male  41.00      2      0   \n",
       "1                1       0.0       3      Bryan    male  26.00      0      0   \n",
       "2                2       0.0       3      Owens    male   0.33      1      2   \n",
       "3                3       0.0       3     Kramer    male  19.00      0      0   \n",
       "4                4       1.0       3       Bond    male  25.00      0      0   \n",
       "...            ...       ...     ...        ...     ...    ...    ...    ...   \n",
       "99995       199995       NaN       3       Cash  female  27.00      0      0   \n",
       "99996       199996       NaN       1      Brown    male  59.00      1      0   \n",
       "99997       199997       NaN       3  Lightfoot    male  47.00      0      0   \n",
       "99998       199998       NaN       1   Jacobsen  female  49.00      1      2   \n",
       "99999       199999       NaN       1   Fishback  female  41.00      0      2   \n",
       "\n",
       "      Ticket      Fare Cabin Embarked  Family_size Family_size_group  \n",
       "0          X  3.301009     C        S            3           f_usual  \n",
       "1          X  2.591516     X        S            1          f_single  \n",
       "2         CA  4.266756     X        S            4           f_usual  \n",
       "3         A.  2.568022     X        S            1          f_single  \n",
       "4          X  2.048982     X        S            1          f_single  \n",
       "...      ...       ...   ...      ...          ...               ...  \n",
       "99995      X  2.314514     X        Q            1          f_single  \n",
       "99996      X  4.224056     X        S            2           f_usual  \n",
       "99997      X  2.386007     X        S            1          f_single  \n",
       "99998     PC  3.390473     B        C            4           f_usual  \n",
       "99999     PC  5.275100     E        C            3           f_usual  \n",
       "\n",
       "[200000 rows x 14 columns]"
      ]
     },
     "execution_count": 45,
     "metadata": {},
     "output_type": "execute_result"
    }
   ],
   "source": [
    "total_df"
   ]
  },
  {
   "cell_type": "code",
   "execution_count": 46,
   "metadata": {
    "execution": {
     "iopub.execute_input": "2021-04-26T06:00:26.366916Z",
     "iopub.status.busy": "2021-04-26T06:00:26.365781Z",
     "iopub.status.idle": "2021-04-26T06:00:26.383967Z",
     "shell.execute_reply": "2021-04-26T06:00:26.383420Z"
    },
    "papermill": {
     "duration": 0.124898,
     "end_time": "2021-04-26T06:00:26.384116",
     "exception": false,
     "start_time": "2021-04-26T06:00:26.259218",
     "status": "completed"
    },
    "tags": []
   },
   "outputs": [
    {
     "data": {
      "text/plain": [
       "(200000, 10)"
      ]
     },
     "execution_count": 46,
     "metadata": {},
     "output_type": "execute_result"
    }
   ],
   "source": [
    "total_df.drop(['PassengerId','Name','Family_size_group','Family_size'], axis=1, inplace=True)\n",
    "total_df.shape"
   ]
  },
  {
   "cell_type": "code",
   "execution_count": 47,
   "metadata": {
    "execution": {
     "iopub.execute_input": "2021-04-26T06:00:26.612336Z",
     "iopub.status.busy": "2021-04-26T06:00:26.611595Z",
     "iopub.status.idle": "2021-04-26T06:00:26.761858Z",
     "shell.execute_reply": "2021-04-26T06:00:26.762516Z"
    },
    "papermill": {
     "duration": 0.278667,
     "end_time": "2021-04-26T06:00:26.762715",
     "exception": false,
     "start_time": "2021-04-26T06:00:26.484048",
     "status": "completed"
    },
    "tags": []
   },
   "outputs": [],
   "source": [
    "total_df['Sex']=total_df['Sex'].map({'female':0, 'male':1})\n",
    "total_df=pd.get_dummies(total_df, columns=['Embarked'], prefix='Embarked')\n",
    "total_df=pd.get_dummies(total_df, columns=['Cabin'], prefix='Cabin')\n",
    "total_df=pd.get_dummies(total_df, columns=['Ticket'], prefix='Ticket')\n",
    "#total_df=pd.get_dummies(total_df, columns=['Family_size_group'], prefix='Family_size_group')"
   ]
  },
  {
   "cell_type": "code",
   "execution_count": 48,
   "metadata": {
    "execution": {
     "iopub.execute_input": "2021-04-26T06:00:26.967856Z",
     "iopub.status.busy": "2021-04-26T06:00:26.967188Z",
     "iopub.status.idle": "2021-04-26T06:00:27.025116Z",
     "shell.execute_reply": "2021-04-26T06:00:27.025655Z"
    },
    "papermill": {
     "duration": 0.161657,
     "end_time": "2021-04-26T06:00:27.025837",
     "exception": false,
     "start_time": "2021-04-26T06:00:26.864180",
     "status": "completed"
    },
    "tags": []
   },
   "outputs": [
    {
     "data": {
      "text/html": [
       "<div>\n",
       "<style scoped>\n",
       "    .dataframe tbody tr th:only-of-type {\n",
       "        vertical-align: middle;\n",
       "    }\n",
       "\n",
       "    .dataframe tbody tr th {\n",
       "        vertical-align: top;\n",
       "    }\n",
       "\n",
       "    .dataframe thead th {\n",
       "        text-align: right;\n",
       "    }\n",
       "</style>\n",
       "<table border=\"1\" class=\"dataframe\">\n",
       "  <thead>\n",
       "    <tr style=\"text-align: right;\">\n",
       "      <th></th>\n",
       "      <th>Survived</th>\n",
       "      <th>Pclass</th>\n",
       "      <th>Sex</th>\n",
       "      <th>Age</th>\n",
       "      <th>SibSp</th>\n",
       "      <th>Parch</th>\n",
       "      <th>Fare</th>\n",
       "      <th>Embarked_C</th>\n",
       "      <th>Embarked_Q</th>\n",
       "      <th>Embarked_S</th>\n",
       "      <th>...</th>\n",
       "      <th>Ticket_SOTON/OQ</th>\n",
       "      <th>Ticket_STON/O</th>\n",
       "      <th>Ticket_STON/O2.</th>\n",
       "      <th>Ticket_STON/OQ.</th>\n",
       "      <th>Ticket_SW/PP</th>\n",
       "      <th>Ticket_W./C.</th>\n",
       "      <th>Ticket_W.E.P.</th>\n",
       "      <th>Ticket_W/C</th>\n",
       "      <th>Ticket_WE/P</th>\n",
       "      <th>Ticket_X</th>\n",
       "    </tr>\n",
       "  </thead>\n",
       "  <tbody>\n",
       "    <tr>\n",
       "      <th>0</th>\n",
       "      <td>1.0</td>\n",
       "      <td>1</td>\n",
       "      <td>1</td>\n",
       "      <td>41.00</td>\n",
       "      <td>2</td>\n",
       "      <td>0</td>\n",
       "      <td>3.301009</td>\n",
       "      <td>0</td>\n",
       "      <td>0</td>\n",
       "      <td>1</td>\n",
       "      <td>...</td>\n",
       "      <td>0</td>\n",
       "      <td>0</td>\n",
       "      <td>0</td>\n",
       "      <td>0</td>\n",
       "      <td>0</td>\n",
       "      <td>0</td>\n",
       "      <td>0</td>\n",
       "      <td>0</td>\n",
       "      <td>0</td>\n",
       "      <td>1</td>\n",
       "    </tr>\n",
       "    <tr>\n",
       "      <th>1</th>\n",
       "      <td>0.0</td>\n",
       "      <td>3</td>\n",
       "      <td>1</td>\n",
       "      <td>26.00</td>\n",
       "      <td>0</td>\n",
       "      <td>0</td>\n",
       "      <td>2.591516</td>\n",
       "      <td>0</td>\n",
       "      <td>0</td>\n",
       "      <td>1</td>\n",
       "      <td>...</td>\n",
       "      <td>0</td>\n",
       "      <td>0</td>\n",
       "      <td>0</td>\n",
       "      <td>0</td>\n",
       "      <td>0</td>\n",
       "      <td>0</td>\n",
       "      <td>0</td>\n",
       "      <td>0</td>\n",
       "      <td>0</td>\n",
       "      <td>1</td>\n",
       "    </tr>\n",
       "    <tr>\n",
       "      <th>2</th>\n",
       "      <td>0.0</td>\n",
       "      <td>3</td>\n",
       "      <td>1</td>\n",
       "      <td>0.33</td>\n",
       "      <td>1</td>\n",
       "      <td>2</td>\n",
       "      <td>4.266756</td>\n",
       "      <td>0</td>\n",
       "      <td>0</td>\n",
       "      <td>1</td>\n",
       "      <td>...</td>\n",
       "      <td>0</td>\n",
       "      <td>0</td>\n",
       "      <td>0</td>\n",
       "      <td>0</td>\n",
       "      <td>0</td>\n",
       "      <td>0</td>\n",
       "      <td>0</td>\n",
       "      <td>0</td>\n",
       "      <td>0</td>\n",
       "      <td>0</td>\n",
       "    </tr>\n",
       "    <tr>\n",
       "      <th>3</th>\n",
       "      <td>0.0</td>\n",
       "      <td>3</td>\n",
       "      <td>1</td>\n",
       "      <td>19.00</td>\n",
       "      <td>0</td>\n",
       "      <td>0</td>\n",
       "      <td>2.568022</td>\n",
       "      <td>0</td>\n",
       "      <td>0</td>\n",
       "      <td>1</td>\n",
       "      <td>...</td>\n",
       "      <td>0</td>\n",
       "      <td>0</td>\n",
       "      <td>0</td>\n",
       "      <td>0</td>\n",
       "      <td>0</td>\n",
       "      <td>0</td>\n",
       "      <td>0</td>\n",
       "      <td>0</td>\n",
       "      <td>0</td>\n",
       "      <td>0</td>\n",
       "    </tr>\n",
       "    <tr>\n",
       "      <th>4</th>\n",
       "      <td>1.0</td>\n",
       "      <td>3</td>\n",
       "      <td>1</td>\n",
       "      <td>25.00</td>\n",
       "      <td>0</td>\n",
       "      <td>0</td>\n",
       "      <td>2.048982</td>\n",
       "      <td>0</td>\n",
       "      <td>0</td>\n",
       "      <td>1</td>\n",
       "      <td>...</td>\n",
       "      <td>0</td>\n",
       "      <td>0</td>\n",
       "      <td>0</td>\n",
       "      <td>0</td>\n",
       "      <td>0</td>\n",
       "      <td>0</td>\n",
       "      <td>0</td>\n",
       "      <td>0</td>\n",
       "      <td>0</td>\n",
       "      <td>1</td>\n",
       "    </tr>\n",
       "    <tr>\n",
       "      <th>...</th>\n",
       "      <td>...</td>\n",
       "      <td>...</td>\n",
       "      <td>...</td>\n",
       "      <td>...</td>\n",
       "      <td>...</td>\n",
       "      <td>...</td>\n",
       "      <td>...</td>\n",
       "      <td>...</td>\n",
       "      <td>...</td>\n",
       "      <td>...</td>\n",
       "      <td>...</td>\n",
       "      <td>...</td>\n",
       "      <td>...</td>\n",
       "      <td>...</td>\n",
       "      <td>...</td>\n",
       "      <td>...</td>\n",
       "      <td>...</td>\n",
       "      <td>...</td>\n",
       "      <td>...</td>\n",
       "      <td>...</td>\n",
       "      <td>...</td>\n",
       "    </tr>\n",
       "    <tr>\n",
       "      <th>99995</th>\n",
       "      <td>NaN</td>\n",
       "      <td>3</td>\n",
       "      <td>0</td>\n",
       "      <td>27.00</td>\n",
       "      <td>0</td>\n",
       "      <td>0</td>\n",
       "      <td>2.314514</td>\n",
       "      <td>0</td>\n",
       "      <td>1</td>\n",
       "      <td>0</td>\n",
       "      <td>...</td>\n",
       "      <td>0</td>\n",
       "      <td>0</td>\n",
       "      <td>0</td>\n",
       "      <td>0</td>\n",
       "      <td>0</td>\n",
       "      <td>0</td>\n",
       "      <td>0</td>\n",
       "      <td>0</td>\n",
       "      <td>0</td>\n",
       "      <td>1</td>\n",
       "    </tr>\n",
       "    <tr>\n",
       "      <th>99996</th>\n",
       "      <td>NaN</td>\n",
       "      <td>1</td>\n",
       "      <td>1</td>\n",
       "      <td>59.00</td>\n",
       "      <td>1</td>\n",
       "      <td>0</td>\n",
       "      <td>4.224056</td>\n",
       "      <td>0</td>\n",
       "      <td>0</td>\n",
       "      <td>1</td>\n",
       "      <td>...</td>\n",
       "      <td>0</td>\n",
       "      <td>0</td>\n",
       "      <td>0</td>\n",
       "      <td>0</td>\n",
       "      <td>0</td>\n",
       "      <td>0</td>\n",
       "      <td>0</td>\n",
       "      <td>0</td>\n",
       "      <td>0</td>\n",
       "      <td>1</td>\n",
       "    </tr>\n",
       "    <tr>\n",
       "      <th>99997</th>\n",
       "      <td>NaN</td>\n",
       "      <td>3</td>\n",
       "      <td>1</td>\n",
       "      <td>47.00</td>\n",
       "      <td>0</td>\n",
       "      <td>0</td>\n",
       "      <td>2.386007</td>\n",
       "      <td>0</td>\n",
       "      <td>0</td>\n",
       "      <td>1</td>\n",
       "      <td>...</td>\n",
       "      <td>0</td>\n",
       "      <td>0</td>\n",
       "      <td>0</td>\n",
       "      <td>0</td>\n",
       "      <td>0</td>\n",
       "      <td>0</td>\n",
       "      <td>0</td>\n",
       "      <td>0</td>\n",
       "      <td>0</td>\n",
       "      <td>1</td>\n",
       "    </tr>\n",
       "    <tr>\n",
       "      <th>99998</th>\n",
       "      <td>NaN</td>\n",
       "      <td>1</td>\n",
       "      <td>0</td>\n",
       "      <td>49.00</td>\n",
       "      <td>1</td>\n",
       "      <td>2</td>\n",
       "      <td>3.390473</td>\n",
       "      <td>1</td>\n",
       "      <td>0</td>\n",
       "      <td>0</td>\n",
       "      <td>...</td>\n",
       "      <td>0</td>\n",
       "      <td>0</td>\n",
       "      <td>0</td>\n",
       "      <td>0</td>\n",
       "      <td>0</td>\n",
       "      <td>0</td>\n",
       "      <td>0</td>\n",
       "      <td>0</td>\n",
       "      <td>0</td>\n",
       "      <td>0</td>\n",
       "    </tr>\n",
       "    <tr>\n",
       "      <th>99999</th>\n",
       "      <td>NaN</td>\n",
       "      <td>1</td>\n",
       "      <td>0</td>\n",
       "      <td>41.00</td>\n",
       "      <td>0</td>\n",
       "      <td>2</td>\n",
       "      <td>5.275100</td>\n",
       "      <td>1</td>\n",
       "      <td>0</td>\n",
       "      <td>0</td>\n",
       "      <td>...</td>\n",
       "      <td>0</td>\n",
       "      <td>0</td>\n",
       "      <td>0</td>\n",
       "      <td>0</td>\n",
       "      <td>0</td>\n",
       "      <td>0</td>\n",
       "      <td>0</td>\n",
       "      <td>0</td>\n",
       "      <td>0</td>\n",
       "      <td>0</td>\n",
       "    </tr>\n",
       "  </tbody>\n",
       "</table>\n",
       "<p>200000 rows × 69 columns</p>\n",
       "</div>"
      ],
      "text/plain": [
       "       Survived  Pclass  Sex    Age  SibSp  Parch      Fare  Embarked_C  \\\n",
       "0           1.0       1    1  41.00      2      0  3.301009           0   \n",
       "1           0.0       3    1  26.00      0      0  2.591516           0   \n",
       "2           0.0       3    1   0.33      1      2  4.266756           0   \n",
       "3           0.0       3    1  19.00      0      0  2.568022           0   \n",
       "4           1.0       3    1  25.00      0      0  2.048982           0   \n",
       "...         ...     ...  ...    ...    ...    ...       ...         ...   \n",
       "99995       NaN       3    0  27.00      0      0  2.314514           0   \n",
       "99996       NaN       1    1  59.00      1      0  4.224056           0   \n",
       "99997       NaN       3    1  47.00      0      0  2.386007           0   \n",
       "99998       NaN       1    0  49.00      1      2  3.390473           1   \n",
       "99999       NaN       1    0  41.00      0      2  5.275100           1   \n",
       "\n",
       "       Embarked_Q  Embarked_S  ...  Ticket_SOTON/OQ  Ticket_STON/O  \\\n",
       "0               0           1  ...                0              0   \n",
       "1               0           1  ...                0              0   \n",
       "2               0           1  ...                0              0   \n",
       "3               0           1  ...                0              0   \n",
       "4               0           1  ...                0              0   \n",
       "...           ...         ...  ...              ...            ...   \n",
       "99995           1           0  ...                0              0   \n",
       "99996           0           1  ...                0              0   \n",
       "99997           0           1  ...                0              0   \n",
       "99998           0           0  ...                0              0   \n",
       "99999           0           0  ...                0              0   \n",
       "\n",
       "       Ticket_STON/O2.  Ticket_STON/OQ.  Ticket_SW/PP  Ticket_W./C.  \\\n",
       "0                    0                0             0             0   \n",
       "1                    0                0             0             0   \n",
       "2                    0                0             0             0   \n",
       "3                    0                0             0             0   \n",
       "4                    0                0             0             0   \n",
       "...                ...              ...           ...           ...   \n",
       "99995                0                0             0             0   \n",
       "99996                0                0             0             0   \n",
       "99997                0                0             0             0   \n",
       "99998                0                0             0             0   \n",
       "99999                0                0             0             0   \n",
       "\n",
       "       Ticket_W.E.P.  Ticket_W/C  Ticket_WE/P  Ticket_X  \n",
       "0                  0           0            0         1  \n",
       "1                  0           0            0         1  \n",
       "2                  0           0            0         0  \n",
       "3                  0           0            0         0  \n",
       "4                  0           0            0         1  \n",
       "...              ...         ...          ...       ...  \n",
       "99995              0           0            0         1  \n",
       "99996              0           0            0         1  \n",
       "99997              0           0            0         1  \n",
       "99998              0           0            0         0  \n",
       "99999              0           0            0         0  \n",
       "\n",
       "[200000 rows x 69 columns]"
      ]
     },
     "execution_count": 48,
     "metadata": {},
     "output_type": "execute_result"
    }
   ],
   "source": [
    "total_df"
   ]
  },
  {
   "cell_type": "markdown",
   "metadata": {
    "papermill": {
     "duration": 0.09995,
     "end_time": "2021-04-26T06:00:27.276275",
     "exception": false,
     "start_time": "2021-04-26T06:00:27.176325",
     "status": "completed"
    },
    "tags": []
   },
   "source": [
    "## Split data"
   ]
  },
  {
   "cell_type": "code",
   "execution_count": 49,
   "metadata": {
    "execution": {
     "iopub.execute_input": "2021-04-26T06:00:27.478761Z",
     "iopub.status.busy": "2021-04-26T06:00:27.478120Z",
     "iopub.status.idle": "2021-04-26T06:00:27.538907Z",
     "shell.execute_reply": "2021-04-26T06:00:27.538046Z"
    },
    "papermill": {
     "duration": 0.163398,
     "end_time": "2021-04-26T06:00:27.539122",
     "exception": false,
     "start_time": "2021-04-26T06:00:27.375724",
     "status": "completed"
    },
    "tags": []
   },
   "outputs": [
    {
     "name": "stdout",
     "output_type": "stream",
     "text": [
      "X Shape is: (100000, 69)\n",
      "<class 'pandas.core.frame.DataFrame'>\n",
      "Int64Index: 100000 entries, 0 to 99999\n",
      "Data columns (total 68 columns):\n",
      " #   Column             Non-Null Count   Dtype  \n",
      "---  ------             --------------   -----  \n",
      " 0   Pclass             100000 non-null  int64  \n",
      " 1   Sex                100000 non-null  int64  \n",
      " 2   Age                100000 non-null  float64\n",
      " 3   SibSp              100000 non-null  int64  \n",
      " 4   Parch              100000 non-null  int64  \n",
      " 5   Fare               100000 non-null  float64\n",
      " 6   Embarked_C         100000 non-null  uint8  \n",
      " 7   Embarked_Q         100000 non-null  uint8  \n",
      " 8   Embarked_S         100000 non-null  uint8  \n",
      " 9   Cabin_A            100000 non-null  uint8  \n",
      " 10  Cabin_B            100000 non-null  uint8  \n",
      " 11  Cabin_C            100000 non-null  uint8  \n",
      " 12  Cabin_D            100000 non-null  uint8  \n",
      " 13  Cabin_E            100000 non-null  uint8  \n",
      " 14  Cabin_F            100000 non-null  uint8  \n",
      " 15  Cabin_G            100000 non-null  uint8  \n",
      " 16  Cabin_T            100000 non-null  uint8  \n",
      " 17  Cabin_X            100000 non-null  uint8  \n",
      " 18  Ticket_A.          100000 non-null  uint8  \n",
      " 19  Ticket_A./5.       100000 non-null  uint8  \n",
      " 20  Ticket_A.5.        100000 non-null  uint8  \n",
      " 21  Ticket_A/4         100000 non-null  uint8  \n",
      " 22  Ticket_A/4.        100000 non-null  uint8  \n",
      " 23  Ticket_A/5         100000 non-null  uint8  \n",
      " 24  Ticket_A/5.        100000 non-null  uint8  \n",
      " 25  Ticket_A/S         100000 non-null  uint8  \n",
      " 26  Ticket_A4.         100000 non-null  uint8  \n",
      " 27  Ticket_AQ/3.       100000 non-null  uint8  \n",
      " 28  Ticket_AQ/4        100000 non-null  uint8  \n",
      " 29  Ticket_C           100000 non-null  uint8  \n",
      " 30  Ticket_C.A.        100000 non-null  uint8  \n",
      " 31  Ticket_C.A./SOTON  100000 non-null  uint8  \n",
      " 32  Ticket_CA          100000 non-null  uint8  \n",
      " 33  Ticket_CA.         100000 non-null  uint8  \n",
      " 34  Ticket_F.C.        100000 non-null  uint8  \n",
      " 35  Ticket_F.C.C.      100000 non-null  uint8  \n",
      " 36  Ticket_Fa          100000 non-null  uint8  \n",
      " 37  Ticket_LP          100000 non-null  uint8  \n",
      " 38  Ticket_P/PP        100000 non-null  uint8  \n",
      " 39  Ticket_PC          100000 non-null  uint8  \n",
      " 40  Ticket_PP          100000 non-null  uint8  \n",
      " 41  Ticket_S.C./A.4.   100000 non-null  uint8  \n",
      " 42  Ticket_S.C./PARIS  100000 non-null  uint8  \n",
      " 43  Ticket_S.O./P.P.   100000 non-null  uint8  \n",
      " 44  Ticket_S.O.C.      100000 non-null  uint8  \n",
      " 45  Ticket_S.O.P.      100000 non-null  uint8  \n",
      " 46  Ticket_S.P.        100000 non-null  uint8  \n",
      " 47  Ticket_S.W./PP     100000 non-null  uint8  \n",
      " 48  Ticket_SC          100000 non-null  uint8  \n",
      " 49  Ticket_SC/A.3      100000 non-null  uint8  \n",
      " 50  Ticket_SC/A4       100000 non-null  uint8  \n",
      " 51  Ticket_SC/AH       100000 non-null  uint8  \n",
      " 52  Ticket_SC/PARIS    100000 non-null  uint8  \n",
      " 53  Ticket_SC/Paris    100000 non-null  uint8  \n",
      " 54  Ticket_SCO/W       100000 non-null  uint8  \n",
      " 55  Ticket_SO/C        100000 non-null  uint8  \n",
      " 56  Ticket_SOTON/O.Q.  100000 non-null  uint8  \n",
      " 57  Ticket_SOTON/O2    100000 non-null  uint8  \n",
      " 58  Ticket_SOTON/OQ    100000 non-null  uint8  \n",
      " 59  Ticket_STON/O      100000 non-null  uint8  \n",
      " 60  Ticket_STON/O2.    100000 non-null  uint8  \n",
      " 61  Ticket_STON/OQ.    100000 non-null  uint8  \n",
      " 62  Ticket_SW/PP       100000 non-null  uint8  \n",
      " 63  Ticket_W./C.       100000 non-null  uint8  \n",
      " 64  Ticket_W.E.P.      100000 non-null  uint8  \n",
      " 65  Ticket_W/C         100000 non-null  uint8  \n",
      " 66  Ticket_WE/P        100000 non-null  uint8  \n",
      " 67  Ticket_X           100000 non-null  uint8  \n",
      "dtypes: float64(2), int64(4), uint8(62)\n",
      "memory usage: 11.3 MB\n"
     ]
    },
    {
     "name": "stderr",
     "output_type": "stream",
     "text": [
      "/opt/conda/lib/python3.7/site-packages/pandas/core/frame.py:4315: SettingWithCopyWarning: \n",
      "A value is trying to be set on a copy of a slice from a DataFrame\n",
      "\n",
      "See the caveats in the documentation: https://pandas.pydata.org/pandas-docs/stable/user_guide/indexing.html#returning-a-view-versus-a-copy\n",
      "  errors=errors,\n"
     ]
    }
   ],
   "source": [
    "X = total_df[:train.shape[0]]\n",
    "print(\"X Shape is:\", X.shape)\n",
    "y = X['Survived']\n",
    "X.drop(['Survived'], axis=1, inplace=True)\n",
    "test_data = total_df[train.shape[0]:].drop(columns=['Survived'])\n",
    "test_data.info()"
   ]
  },
  {
   "cell_type": "code",
   "execution_count": 50,
   "metadata": {
    "execution": {
     "iopub.execute_input": "2021-04-26T06:00:27.748074Z",
     "iopub.status.busy": "2021-04-26T06:00:27.747313Z",
     "iopub.status.idle": "2021-04-26T06:00:28.643594Z",
     "shell.execute_reply": "2021-04-26T06:00:28.643008Z"
    },
    "papermill": {
     "duration": 1.002487,
     "end_time": "2021-04-26T06:00:28.643734",
     "exception": false,
     "start_time": "2021-04-26T06:00:27.641247",
     "status": "completed"
    },
    "tags": []
   },
   "outputs": [
    {
     "data": {
      "text/plain": [
       "((70000, 68), (30000, 68), (70000,), (30000,))"
      ]
     },
     "execution_count": 50,
     "metadata": {},
     "output_type": "execute_result"
    }
   ],
   "source": [
    "from sklearn.model_selection import train_test_split\n",
    "\n",
    "#X_train, X_valid, y_train, y_valid = train_test_split(X, y, test_size = 0.3, random_state=42)\n",
    "X_train, X_valid, y_train, y_valid = train_test_split(X, y, test_size = 0.3, stratify = X[['Pclass']], random_state=42)\n",
    "X_train.shape, X_valid.shape, y_train.shape, y_valid.shape"
   ]
  },
  {
   "cell_type": "markdown",
   "metadata": {
    "papermill": {
     "duration": 0.102653,
     "end_time": "2021-04-26T06:00:28.848135",
     "exception": false,
     "start_time": "2021-04-26T06:00:28.745482",
     "status": "completed"
    },
    "tags": []
   },
   "source": [
    "## Modeling\n",
    "> *references*\n",
    "> [https://www.kaggle.com/j2hoon85/tps-april-sklearn-pycaret-for-newbies](https://www.kaggle.com/j2hoon85/tps-april-sklearn-pycaret-for-newbies)"
   ]
  },
  {
   "cell_type": "markdown",
   "metadata": {
    "papermill": {
     "duration": 0.110596,
     "end_time": "2021-04-26T06:00:29.060956",
     "exception": false,
     "start_time": "2021-04-26T06:00:28.950360",
     "status": "completed"
    },
    "tags": []
   },
   "source": [
    "### XGBoost Shap"
   ]
  },
  {
   "cell_type": "code",
   "execution_count": 51,
   "metadata": {
    "execution": {
     "iopub.execute_input": "2021-04-26T06:00:29.271650Z",
     "iopub.status.busy": "2021-04-26T06:00:29.270873Z",
     "iopub.status.idle": "2021-04-26T06:01:25.220979Z",
     "shell.execute_reply": "2021-04-26T06:01:25.220359Z"
    },
    "papermill": {
     "duration": 56.05697,
     "end_time": "2021-04-26T06:01:25.221116",
     "exception": false,
     "start_time": "2021-04-26T06:00:29.164146",
     "status": "completed"
    },
    "tags": []
   },
   "outputs": [
    {
     "name": "stderr",
     "output_type": "stream",
     "text": [
      "The use of label encoder in XGBClassifier is deprecated and will be removed in a future release. To remove this warning, do the following: 1) Pass option use_label_encoder=False when constructing XGBClassifier object; and 2) Encode your labels (y) as integers starting with 0, i.e. 0, 1, 2, ..., [num_class - 1].\n"
     ]
    },
    {
     "name": "stdout",
     "output_type": "stream",
     "text": [
      "[06:00:38] WARNING: ../src/learner.cc:1095: Starting in XGBoost 1.3.0, the default evaluation metric used with the objective 'binary:logistic' was changed from 'error' to 'logloss'. Explicitly set eval_metric if you'd like to restore the old behavior.\n"
     ]
    },
    {
     "name": "stderr",
     "output_type": "stream",
     "text": [
      "ntree_limit is deprecated, use `iteration_range` or model slicing instead.\n"
     ]
    },
    {
     "data": {
      "image/png": "[encoded data removed]",
      "text/plain": [
       "<Figure size 576x468 with 3 Axes>"
      ]
     },
     "metadata": {},
     "output_type": "display_data"
    },
    {
     "data": {
      "image/png": "[encoded data removed]",
      "text/plain": [
       "<Figure size 576x468 with 1 Axes>"
      ]
     },
     "metadata": {},
     "output_type": "display_data"
    }
   ],
   "source": [
    "import xgboost\n",
    "import shap\n",
    "\n",
    "# train an XGBoost model\n",
    "xgb_model = xgboost.XGBClassifier().fit(X_train, y_train)\n",
    "\n",
    "# explain the model's predictions using SHAP\n",
    "# (same syntax works for LightGBM, CatBoost, scikit-learn, transformers, Spark, etc.)\n",
    "explainer = shap.Explainer(xgb_model)\n",
    "shap_values = explainer(X)\n",
    "\n",
    "# visualize the first prediction's explanation\n",
    "shap.plots.waterfall(shap_values[0])\n",
    "\n",
    "shap.plots.bar(shap_values)"
   ]
  },
  {
   "cell_type": "markdown",
   "metadata": {
    "papermill": {
     "duration": 0.105373,
     "end_time": "2021-04-26T06:01:25.432457",
     "exception": false,
     "start_time": "2021-04-26T06:01:25.327084",
     "status": "completed"
    },
    "tags": []
   },
   "source": [
    "### Decision Tree"
   ]
  },
  {
   "cell_type": "code",
   "execution_count": 52,
   "metadata": {
    "execution": {
     "iopub.execute_input": "2021-04-26T06:01:25.647685Z",
     "iopub.status.busy": "2021-04-26T06:01:25.647036Z",
     "iopub.status.idle": "2021-04-26T06:01:25.650096Z",
     "shell.execute_reply": "2021-04-26T06:01:25.649582Z"
    },
    "papermill": {
     "duration": 0.112963,
     "end_time": "2021-04-26T06:01:25.650252",
     "exception": false,
     "start_time": "2021-04-26T06:01:25.537289",
     "status": "completed"
    },
    "tags": []
   },
   "outputs": [],
   "source": [
    "from sklearn.metrics import accuracy_score\n",
    "def acc_score(y_true, y_pred, **kwargs):\n",
    "    return accuracy_score(y_true, (y_pred > 0.5).astype(int), **kwargs)"
   ]
  },
  {
   "cell_type": "code",
   "execution_count": 53,
   "metadata": {
    "execution": {
     "iopub.execute_input": "2021-04-26T06:01:25.873845Z",
     "iopub.status.busy": "2021-04-26T06:01:25.873094Z",
     "iopub.status.idle": "2021-04-26T06:01:26.470257Z",
     "shell.execute_reply": "2021-04-26T06:01:26.469327Z"
    },
    "papermill": {
     "duration": 0.715231,
     "end_time": "2021-04-26T06:01:26.470450",
     "exception": false,
     "start_time": "2021-04-26T06:01:25.755219",
     "status": "completed"
    },
    "tags": []
   },
   "outputs": [
    {
     "name": "stdout",
     "output_type": "stream",
     "text": [
      "Model AUC: 0.8505605139706627\n",
      "Model Accurarcy: 0.7833333333333333\n",
      "\n",
      "\n"
     ]
    },
    {
     "data": {
      "image/png": "[encoded data removed]",
      "text/plain": [
       "<Figure size 720x432 with 1 Axes>"
      ]
     },
     "metadata": {
      "needs_background": "light"
     },
     "output_type": "display_data"
    }
   ],
   "source": [
    "from sklearn.tree import DecisionTreeClassifier\n",
    "from sklearn.metrics import roc_curve, roc_auc_score\n",
    "from matplotlib import pyplot as plt\n",
    "\n",
    "tree_model = DecisionTreeClassifier(max_depth=7)\n",
    "tree_model.fit(X_train, y_train)\n",
    "predictions = tree_model.predict_proba(X_valid)\n",
    "AUC = roc_auc_score(y_valid, predictions[:,1])\n",
    "ACC = acc_score(y_valid, predictions[:,1])\n",
    "print(\"Model AUC:\", AUC)\n",
    "print(\"Model Accurarcy:\", ACC)\n",
    "print(\"\\n\")\n",
    "\n",
    "fpr, tpr, _ = roc_curve(y_valid, predictions[:,1])\n",
    "\n",
    "fig, ax = plt.subplots(figsize=(10, 6))\n",
    "\n",
    "ax.plot(fpr, tpr)\n",
    "ax.text(x = 0.3, \n",
    "        y = 0.4, \n",
    "        s = \"Model AUC is {}\\n\\nModel Accuracy is {}\".format(np.round(AUC, 2), np.round(ACC, 2)), \n",
    "        fontsize=16, bbox=dict(facecolor='gray', alpha=0.3))\n",
    "ax.set_xlabel('FPR')\n",
    "ax.set_ylabel('TPR')\n",
    "ax.set_title('ROC curve')\n",
    "\n",
    "plt.show()"
   ]
  },
  {
   "cell_type": "code",
   "execution_count": 54,
   "metadata": {
    "execution": {
     "iopub.execute_input": "2021-04-26T06:01:26.704035Z",
     "iopub.status.busy": "2021-04-26T06:01:26.702980Z",
     "iopub.status.idle": "2021-04-26T06:01:26.705136Z",
     "shell.execute_reply": "2021-04-26T06:01:26.705671Z"
    },
    "papermill": {
     "duration": 0.125123,
     "end_time": "2021-04-26T06:01:26.705832",
     "exception": false,
     "start_time": "2021-04-26T06:01:26.580709",
     "status": "completed"
    },
    "tags": []
   },
   "outputs": [],
   "source": [
    "from sklearn import tree\n",
    "from sklearn.tree import DecisionTreeClassifier\n",
    "from sklearn.metrics import roc_curve, roc_auc_score, accuracy_score, confusion_matrix\n",
    "from matplotlib import pyplot as plt\n",
    "\n",
    "SEED = 0\n",
    "\n",
    "class sk_helper(object):\n",
    "    def __init__(self, model, seed=0, params={}):\n",
    "        params['random_state']=seed\n",
    "        self.model=model(**params)\n",
    "        self.model_name=str(model).split('.')[-1][:-2]\n",
    "        \n",
    "    def train(self, X_train, y_train):\n",
    "        self.model.fit(X_train, y_train)\n",
    "        \n",
    "    def predict(self, y_valid):\n",
    "        return self.model.predict(y_valid)\n",
    "    \n",
    "    def fit(self, x, y):\n",
    "        return self.model.fit(x,y)\n",
    "    \n",
    "    # feature importance\n",
    "    def feature_importances(self, X_train, y_train):\n",
    "        return self.model.fit(X_train, y_train).feature_importances_\n",
    "        \n",
    "    # roc_curve\n",
    "    def roc_curve_graph(self, X_train, y_train, X_valid, y_valid):\n",
    "        self.model.fit(X_train, y_train)\n",
    "        \n",
    "        print(\"model_name:\", self.model_name)\n",
    "        model_name = self.model_name\n",
    "        preds_proba = self.model.predict_proba(X_valid)\n",
    "        preds = (preds_proba[:, 1] > 0.5).astype(int)\n",
    "        auc = roc_auc_score(y_valid, preds_proba[:, 1])\n",
    "        acc = accuracy_score(y_valid, preds)\n",
    "        confusion = confusion_matrix(y_valid, preds)\n",
    "        print('Confusion Matrix')\n",
    "        print(confusion)\n",
    "        print(\"Model AUC: {0:.3f}, Model Accuracy: {1:.3f}\\n\".format(auc, acc))\n",
    "        fpr, tpr, _ = roc_curve(y_valid, preds_proba[:,1])\n",
    "        fig, ax = plt.subplots(figsize=(10, 6))\n",
    "\n",
    "        ax.plot(fpr, tpr)\n",
    "        ax.text(x = 0.3, \n",
    "                y = 0.4, \n",
    "                s = \"Model AUC is {}\\n\\nModel Accuracy is {}\".format(np.round(auc, 2), np.round(acc, 2)), \n",
    "                fontsize=16, bbox=dict(facecolor='gray', alpha=0.3))\n",
    "        ax.set_xlabel('FPR')\n",
    "        ax.set_ylabel('TPR')\n",
    "        ax.set_title('ROC curve of {}'.format(model_name), fontsize=16)\n",
    "\n",
    "        plt.show()"
   ]
  },
  {
   "cell_type": "code",
   "execution_count": 55,
   "metadata": {
    "execution": {
     "iopub.execute_input": "2021-04-26T06:01:26.927917Z",
     "iopub.status.busy": "2021-04-26T06:01:26.926955Z",
     "iopub.status.idle": "2021-04-26T06:01:37.470767Z",
     "shell.execute_reply": "2021-04-26T06:01:37.471271Z"
    },
    "papermill": {
     "duration": 10.656043,
     "end_time": "2021-04-26T06:01:37.471447",
     "exception": false,
     "start_time": "2021-04-26T06:01:26.815404",
     "status": "completed"
    },
    "tags": []
   },
   "outputs": [
    {
     "name": "stderr",
     "output_type": "stream",
     "text": [
      "[Parallel(n_jobs=-1)]: Using backend ThreadingBackend with 4 concurrent workers.\n",
      "[Parallel(n_jobs=-1)]: Done  42 tasks      | elapsed:    0.8s\n",
      "[Parallel(n_jobs=-1)]: Done 192 tasks      | elapsed:    3.5s\n",
      "[Parallel(n_jobs=-1)]: Done 442 tasks      | elapsed:    8.2s\n",
      "[Parallel(n_jobs=-1)]: Done 500 out of 500 | elapsed:    9.3s finished\n",
      "[Parallel(n_jobs=4)]: Using backend ThreadingBackend with 4 concurrent workers.\n",
      "[Parallel(n_jobs=4)]: Done  42 tasks      | elapsed:    0.1s\n"
     ]
    },
    {
     "name": "stdout",
     "output_type": "stream",
     "text": [
      "model_name: RandomForestClassifier\n"
     ]
    },
    {
     "name": "stderr",
     "output_type": "stream",
     "text": [
      "[Parallel(n_jobs=4)]: Done 192 tasks      | elapsed:    0.3s\n",
      "[Parallel(n_jobs=4)]: Done 442 tasks      | elapsed:    0.6s\n",
      "[Parallel(n_jobs=4)]: Done 500 out of 500 | elapsed:    0.7s finished\n"
     ]
    },
    {
     "name": "stdout",
     "output_type": "stream",
     "text": [
      "Confusion Matrix\n",
      "[[14356  2879]\n",
      " [ 3582  9183]]\n",
      "Model AUC: 0.855, Model Accuracy: 0.785\n",
      "\n"
     ]
    },
    {
     "data": {
      "image/png": "[encoded data removed]",
      "text/plain": [
       "<Figure size 720x432 with 1 Axes>"
      ]
     },
     "metadata": {
      "needs_background": "light"
     },
     "output_type": "display_data"
    },
    {
     "name": "stdout",
     "output_type": "stream",
     "text": [
      "CPU times: user 38.2 s, sys: 250 ms, total: 38.4 s\n",
      "Wall time: 10.5 s\n"
     ]
    }
   ],
   "source": [
    "%%time\n",
    "\n",
    "from sklearn.ensemble import RandomForestClassifier\n",
    "\n",
    "rf_params = {\n",
    "    'n_jobs': -1,\n",
    "    'n_estimators': 500,\n",
    "     'warm_start': True, \n",
    "     #'max_features': 0.2,\n",
    "    'max_depth': 10,\n",
    "    'min_samples_leaf': 2,\n",
    "    'max_features' : 'sqrt',\n",
    "    'verbose': 1\n",
    "}\n",
    "\n",
    "rf_model=sk_helper(model=RandomForestClassifier, seed=SEED, params=rf_params)\n",
    "rf_model.roc_curve_graph(X_train, y_train, X_valid, y_valid)"
   ]
  },
  {
   "cell_type": "code",
   "execution_count": 56,
   "metadata": {
    "execution": {
     "iopub.execute_input": "2021-04-26T06:01:37.708557Z",
     "iopub.status.busy": "2021-04-26T06:01:37.707860Z",
     "iopub.status.idle": "2021-04-26T06:01:41.532622Z",
     "shell.execute_reply": "2021-04-26T06:01:41.532091Z"
    },
    "papermill": {
     "duration": 3.945334,
     "end_time": "2021-04-26T06:01:41.532766",
     "exception": false,
     "start_time": "2021-04-26T06:01:37.587432",
     "status": "completed"
    },
    "tags": []
   },
   "outputs": [
    {
     "data": {
      "text/html": [
       "<style type='text/css'>\n",
       ".datatable table.frame { margin-bottom: 0; }\n",
       ".datatable table.frame thead { border-bottom: none; }\n",
       ".datatable table.frame tr.coltypes td {  color: #FFFFFF;  line-height: 6px;  padding: 0 0.5em;}\n",
       ".datatable .bool    { background: #DDDD99; }\n",
       ".datatable .object  { background: #565656; }\n",
       ".datatable .int     { background: #5D9E5D; }\n",
       ".datatable .float   { background: #4040CC; }\n",
       ".datatable .str     { background: #CC4040; }\n",
       ".datatable .row_index {  background: var(--jp-border-color3);  border-right: 1px solid var(--jp-border-color0);  color: var(--jp-ui-font-color3);  font-size: 9px;}\n",
       ".datatable .frame tr.coltypes .row_index {  background: var(--jp-border-color0);}\n",
       ".datatable th:nth-child(2) { padding-left: 12px; }\n",
       ".datatable .hellipsis {  color: var(--jp-cell-editor-border-color);}\n",
       ".datatable .vellipsis {  background: var(--jp-layout-color0);  color: var(--jp-cell-editor-border-color);}\n",
       ".datatable .na {  color: var(--jp-cell-editor-border-color);  font-size: 80%;}\n",
       ".datatable .footer { font-size: 9px; }\n",
       ".datatable .frame_dimensions {  background: var(--jp-border-color3);  border-top: 1px solid var(--jp-border-color0);  color: var(--jp-ui-font-color3);  display: inline-block;  opacity: 0.6;  padding: 1px 10px 1px 5px;}\n",
       "</style>\n"
      ],
      "text/plain": [
       "<IPython.core.display.HTML object>"
      ]
     },
     "metadata": {},
     "output_type": "display_data"
    },
    {
     "name": "stdout",
     "output_type": "stream",
     "text": [
      "[LightGBM] [Warning] Unknown parameter: max_features\n",
      "[LightGBM] [Warning] Unknown parameter: min_samples_leaf\n",
      "[LightGBM] [Warning] Unknown parameter: warm_start\n",
      "[LightGBM] [Warning] Accuracy may be bad since you didn't explicitly set num_leaves OR 2^max_depth > num_leaves. (num_leaves=31).\n",
      "[LightGBM] [Warning] Unknown parameter: max_features\n",
      "[LightGBM] [Warning] Unknown parameter: min_samples_leaf\n",
      "[LightGBM] [Warning] Unknown parameter: warm_start\n",
      "[LightGBM] [Warning] Accuracy may be bad since you didn't explicitly set num_leaves OR 2^max_depth > num_leaves. (num_leaves=31).\n",
      "[LightGBM] [Info] Number of positive: 30009, number of negative: 39991\n",
      "[LightGBM] [Warning] Auto-choosing row-wise multi-threading, the overhead of testing was 0.020202 seconds.\n",
      "You can set `force_row_wise=true` to remove the overhead.\n",
      "And if memory is not enough, you can set `force_col_wise=true`.\n",
      "[LightGBM] [Info] Total Bins 543\n",
      "[LightGBM] [Info] Number of data points in the train set: 70000, number of used features: 65\n",
      "[LightGBM] [Info] [binary:BoostFromScore]: pavg=0.428700 -> initscore=-0.287157\n",
      "[LightGBM] [Info] Start training from score -0.287157\n",
      "[LightGBM] [Warning] No further splits with positive gain, best gain: -inf\n",
      "[LightGBM] [Warning] No further splits with positive gain, best gain: -inf\n",
      "[LightGBM] [Warning] No further splits with positive gain, best gain: -inf\n",
      "model_name: LGBMClassifier\n",
      "Confusion Matrix\n",
      "[[14065  3170]\n",
      " [ 3286  9479]]\n",
      "Model AUC: 0.855, Model Accuracy: 0.785\n",
      "\n"
     ]
    },
    {
     "data": {
      "image/png": "[encoded data removed]",
      "text/plain": [
       "<Figure size 720x432 with 1 Axes>"
      ]
     },
     "metadata": {
      "needs_background": "light"
     },
     "output_type": "display_data"
    },
    {
     "name": "stdout",
     "output_type": "stream",
     "text": [
      "CPU times: user 5.81 s, sys: 134 ms, total: 5.94 s\n",
      "Wall time: 3.82 s\n"
     ]
    }
   ],
   "source": [
    "%%time\n",
    "\n",
    "import lightgbm as lgb\n",
    "\n",
    "lgb_params = {\n",
    "    'metric': 'binary_logloss',\n",
    "    'n_estimators': 1000,\n",
    "    'objective': 'binary',\n",
    "    'random_state': 2021,\n",
    "    'learning_rate': 0.01,\n",
    "    'min_child_samples': 150,\n",
    "    'reg_alpha': 3e-5,\n",
    "    'reg_lambda': 9e-2,\n",
    "    'num_leaves': 20,\n",
    "    'max_depth': 16,\n",
    "    'colsample_bytree': 0.8,\n",
    "    'subsample': 0.8,\n",
    "    'subsample_freq': 2,\n",
    "    'max_bin': 240\n",
    "}\n",
    "\n",
    "lgb_model=sk_helper(model=lgb.LGBMClassifier, seed=SEED, params=rf_params)\n",
    "lgb_model.roc_curve_graph(X_train, y_train, X_valid, y_valid)"
   ]
  },
  {
   "cell_type": "code",
   "execution_count": 57,
   "metadata": {
    "execution": {
     "iopub.execute_input": "2021-04-26T06:01:41.769632Z",
     "iopub.status.busy": "2021-04-26T06:01:41.768927Z",
     "iopub.status.idle": "2021-04-26T06:01:50.039509Z",
     "shell.execute_reply": "2021-04-26T06:01:50.038604Z"
    },
    "papermill": {
     "duration": 8.391297,
     "end_time": "2021-04-26T06:01:50.039678",
     "exception": false,
     "start_time": "2021-04-26T06:01:41.648381",
     "status": "completed"
    },
    "tags": []
   },
   "outputs": [
    {
     "name": "stdout",
     "output_type": "stream",
     "text": [
      "Requirement already satisfied: catboost in /opt/conda/lib/python3.7/site-packages (0.25.1)\n",
      "Requirement already satisfied: matplotlib in /opt/conda/lib/python3.7/site-packages (from catboost) (3.4.1)\n",
      "Requirement already satisfied: plotly in /opt/conda/lib/python3.7/site-packages (from catboost) (4.14.3)\n",
      "Requirement already satisfied: scipy in /opt/conda/lib/python3.7/site-packages (from catboost) (1.5.4)\n",
      "Requirement already satisfied: numpy>=1.16.0 in /opt/conda/lib/python3.7/site-packages (from catboost) (1.19.5)\n",
      "Requirement already satisfied: pandas>=0.24.0 in /opt/conda/lib/python3.7/site-packages (from catboost) (1.2.3)\n",
      "Requirement already satisfied: six in /opt/conda/lib/python3.7/site-packages (from catboost) (1.15.0)\n",
      "Requirement already satisfied: graphviz in /opt/conda/lib/python3.7/site-packages (from catboost) (0.8.4)\n",
      "Requirement already satisfied: python-dateutil>=2.7.3 in /opt/conda/lib/python3.7/site-packages (from pandas>=0.24.0->catboost) (2.8.1)\n",
      "Requirement already satisfied: pytz>=2017.3 in /opt/conda/lib/python3.7/site-packages (from pandas>=0.24.0->catboost) (2021.1)\n",
      "Requirement already satisfied: pillow>=6.2.0 in /opt/conda/lib/python3.7/site-packages (from matplotlib->catboost) (7.2.0)\n",
      "Requirement already satisfied: pyparsing>=2.2.1 in /opt/conda/lib/python3.7/site-packages (from matplotlib->catboost) (2.4.7)\n",
      "Requirement already satisfied: kiwisolver>=1.0.1 in /opt/conda/lib/python3.7/site-packages (from matplotlib->catboost) (1.3.1)\n",
      "Requirement already satisfied: cycler>=0.10 in /opt/conda/lib/python3.7/site-packages (from matplotlib->catboost) (0.10.0)\n",
      "Requirement already satisfied: retrying>=1.3.3 in /opt/conda/lib/python3.7/site-packages (from plotly->catboost) (1.3.3)\n"
     ]
    }
   ],
   "source": [
    "!pip install catboost"
   ]
  },
  {
   "cell_type": "code",
   "execution_count": 58,
   "metadata": {
    "execution": {
     "iopub.execute_input": "2021-04-26T06:01:50.281240Z",
     "iopub.status.busy": "2021-04-26T06:01:50.280235Z",
     "iopub.status.idle": "2021-04-26T06:02:15.081454Z",
     "shell.execute_reply": "2021-04-26T06:02:15.080418Z"
    },
    "papermill": {
     "duration": 24.923359,
     "end_time": "2021-04-26T06:02:15.081632",
     "exception": false,
     "start_time": "2021-04-26T06:01:50.158273",
     "status": "completed"
    },
    "tags": []
   },
   "outputs": [
    {
     "name": "stdout",
     "output_type": "stream",
     "text": [
      "0:\tlearn: 0.6884406\ttotal: 80.5ms\tremaining: 1m 20s\n",
      "1:\tlearn: 0.6838170\ttotal: 104ms\tremaining: 51.9s\n",
      "2:\tlearn: 0.6792866\ttotal: 120ms\tremaining: 40s\n",
      "3:\tlearn: 0.6749307\ttotal: 144ms\tremaining: 35.9s\n",
      "4:\tlearn: 0.6705501\ttotal: 168ms\tremaining: 33.4s\n",
      "5:\tlearn: 0.6662601\ttotal: 192ms\tremaining: 31.8s\n",
      "6:\tlearn: 0.6621476\ttotal: 214ms\tremaining: 30.4s\n",
      "7:\tlearn: 0.6580493\ttotal: 238ms\tremaining: 29.5s\n",
      "8:\tlearn: 0.6541011\ttotal: 260ms\tremaining: 28.6s\n",
      "9:\tlearn: 0.6502757\ttotal: 276ms\tremaining: 27.3s\n",
      "10:\tlearn: 0.6465377\ttotal: 302ms\tremaining: 27.1s\n",
      "11:\tlearn: 0.6427935\ttotal: 325ms\tremaining: 26.8s\n",
      "12:\tlearn: 0.6391145\ttotal: 348ms\tremaining: 26.4s\n",
      "13:\tlearn: 0.6356544\ttotal: 369ms\tremaining: 26s\n",
      "14:\tlearn: 0.6321140\ttotal: 393ms\tremaining: 25.8s\n",
      "15:\tlearn: 0.6287126\ttotal: 417ms\tremaining: 25.6s\n",
      "16:\tlearn: 0.6255104\ttotal: 436ms\tremaining: 25.2s\n",
      "17:\tlearn: 0.6222667\ttotal: 458ms\tremaining: 25s\n",
      "18:\tlearn: 0.6190328\ttotal: 484ms\tremaining: 25s\n",
      "19:\tlearn: 0.6160637\ttotal: 498ms\tremaining: 24.4s\n",
      "20:\tlearn: 0.6130081\ttotal: 532ms\tremaining: 24.8s\n",
      "21:\tlearn: 0.6101029\ttotal: 553ms\tremaining: 24.6s\n",
      "22:\tlearn: 0.6072655\ttotal: 578ms\tremaining: 24.6s\n",
      "23:\tlearn: 0.6043829\ttotal: 602ms\tremaining: 24.5s\n",
      "24:\tlearn: 0.6018266\ttotal: 620ms\tremaining: 24.2s\n",
      "25:\tlearn: 0.5990827\ttotal: 644ms\tremaining: 24.1s\n",
      "26:\tlearn: 0.5964782\ttotal: 668ms\tremaining: 24.1s\n",
      "27:\tlearn: 0.5939595\ttotal: 688ms\tremaining: 23.9s\n",
      "28:\tlearn: 0.5915331\ttotal: 704ms\tremaining: 23.6s\n",
      "29:\tlearn: 0.5889863\ttotal: 728ms\tremaining: 23.5s\n",
      "30:\tlearn: 0.5865869\ttotal: 753ms\tremaining: 23.5s\n",
      "31:\tlearn: 0.5842859\ttotal: 776ms\tremaining: 23.5s\n",
      "32:\tlearn: 0.5819020\ttotal: 801ms\tremaining: 23.5s\n",
      "33:\tlearn: 0.5797240\ttotal: 825ms\tremaining: 23.4s\n",
      "34:\tlearn: 0.5775389\ttotal: 848ms\tremaining: 23.4s\n",
      "35:\tlearn: 0.5755076\ttotal: 864ms\tremaining: 23.1s\n",
      "36:\tlearn: 0.5736566\ttotal: 878ms\tremaining: 22.9s\n",
      "37:\tlearn: 0.5717165\ttotal: 902ms\tremaining: 22.8s\n",
      "38:\tlearn: 0.5696527\ttotal: 925ms\tremaining: 22.8s\n",
      "39:\tlearn: 0.5677411\ttotal: 947ms\tremaining: 22.7s\n",
      "40:\tlearn: 0.5658559\ttotal: 971ms\tremaining: 22.7s\n",
      "41:\tlearn: 0.5639679\ttotal: 994ms\tremaining: 22.7s\n",
      "42:\tlearn: 0.5621573\ttotal: 1.02s\tremaining: 22.6s\n",
      "43:\tlearn: 0.5603957\ttotal: 1.04s\tremaining: 22.6s\n",
      "44:\tlearn: 0.5585892\ttotal: 1.07s\tremaining: 22.7s\n",
      "45:\tlearn: 0.5569204\ttotal: 1.09s\tremaining: 22.6s\n",
      "46:\tlearn: 0.5552463\ttotal: 1.11s\tremaining: 22.6s\n",
      "47:\tlearn: 0.5536250\ttotal: 1.14s\tremaining: 22.6s\n",
      "48:\tlearn: 0.5520718\ttotal: 1.16s\tremaining: 22.5s\n",
      "49:\tlearn: 0.5504821\ttotal: 1.19s\tremaining: 22.6s\n",
      "50:\tlearn: 0.5489653\ttotal: 1.21s\tremaining: 22.6s\n",
      "51:\tlearn: 0.5474109\ttotal: 1.24s\tremaining: 22.6s\n",
      "52:\tlearn: 0.5459763\ttotal: 1.26s\tremaining: 22.6s\n",
      "53:\tlearn: 0.5445562\ttotal: 1.29s\tremaining: 22.6s\n",
      "54:\tlearn: 0.5431438\ttotal: 1.31s\tremaining: 22.6s\n",
      "55:\tlearn: 0.5417719\ttotal: 1.34s\tremaining: 22.6s\n",
      "56:\tlearn: 0.5404477\ttotal: 1.36s\tremaining: 22.6s\n",
      "57:\tlearn: 0.5391074\ttotal: 1.39s\tremaining: 22.5s\n",
      "58:\tlearn: 0.5377986\ttotal: 1.41s\tremaining: 22.5s\n",
      "59:\tlearn: 0.5365282\ttotal: 1.44s\tremaining: 22.5s\n",
      "60:\tlearn: 0.5353029\ttotal: 1.46s\tremaining: 22.5s\n",
      "61:\tlearn: 0.5340683\ttotal: 1.48s\tremaining: 22.4s\n",
      "62:\tlearn: 0.5329104\ttotal: 1.51s\tremaining: 22.4s\n",
      "63:\tlearn: 0.5317566\ttotal: 1.53s\tremaining: 22.4s\n",
      "64:\tlearn: 0.5306147\ttotal: 1.55s\tremaining: 22.4s\n",
      "65:\tlearn: 0.5294422\ttotal: 1.58s\tremaining: 22.4s\n",
      "66:\tlearn: 0.5283472\ttotal: 1.6s\tremaining: 22.4s\n",
      "67:\tlearn: 0.5272628\ttotal: 1.63s\tremaining: 22.4s\n",
      "68:\tlearn: 0.5262269\ttotal: 1.66s\tremaining: 22.4s\n",
      "69:\tlearn: 0.5252543\ttotal: 1.68s\tremaining: 22.3s\n",
      "70:\tlearn: 0.5242217\ttotal: 1.71s\tremaining: 22.3s\n",
      "71:\tlearn: 0.5232597\ttotal: 1.73s\tremaining: 22.3s\n",
      "72:\tlearn: 0.5222463\ttotal: 1.76s\tremaining: 22.3s\n",
      "73:\tlearn: 0.5213520\ttotal: 1.78s\tremaining: 22.3s\n",
      "74:\tlearn: 0.5204568\ttotal: 1.8s\tremaining: 22.3s\n",
      "75:\tlearn: 0.5196299\ttotal: 1.83s\tremaining: 22.2s\n",
      "76:\tlearn: 0.5187603\ttotal: 1.85s\tremaining: 22.2s\n",
      "77:\tlearn: 0.5179326\ttotal: 1.88s\tremaining: 22.2s\n",
      "78:\tlearn: 0.5170868\ttotal: 1.9s\tremaining: 22.2s\n",
      "79:\tlearn: 0.5162588\ttotal: 1.92s\tremaining: 22.1s\n",
      "80:\tlearn: 0.5154756\ttotal: 1.95s\tremaining: 22.1s\n",
      "81:\tlearn: 0.5146912\ttotal: 1.97s\tremaining: 22.1s\n",
      "82:\tlearn: 0.5139581\ttotal: 2s\tremaining: 22.1s\n",
      "83:\tlearn: 0.5131996\ttotal: 2.02s\tremaining: 22.1s\n",
      "84:\tlearn: 0.5124481\ttotal: 2.04s\tremaining: 22s\n",
      "85:\tlearn: 0.5116752\ttotal: 2.07s\tremaining: 22s\n",
      "86:\tlearn: 0.5109482\ttotal: 2.1s\tremaining: 22s\n",
      "87:\tlearn: 0.5103112\ttotal: 2.12s\tremaining: 22s\n",
      "88:\tlearn: 0.5096581\ttotal: 2.15s\tremaining: 22s\n",
      "89:\tlearn: 0.5089431\ttotal: 2.18s\tremaining: 22s\n",
      "90:\tlearn: 0.5082522\ttotal: 2.2s\tremaining: 22s\n",
      "91:\tlearn: 0.5076517\ttotal: 2.23s\tremaining: 22s\n",
      "92:\tlearn: 0.5070308\ttotal: 2.25s\tremaining: 21.9s\n",
      "93:\tlearn: 0.5063997\ttotal: 2.27s\tremaining: 21.9s\n",
      "94:\tlearn: 0.5058001\ttotal: 2.3s\tremaining: 21.9s\n",
      "95:\tlearn: 0.5051906\ttotal: 2.33s\tremaining: 21.9s\n",
      "96:\tlearn: 0.5046129\ttotal: 2.35s\tremaining: 21.9s\n",
      "97:\tlearn: 0.5040508\ttotal: 2.38s\tremaining: 21.9s\n",
      "98:\tlearn: 0.5034705\ttotal: 2.4s\tremaining: 21.9s\n",
      "99:\tlearn: 0.5029049\ttotal: 2.42s\tremaining: 21.8s\n",
      "100:\tlearn: 0.5023410\ttotal: 2.45s\tremaining: 21.8s\n",
      "101:\tlearn: 0.5018054\ttotal: 2.47s\tremaining: 21.8s\n",
      "102:\tlearn: 0.5012927\ttotal: 2.5s\tremaining: 21.8s\n",
      "103:\tlearn: 0.5007620\ttotal: 2.53s\tremaining: 21.8s\n",
      "104:\tlearn: 0.5002364\ttotal: 2.55s\tremaining: 21.8s\n",
      "105:\tlearn: 0.4997446\ttotal: 2.58s\tremaining: 21.7s\n",
      "106:\tlearn: 0.4992382\ttotal: 2.6s\tremaining: 21.7s\n",
      "107:\tlearn: 0.4987651\ttotal: 2.63s\tremaining: 21.7s\n",
      "108:\tlearn: 0.4983881\ttotal: 2.64s\tremaining: 21.6s\n",
      "109:\tlearn: 0.4979742\ttotal: 2.67s\tremaining: 21.6s\n",
      "110:\tlearn: 0.4975065\ttotal: 2.7s\tremaining: 21.6s\n",
      "111:\tlearn: 0.4970813\ttotal: 2.73s\tremaining: 21.6s\n",
      "112:\tlearn: 0.4966415\ttotal: 2.75s\tremaining: 21.6s\n",
      "113:\tlearn: 0.4962375\ttotal: 2.77s\tremaining: 21.6s\n",
      "114:\tlearn: 0.4958272\ttotal: 2.8s\tremaining: 21.5s\n",
      "115:\tlearn: 0.4954165\ttotal: 2.82s\tremaining: 21.5s\n",
      "116:\tlearn: 0.4950403\ttotal: 2.85s\tremaining: 21.5s\n",
      "117:\tlearn: 0.4946756\ttotal: 2.87s\tremaining: 21.5s\n",
      "118:\tlearn: 0.4943074\ttotal: 2.9s\tremaining: 21.4s\n",
      "119:\tlearn: 0.4939117\ttotal: 2.92s\tremaining: 21.4s\n",
      "120:\tlearn: 0.4935388\ttotal: 2.95s\tremaining: 21.4s\n",
      "121:\tlearn: 0.4932137\ttotal: 2.97s\tremaining: 21.4s\n",
      "122:\tlearn: 0.4928860\ttotal: 3s\tremaining: 21.4s\n",
      "123:\tlearn: 0.4925254\ttotal: 3.02s\tremaining: 21.4s\n",
      "124:\tlearn: 0.4922541\ttotal: 3.04s\tremaining: 21.3s\n",
      "125:\tlearn: 0.4919255\ttotal: 3.06s\tremaining: 21.2s\n",
      "126:\tlearn: 0.4915802\ttotal: 3.08s\tremaining: 21.2s\n",
      "127:\tlearn: 0.4912600\ttotal: 3.11s\tremaining: 21.2s\n",
      "128:\tlearn: 0.4909621\ttotal: 3.13s\tremaining: 21.2s\n",
      "129:\tlearn: 0.4906550\ttotal: 3.16s\tremaining: 21.2s\n",
      "130:\tlearn: 0.4903320\ttotal: 3.19s\tremaining: 21.1s\n",
      "131:\tlearn: 0.4900083\ttotal: 3.21s\tremaining: 21.1s\n",
      "132:\tlearn: 0.4896774\ttotal: 3.24s\tremaining: 21.1s\n",
      "133:\tlearn: 0.4893788\ttotal: 3.26s\tremaining: 21.1s\n",
      "134:\tlearn: 0.4890677\ttotal: 3.29s\tremaining: 21.1s\n",
      "135:\tlearn: 0.4887482\ttotal: 3.31s\tremaining: 21s\n",
      "136:\tlearn: 0.4884599\ttotal: 3.34s\tremaining: 21s\n",
      "137:\tlearn: 0.4881724\ttotal: 3.37s\tremaining: 21s\n",
      "138:\tlearn: 0.4878845\ttotal: 3.39s\tremaining: 21s\n",
      "139:\tlearn: 0.4876288\ttotal: 3.42s\tremaining: 21s\n",
      "140:\tlearn: 0.4873738\ttotal: 3.44s\tremaining: 21s\n",
      "141:\tlearn: 0.4871044\ttotal: 3.47s\tremaining: 20.9s\n",
      "142:\tlearn: 0.4868465\ttotal: 3.5s\tremaining: 21s\n",
      "143:\tlearn: 0.4865916\ttotal: 3.53s\tremaining: 21s\n",
      "144:\tlearn: 0.4863548\ttotal: 3.57s\tremaining: 21.1s\n",
      "145:\tlearn: 0.4860985\ttotal: 3.6s\tremaining: 21.1s\n",
      "146:\tlearn: 0.4858511\ttotal: 3.63s\tremaining: 21.1s\n",
      "147:\tlearn: 0.4856274\ttotal: 3.65s\tremaining: 21s\n",
      "148:\tlearn: 0.4853693\ttotal: 3.68s\tremaining: 21s\n",
      "149:\tlearn: 0.4851541\ttotal: 3.7s\tremaining: 21s\n",
      "150:\tlearn: 0.4849915\ttotal: 3.72s\tremaining: 20.9s\n",
      "151:\tlearn: 0.4847782\ttotal: 3.74s\tremaining: 20.9s\n",
      "152:\tlearn: 0.4845270\ttotal: 3.77s\tremaining: 20.9s\n",
      "153:\tlearn: 0.4842832\ttotal: 3.8s\tremaining: 20.9s\n",
      "154:\tlearn: 0.4840638\ttotal: 3.82s\tremaining: 20.8s\n",
      "155:\tlearn: 0.4838815\ttotal: 3.85s\tremaining: 20.8s\n",
      "156:\tlearn: 0.4836920\ttotal: 3.87s\tremaining: 20.8s\n",
      "157:\tlearn: 0.4835030\ttotal: 3.9s\tremaining: 20.8s\n",
      "158:\tlearn: 0.4832918\ttotal: 3.92s\tremaining: 20.7s\n",
      "159:\tlearn: 0.4831511\ttotal: 3.93s\tremaining: 20.7s\n",
      "160:\tlearn: 0.4829497\ttotal: 3.96s\tremaining: 20.6s\n",
      "161:\tlearn: 0.4827754\ttotal: 3.98s\tremaining: 20.6s\n",
      "162:\tlearn: 0.4825804\ttotal: 4.01s\tremaining: 20.6s\n",
      "163:\tlearn: 0.4823916\ttotal: 4.04s\tremaining: 20.6s\n",
      "164:\tlearn: 0.4822085\ttotal: 4.06s\tremaining: 20.5s\n",
      "165:\tlearn: 0.4820429\ttotal: 4.08s\tremaining: 20.5s\n",
      "166:\tlearn: 0.4818731\ttotal: 4.11s\tremaining: 20.5s\n",
      "167:\tlearn: 0.4817004\ttotal: 4.13s\tremaining: 20.5s\n",
      "168:\tlearn: 0.4815285\ttotal: 4.16s\tremaining: 20.4s\n",
      "169:\tlearn: 0.4813635\ttotal: 4.18s\tremaining: 20.4s\n",
      "170:\tlearn: 0.4812079\ttotal: 4.2s\tremaining: 20.4s\n",
      "171:\tlearn: 0.4810382\ttotal: 4.23s\tremaining: 20.4s\n",
      "172:\tlearn: 0.4808926\ttotal: 4.25s\tremaining: 20.3s\n",
      "173:\tlearn: 0.4807381\ttotal: 4.28s\tremaining: 20.3s\n",
      "174:\tlearn: 0.4805700\ttotal: 4.3s\tremaining: 20.3s\n",
      "175:\tlearn: 0.4804400\ttotal: 4.32s\tremaining: 20.2s\n",
      "176:\tlearn: 0.4802812\ttotal: 4.35s\tremaining: 20.2s\n",
      "177:\tlearn: 0.4801280\ttotal: 4.37s\tremaining: 20.2s\n",
      "178:\tlearn: 0.4799842\ttotal: 4.39s\tremaining: 20.2s\n",
      "179:\tlearn: 0.4798398\ttotal: 4.42s\tremaining: 20.1s\n",
      "180:\tlearn: 0.4797125\ttotal: 4.44s\tremaining: 20.1s\n",
      "181:\tlearn: 0.4795689\ttotal: 4.47s\tremaining: 20.1s\n",
      "182:\tlearn: 0.4794479\ttotal: 4.49s\tremaining: 20s\n",
      "183:\tlearn: 0.4792997\ttotal: 4.51s\tremaining: 20s\n",
      "184:\tlearn: 0.4791614\ttotal: 4.54s\tremaining: 20s\n",
      "185:\tlearn: 0.4790325\ttotal: 4.56s\tremaining: 20s\n",
      "186:\tlearn: 0.4789103\ttotal: 4.59s\tremaining: 19.9s\n",
      "187:\tlearn: 0.4787746\ttotal: 4.61s\tremaining: 19.9s\n",
      "188:\tlearn: 0.4786240\ttotal: 4.64s\tremaining: 19.9s\n",
      "189:\tlearn: 0.4784893\ttotal: 4.66s\tremaining: 19.9s\n",
      "190:\tlearn: 0.4783515\ttotal: 4.69s\tremaining: 19.9s\n",
      "191:\tlearn: 0.4782205\ttotal: 4.71s\tremaining: 19.8s\n",
      "192:\tlearn: 0.4780959\ttotal: 4.74s\tremaining: 19.8s\n",
      "193:\tlearn: 0.4779926\ttotal: 4.76s\tremaining: 19.8s\n",
      "194:\tlearn: 0.4778871\ttotal: 4.78s\tremaining: 19.7s\n",
      "195:\tlearn: 0.4777654\ttotal: 4.81s\tremaining: 19.7s\n",
      "196:\tlearn: 0.4776578\ttotal: 4.83s\tremaining: 19.7s\n",
      "197:\tlearn: 0.4775341\ttotal: 4.85s\tremaining: 19.7s\n",
      "198:\tlearn: 0.4773985\ttotal: 4.88s\tremaining: 19.6s\n",
      "199:\tlearn: 0.4772849\ttotal: 4.91s\tremaining: 19.6s\n",
      "200:\tlearn: 0.4771735\ttotal: 4.93s\tremaining: 19.6s\n",
      "201:\tlearn: 0.4770525\ttotal: 4.95s\tremaining: 19.6s\n",
      "202:\tlearn: 0.4769315\ttotal: 4.98s\tremaining: 19.5s\n",
      "203:\tlearn: 0.4768213\ttotal: 5s\tremaining: 19.5s\n",
      "204:\tlearn: 0.4767196\ttotal: 5.03s\tremaining: 19.5s\n",
      "205:\tlearn: 0.4766273\ttotal: 5.05s\tremaining: 19.5s\n",
      "206:\tlearn: 0.4765335\ttotal: 5.07s\tremaining: 19.4s\n",
      "207:\tlearn: 0.4764282\ttotal: 5.1s\tremaining: 19.4s\n",
      "208:\tlearn: 0.4763482\ttotal: 5.12s\tremaining: 19.4s\n",
      "209:\tlearn: 0.4762623\ttotal: 5.15s\tremaining: 19.4s\n",
      "210:\tlearn: 0.4761735\ttotal: 5.17s\tremaining: 19.3s\n",
      "211:\tlearn: 0.4760733\ttotal: 5.19s\tremaining: 19.3s\n",
      "212:\tlearn: 0.4759979\ttotal: 5.22s\tremaining: 19.3s\n",
      "213:\tlearn: 0.4758779\ttotal: 5.24s\tremaining: 19.3s\n",
      "214:\tlearn: 0.4757827\ttotal: 5.26s\tremaining: 19.2s\n",
      "215:\tlearn: 0.4757053\ttotal: 5.29s\tremaining: 19.2s\n",
      "216:\tlearn: 0.4756008\ttotal: 5.32s\tremaining: 19.2s\n",
      "217:\tlearn: 0.4755150\ttotal: 5.34s\tremaining: 19.2s\n",
      "218:\tlearn: 0.4754208\ttotal: 5.36s\tremaining: 19.1s\n",
      "219:\tlearn: 0.4753210\ttotal: 5.39s\tremaining: 19.1s\n",
      "220:\tlearn: 0.4752463\ttotal: 5.41s\tremaining: 19.1s\n",
      "221:\tlearn: 0.4751665\ttotal: 5.44s\tremaining: 19.1s\n",
      "222:\tlearn: 0.4750788\ttotal: 5.46s\tremaining: 19s\n",
      "223:\tlearn: 0.4749864\ttotal: 5.49s\tremaining: 19s\n",
      "224:\tlearn: 0.4748725\ttotal: 5.51s\tremaining: 19s\n",
      "225:\tlearn: 0.4747832\ttotal: 5.54s\tremaining: 19s\n",
      "226:\tlearn: 0.4747065\ttotal: 5.56s\tremaining: 18.9s\n",
      "227:\tlearn: 0.4746132\ttotal: 5.59s\tremaining: 18.9s\n",
      "228:\tlearn: 0.4745160\ttotal: 5.61s\tremaining: 18.9s\n",
      "229:\tlearn: 0.4744390\ttotal: 5.64s\tremaining: 18.9s\n",
      "230:\tlearn: 0.4743604\ttotal: 5.66s\tremaining: 18.9s\n",
      "231:\tlearn: 0.4742583\ttotal: 5.69s\tremaining: 18.8s\n",
      "232:\tlearn: 0.4741847\ttotal: 5.71s\tremaining: 18.8s\n",
      "233:\tlearn: 0.4740959\ttotal: 5.74s\tremaining: 18.8s\n",
      "234:\tlearn: 0.4740094\ttotal: 5.76s\tremaining: 18.8s\n",
      "235:\tlearn: 0.4739407\ttotal: 5.79s\tremaining: 18.7s\n",
      "236:\tlearn: 0.4738660\ttotal: 5.81s\tremaining: 18.7s\n",
      "237:\tlearn: 0.4737837\ttotal: 5.84s\tremaining: 18.7s\n",
      "238:\tlearn: 0.4737104\ttotal: 5.86s\tremaining: 18.7s\n",
      "239:\tlearn: 0.4736311\ttotal: 5.89s\tremaining: 18.6s\n",
      "240:\tlearn: 0.4735539\ttotal: 5.91s\tremaining: 18.6s\n",
      "241:\tlearn: 0.4734807\ttotal: 5.94s\tremaining: 18.6s\n",
      "242:\tlearn: 0.4734141\ttotal: 5.96s\tremaining: 18.6s\n",
      "243:\tlearn: 0.4733445\ttotal: 5.99s\tremaining: 18.6s\n",
      "244:\tlearn: 0.4732736\ttotal: 6.01s\tremaining: 18.5s\n",
      "245:\tlearn: 0.4731923\ttotal: 6.04s\tremaining: 18.5s\n",
      "246:\tlearn: 0.4731118\ttotal: 6.06s\tremaining: 18.5s\n",
      "247:\tlearn: 0.4730604\ttotal: 6.08s\tremaining: 18.5s\n",
      "248:\tlearn: 0.4729942\ttotal: 6.13s\tremaining: 18.5s\n",
      "249:\tlearn: 0.4729268\ttotal: 6.23s\tremaining: 18.7s\n",
      "250:\tlearn: 0.4728592\ttotal: 6.29s\tremaining: 18.8s\n",
      "251:\tlearn: 0.4727932\ttotal: 6.32s\tremaining: 18.7s\n",
      "252:\tlearn: 0.4727464\ttotal: 6.34s\tremaining: 18.7s\n",
      "253:\tlearn: 0.4726803\ttotal: 6.37s\tremaining: 18.7s\n",
      "254:\tlearn: 0.4726170\ttotal: 6.39s\tremaining: 18.7s\n",
      "255:\tlearn: 0.4725995\ttotal: 6.4s\tremaining: 18.6s\n",
      "256:\tlearn: 0.4725542\ttotal: 6.43s\tremaining: 18.6s\n",
      "257:\tlearn: 0.4724986\ttotal: 6.45s\tremaining: 18.6s\n",
      "258:\tlearn: 0.4724363\ttotal: 6.48s\tremaining: 18.5s\n",
      "259:\tlearn: 0.4723640\ttotal: 6.5s\tremaining: 18.5s\n",
      "260:\tlearn: 0.4723009\ttotal: 6.53s\tremaining: 18.5s\n",
      "261:\tlearn: 0.4722426\ttotal: 6.55s\tremaining: 18.5s\n",
      "262:\tlearn: 0.4721912\ttotal: 6.58s\tremaining: 18.4s\n",
      "263:\tlearn: 0.4721549\ttotal: 6.6s\tremaining: 18.4s\n",
      "264:\tlearn: 0.4720826\ttotal: 6.63s\tremaining: 18.4s\n",
      "265:\tlearn: 0.4720172\ttotal: 6.65s\tremaining: 18.3s\n",
      "266:\tlearn: 0.4719535\ttotal: 6.67s\tremaining: 18.3s\n",
      "267:\tlearn: 0.4719023\ttotal: 6.7s\tremaining: 18.3s\n",
      "268:\tlearn: 0.4718534\ttotal: 6.72s\tremaining: 18.3s\n",
      "269:\tlearn: 0.4717885\ttotal: 6.74s\tremaining: 18.2s\n",
      "270:\tlearn: 0.4717176\ttotal: 6.77s\tremaining: 18.2s\n",
      "271:\tlearn: 0.4716617\ttotal: 6.79s\tremaining: 18.2s\n",
      "272:\tlearn: 0.4715830\ttotal: 6.82s\tremaining: 18.2s\n",
      "273:\tlearn: 0.4715357\ttotal: 6.84s\tremaining: 18.1s\n",
      "274:\tlearn: 0.4714868\ttotal: 6.87s\tremaining: 18.1s\n",
      "275:\tlearn: 0.4714388\ttotal: 6.89s\tremaining: 18.1s\n",
      "276:\tlearn: 0.4713894\ttotal: 6.91s\tremaining: 18s\n",
      "277:\tlearn: 0.4713289\ttotal: 6.94s\tremaining: 18s\n",
      "278:\tlearn: 0.4712782\ttotal: 6.96s\tremaining: 18s\n",
      "279:\tlearn: 0.4712199\ttotal: 7s\tremaining: 18s\n",
      "280:\tlearn: 0.4711798\ttotal: 7.03s\tremaining: 18s\n",
      "281:\tlearn: 0.4711284\ttotal: 7.06s\tremaining: 18s\n",
      "282:\tlearn: 0.4710726\ttotal: 7.09s\tremaining: 18s\n",
      "283:\tlearn: 0.4710250\ttotal: 7.13s\tremaining: 18s\n",
      "284:\tlearn: 0.4709614\ttotal: 7.16s\tremaining: 18s\n",
      "285:\tlearn: 0.4709017\ttotal: 7.19s\tremaining: 18s\n",
      "286:\tlearn: 0.4708453\ttotal: 7.22s\tremaining: 17.9s\n",
      "287:\tlearn: 0.4707988\ttotal: 7.25s\tremaining: 17.9s\n",
      "288:\tlearn: 0.4707513\ttotal: 7.28s\tremaining: 17.9s\n",
      "289:\tlearn: 0.4706960\ttotal: 7.32s\tremaining: 17.9s\n",
      "290:\tlearn: 0.4706629\ttotal: 7.35s\tremaining: 17.9s\n",
      "291:\tlearn: 0.4706212\ttotal: 7.38s\tremaining: 17.9s\n",
      "292:\tlearn: 0.4705679\ttotal: 7.41s\tremaining: 17.9s\n",
      "293:\tlearn: 0.4705116\ttotal: 7.45s\tremaining: 17.9s\n",
      "294:\tlearn: 0.4704656\ttotal: 7.48s\tremaining: 17.9s\n",
      "295:\tlearn: 0.4704126\ttotal: 7.51s\tremaining: 17.9s\n",
      "296:\tlearn: 0.4703708\ttotal: 7.54s\tremaining: 17.9s\n",
      "297:\tlearn: 0.4703217\ttotal: 7.57s\tremaining: 17.8s\n",
      "298:\tlearn: 0.4702804\ttotal: 7.6s\tremaining: 17.8s\n",
      "299:\tlearn: 0.4702280\ttotal: 7.63s\tremaining: 17.8s\n",
      "300:\tlearn: 0.4701886\ttotal: 7.66s\tremaining: 17.8s\n",
      "301:\tlearn: 0.4701525\ttotal: 7.69s\tremaining: 17.8s\n",
      "302:\tlearn: 0.4701154\ttotal: 7.71s\tremaining: 17.7s\n",
      "303:\tlearn: 0.4700790\ttotal: 7.75s\tremaining: 17.7s\n",
      "304:\tlearn: 0.4700324\ttotal: 7.78s\tremaining: 17.7s\n",
      "305:\tlearn: 0.4699747\ttotal: 7.81s\tremaining: 17.7s\n",
      "306:\tlearn: 0.4699302\ttotal: 7.83s\tremaining: 17.7s\n",
      "307:\tlearn: 0.4698923\ttotal: 7.86s\tremaining: 17.7s\n",
      "308:\tlearn: 0.4698518\ttotal: 7.89s\tremaining: 17.6s\n",
      "309:\tlearn: 0.4698233\ttotal: 7.92s\tremaining: 17.6s\n",
      "310:\tlearn: 0.4697744\ttotal: 7.95s\tremaining: 17.6s\n",
      "311:\tlearn: 0.4697332\ttotal: 7.98s\tremaining: 17.6s\n",
      "312:\tlearn: 0.4696965\ttotal: 8.01s\tremaining: 17.6s\n",
      "313:\tlearn: 0.4696554\ttotal: 8.03s\tremaining: 17.6s\n",
      "314:\tlearn: 0.4696063\ttotal: 8.06s\tremaining: 17.5s\n",
      "315:\tlearn: 0.4695670\ttotal: 8.09s\tremaining: 17.5s\n",
      "316:\tlearn: 0.4695291\ttotal: 8.12s\tremaining: 17.5s\n",
      "317:\tlearn: 0.4694878\ttotal: 8.15s\tremaining: 17.5s\n",
      "318:\tlearn: 0.4694437\ttotal: 8.17s\tremaining: 17.4s\n",
      "319:\tlearn: 0.4694075\ttotal: 8.2s\tremaining: 17.4s\n",
      "320:\tlearn: 0.4693653\ttotal: 8.22s\tremaining: 17.4s\n",
      "321:\tlearn: 0.4693186\ttotal: 8.24s\tremaining: 17.4s\n",
      "322:\tlearn: 0.4692856\ttotal: 8.27s\tremaining: 17.3s\n",
      "323:\tlearn: 0.4692345\ttotal: 8.29s\tremaining: 17.3s\n",
      "324:\tlearn: 0.4692009\ttotal: 8.31s\tremaining: 17.3s\n",
      "325:\tlearn: 0.4691615\ttotal: 8.34s\tremaining: 17.2s\n",
      "326:\tlearn: 0.4691261\ttotal: 8.36s\tremaining: 17.2s\n",
      "327:\tlearn: 0.4690797\ttotal: 8.38s\tremaining: 17.2s\n",
      "328:\tlearn: 0.4690424\ttotal: 8.41s\tremaining: 17.1s\n",
      "329:\tlearn: 0.4689856\ttotal: 8.43s\tremaining: 17.1s\n",
      "330:\tlearn: 0.4689386\ttotal: 8.45s\tremaining: 17.1s\n",
      "331:\tlearn: 0.4689094\ttotal: 8.47s\tremaining: 17.1s\n",
      "332:\tlearn: 0.4688729\ttotal: 8.5s\tremaining: 17s\n",
      "333:\tlearn: 0.4688315\ttotal: 8.52s\tremaining: 17s\n",
      "334:\tlearn: 0.4687920\ttotal: 8.55s\tremaining: 17s\n",
      "335:\tlearn: 0.4687552\ttotal: 8.57s\tremaining: 16.9s\n",
      "336:\tlearn: 0.4687154\ttotal: 8.6s\tremaining: 16.9s\n",
      "337:\tlearn: 0.4686667\ttotal: 8.62s\tremaining: 16.9s\n",
      "338:\tlearn: 0.4686390\ttotal: 8.65s\tremaining: 16.9s\n",
      "339:\tlearn: 0.4685975\ttotal: 8.67s\tremaining: 16.8s\n",
      "340:\tlearn: 0.4685549\ttotal: 8.69s\tremaining: 16.8s\n",
      "341:\tlearn: 0.4685488\ttotal: 8.7s\tremaining: 16.7s\n",
      "342:\tlearn: 0.4685116\ttotal: 8.73s\tremaining: 16.7s\n",
      "343:\tlearn: 0.4684789\ttotal: 8.75s\tremaining: 16.7s\n",
      "344:\tlearn: 0.4684390\ttotal: 8.77s\tremaining: 16.7s\n",
      "345:\tlearn: 0.4683998\ttotal: 8.8s\tremaining: 16.6s\n",
      "346:\tlearn: 0.4683660\ttotal: 8.82s\tremaining: 16.6s\n",
      "347:\tlearn: 0.4683321\ttotal: 8.85s\tremaining: 16.6s\n",
      "348:\tlearn: 0.4682982\ttotal: 8.87s\tremaining: 16.5s\n",
      "349:\tlearn: 0.4682504\ttotal: 8.89s\tremaining: 16.5s\n",
      "350:\tlearn: 0.4682185\ttotal: 8.91s\tremaining: 16.5s\n",
      "351:\tlearn: 0.4681818\ttotal: 8.94s\tremaining: 16.5s\n",
      "352:\tlearn: 0.4681308\ttotal: 8.96s\tremaining: 16.4s\n",
      "353:\tlearn: 0.4680877\ttotal: 8.99s\tremaining: 16.4s\n",
      "354:\tlearn: 0.4680679\ttotal: 9.01s\tremaining: 16.4s\n",
      "355:\tlearn: 0.4680274\ttotal: 9.03s\tremaining: 16.3s\n",
      "356:\tlearn: 0.4679898\ttotal: 9.05s\tremaining: 16.3s\n",
      "357:\tlearn: 0.4679634\ttotal: 9.08s\tremaining: 16.3s\n",
      "358:\tlearn: 0.4679364\ttotal: 9.1s\tremaining: 16.3s\n",
      "359:\tlearn: 0.4679083\ttotal: 9.13s\tremaining: 16.2s\n",
      "360:\tlearn: 0.4678759\ttotal: 9.15s\tremaining: 16.2s\n",
      "361:\tlearn: 0.4678355\ttotal: 9.17s\tremaining: 16.2s\n",
      "362:\tlearn: 0.4677858\ttotal: 9.2s\tremaining: 16.1s\n",
      "363:\tlearn: 0.4677275\ttotal: 9.22s\tremaining: 16.1s\n",
      "364:\tlearn: 0.4676922\ttotal: 9.25s\tremaining: 16.1s\n",
      "365:\tlearn: 0.4676488\ttotal: 9.27s\tremaining: 16.1s\n",
      "366:\tlearn: 0.4676148\ttotal: 9.29s\tremaining: 16s\n",
      "367:\tlearn: 0.4675839\ttotal: 9.32s\tremaining: 16s\n",
      "368:\tlearn: 0.4675372\ttotal: 9.34s\tremaining: 16s\n",
      "369:\tlearn: 0.4675135\ttotal: 9.36s\tremaining: 15.9s\n",
      "370:\tlearn: 0.4674817\ttotal: 9.39s\tremaining: 15.9s\n",
      "371:\tlearn: 0.4674287\ttotal: 9.41s\tremaining: 15.9s\n",
      "372:\tlearn: 0.4674151\ttotal: 9.43s\tremaining: 15.9s\n",
      "373:\tlearn: 0.4673884\ttotal: 9.45s\tremaining: 15.8s\n",
      "374:\tlearn: 0.4673525\ttotal: 9.48s\tremaining: 15.8s\n",
      "375:\tlearn: 0.4673205\ttotal: 9.5s\tremaining: 15.8s\n",
      "376:\tlearn: 0.4672887\ttotal: 9.52s\tremaining: 15.7s\n",
      "377:\tlearn: 0.4672546\ttotal: 9.55s\tremaining: 15.7s\n",
      "378:\tlearn: 0.4672294\ttotal: 9.57s\tremaining: 15.7s\n",
      "379:\tlearn: 0.4671776\ttotal: 9.6s\tremaining: 15.7s\n",
      "380:\tlearn: 0.4671438\ttotal: 9.62s\tremaining: 15.6s\n",
      "381:\tlearn: 0.4670930\ttotal: 9.65s\tremaining: 15.6s\n",
      "382:\tlearn: 0.4670640\ttotal: 9.67s\tremaining: 15.6s\n",
      "383:\tlearn: 0.4670421\ttotal: 9.69s\tremaining: 15.5s\n",
      "384:\tlearn: 0.4670226\ttotal: 9.71s\tremaining: 15.5s\n",
      "385:\tlearn: 0.4669924\ttotal: 9.74s\tremaining: 15.5s\n",
      "386:\tlearn: 0.4669590\ttotal: 9.76s\tremaining: 15.5s\n",
      "387:\tlearn: 0.4669249\ttotal: 9.78s\tremaining: 15.4s\n",
      "388:\tlearn: 0.4668914\ttotal: 9.81s\tremaining: 15.4s\n",
      "389:\tlearn: 0.4668551\ttotal: 9.84s\tremaining: 15.4s\n",
      "390:\tlearn: 0.4667978\ttotal: 9.86s\tremaining: 15.4s\n",
      "391:\tlearn: 0.4667640\ttotal: 9.88s\tremaining: 15.3s\n",
      "392:\tlearn: 0.4667328\ttotal: 9.91s\tremaining: 15.3s\n",
      "393:\tlearn: 0.4667057\ttotal: 9.93s\tremaining: 15.3s\n",
      "394:\tlearn: 0.4666729\ttotal: 9.96s\tremaining: 15.2s\n",
      "395:\tlearn: 0.4666403\ttotal: 9.98s\tremaining: 15.2s\n",
      "396:\tlearn: 0.4666114\ttotal: 10s\tremaining: 15.2s\n",
      "397:\tlearn: 0.4665753\ttotal: 10s\tremaining: 15.2s\n",
      "398:\tlearn: 0.4665430\ttotal: 10.1s\tremaining: 15.1s\n",
      "399:\tlearn: 0.4665105\ttotal: 10.1s\tremaining: 15.1s\n",
      "400:\tlearn: 0.4664574\ttotal: 10.1s\tremaining: 15.1s\n",
      "401:\tlearn: 0.4664287\ttotal: 10.1s\tremaining: 15.1s\n",
      "402:\tlearn: 0.4664050\ttotal: 10.1s\tremaining: 15s\n",
      "403:\tlearn: 0.4663821\ttotal: 10.2s\tremaining: 15s\n",
      "404:\tlearn: 0.4663643\ttotal: 10.2s\tremaining: 15s\n",
      "405:\tlearn: 0.4663232\ttotal: 10.2s\tremaining: 14.9s\n",
      "406:\tlearn: 0.4662958\ttotal: 10.2s\tremaining: 14.9s\n",
      "407:\tlearn: 0.4662706\ttotal: 10.3s\tremaining: 14.9s\n",
      "408:\tlearn: 0.4662425\ttotal: 10.3s\tremaining: 14.9s\n",
      "409:\tlearn: 0.4661981\ttotal: 10.3s\tremaining: 14.8s\n",
      "410:\tlearn: 0.4661695\ttotal: 10.3s\tremaining: 14.8s\n",
      "411:\tlearn: 0.4661311\ttotal: 10.4s\tremaining: 14.8s\n",
      "412:\tlearn: 0.4661092\ttotal: 10.4s\tremaining: 14.7s\n",
      "413:\tlearn: 0.4660792\ttotal: 10.4s\tremaining: 14.7s\n",
      "414:\tlearn: 0.4660495\ttotal: 10.4s\tremaining: 14.7s\n",
      "415:\tlearn: 0.4660280\ttotal: 10.4s\tremaining: 14.7s\n",
      "416:\tlearn: 0.4659799\ttotal: 10.5s\tremaining: 14.6s\n",
      "417:\tlearn: 0.4659521\ttotal: 10.5s\tremaining: 14.6s\n",
      "418:\tlearn: 0.4659136\ttotal: 10.5s\tremaining: 14.6s\n",
      "419:\tlearn: 0.4658956\ttotal: 10.5s\tremaining: 14.6s\n",
      "420:\tlearn: 0.4658665\ttotal: 10.6s\tremaining: 14.5s\n",
      "421:\tlearn: 0.4658280\ttotal: 10.6s\tremaining: 14.5s\n",
      "422:\tlearn: 0.4657990\ttotal: 10.6s\tremaining: 14.5s\n",
      "423:\tlearn: 0.4657658\ttotal: 10.6s\tremaining: 14.4s\n",
      "424:\tlearn: 0.4657396\ttotal: 10.7s\tremaining: 14.4s\n",
      "425:\tlearn: 0.4657056\ttotal: 10.7s\tremaining: 14.4s\n",
      "426:\tlearn: 0.4656819\ttotal: 10.7s\tremaining: 14.4s\n",
      "427:\tlearn: 0.4656492\ttotal: 10.7s\tremaining: 14.3s\n",
      "428:\tlearn: 0.4656146\ttotal: 10.8s\tremaining: 14.3s\n",
      "429:\tlearn: 0.4656093\ttotal: 10.8s\tremaining: 14.3s\n",
      "430:\tlearn: 0.4655778\ttotal: 10.8s\tremaining: 14.2s\n",
      "431:\tlearn: 0.4655458\ttotal: 10.8s\tremaining: 14.2s\n",
      "432:\tlearn: 0.4655261\ttotal: 10.8s\tremaining: 14.2s\n",
      "433:\tlearn: 0.4655002\ttotal: 10.9s\tremaining: 14.2s\n",
      "434:\tlearn: 0.4654702\ttotal: 10.9s\tremaining: 14.1s\n",
      "435:\tlearn: 0.4654481\ttotal: 10.9s\tremaining: 14.1s\n",
      "436:\tlearn: 0.4654259\ttotal: 10.9s\tremaining: 14.1s\n",
      "437:\tlearn: 0.4654023\ttotal: 10.9s\tremaining: 14s\n",
      "438:\tlearn: 0.4653630\ttotal: 11s\tremaining: 14s\n",
      "439:\tlearn: 0.4653424\ttotal: 11s\tremaining: 14s\n",
      "440:\tlearn: 0.4653026\ttotal: 11s\tremaining: 14s\n",
      "441:\tlearn: 0.4652672\ttotal: 11s\tremaining: 13.9s\n",
      "442:\tlearn: 0.4652472\ttotal: 11.1s\tremaining: 13.9s\n",
      "443:\tlearn: 0.4652149\ttotal: 11.1s\tremaining: 13.9s\n",
      "444:\tlearn: 0.4651717\ttotal: 11.1s\tremaining: 13.9s\n",
      "445:\tlearn: 0.4651446\ttotal: 11.1s\tremaining: 13.8s\n",
      "446:\tlearn: 0.4651118\ttotal: 11.2s\tremaining: 13.8s\n",
      "447:\tlearn: 0.4650817\ttotal: 11.2s\tremaining: 13.8s\n",
      "448:\tlearn: 0.4650518\ttotal: 11.2s\tremaining: 13.7s\n",
      "449:\tlearn: 0.4650259\ttotal: 11.2s\tremaining: 13.7s\n",
      "450:\tlearn: 0.4649924\ttotal: 11.3s\tremaining: 13.7s\n",
      "451:\tlearn: 0.4649556\ttotal: 11.3s\tremaining: 13.7s\n",
      "452:\tlearn: 0.4649371\ttotal: 11.3s\tremaining: 13.6s\n",
      "453:\tlearn: 0.4649141\ttotal: 11.3s\tremaining: 13.6s\n",
      "454:\tlearn: 0.4648867\ttotal: 11.3s\tremaining: 13.6s\n",
      "455:\tlearn: 0.4648588\ttotal: 11.4s\tremaining: 13.6s\n",
      "456:\tlearn: 0.4648250\ttotal: 11.4s\tremaining: 13.5s\n",
      "457:\tlearn: 0.4647940\ttotal: 11.4s\tremaining: 13.5s\n",
      "458:\tlearn: 0.4647546\ttotal: 11.4s\tremaining: 13.5s\n",
      "459:\tlearn: 0.4647189\ttotal: 11.5s\tremaining: 13.5s\n",
      "460:\tlearn: 0.4646901\ttotal: 11.5s\tremaining: 13.4s\n",
      "461:\tlearn: 0.4646688\ttotal: 11.5s\tremaining: 13.4s\n",
      "462:\tlearn: 0.4646478\ttotal: 11.5s\tremaining: 13.4s\n",
      "463:\tlearn: 0.4646157\ttotal: 11.6s\tremaining: 13.3s\n",
      "464:\tlearn: 0.4645898\ttotal: 11.6s\tremaining: 13.3s\n",
      "465:\tlearn: 0.4645564\ttotal: 11.6s\tremaining: 13.3s\n",
      "466:\tlearn: 0.4645328\ttotal: 11.6s\tremaining: 13.3s\n",
      "467:\tlearn: 0.4645155\ttotal: 11.6s\tremaining: 13.2s\n",
      "468:\tlearn: 0.4644996\ttotal: 11.7s\tremaining: 13.2s\n",
      "469:\tlearn: 0.4644666\ttotal: 11.7s\tremaining: 13.2s\n",
      "470:\tlearn: 0.4644513\ttotal: 11.7s\tremaining: 13.2s\n",
      "471:\tlearn: 0.4644258\ttotal: 11.7s\tremaining: 13.1s\n",
      "472:\tlearn: 0.4644093\ttotal: 11.8s\tremaining: 13.1s\n",
      "473:\tlearn: 0.4643853\ttotal: 11.8s\tremaining: 13.1s\n",
      "474:\tlearn: 0.4643599\ttotal: 11.8s\tremaining: 13.1s\n",
      "475:\tlearn: 0.4643203\ttotal: 11.8s\tremaining: 13s\n",
      "476:\tlearn: 0.4642956\ttotal: 11.9s\tremaining: 13s\n",
      "477:\tlearn: 0.4642900\ttotal: 11.9s\tremaining: 13s\n",
      "478:\tlearn: 0.4642673\ttotal: 11.9s\tremaining: 12.9s\n",
      "479:\tlearn: 0.4642508\ttotal: 11.9s\tremaining: 12.9s\n",
      "480:\tlearn: 0.4642142\ttotal: 11.9s\tremaining: 12.9s\n",
      "481:\tlearn: 0.4641946\ttotal: 12s\tremaining: 12.9s\n",
      "482:\tlearn: 0.4641754\ttotal: 12s\tremaining: 12.8s\n",
      "483:\tlearn: 0.4641545\ttotal: 12s\tremaining: 12.8s\n",
      "484:\tlearn: 0.4641318\ttotal: 12s\tremaining: 12.8s\n",
      "485:\tlearn: 0.4641079\ttotal: 12.1s\tremaining: 12.7s\n",
      "486:\tlearn: 0.4640660\ttotal: 12.1s\tremaining: 12.7s\n",
      "487:\tlearn: 0.4640376\ttotal: 12.1s\tremaining: 12.7s\n",
      "488:\tlearn: 0.4640081\ttotal: 12.1s\tremaining: 12.7s\n",
      "489:\tlearn: 0.4639916\ttotal: 12.1s\tremaining: 12.6s\n",
      "490:\tlearn: 0.4639589\ttotal: 12.2s\tremaining: 12.6s\n",
      "491:\tlearn: 0.4639303\ttotal: 12.2s\tremaining: 12.6s\n",
      "492:\tlearn: 0.4639081\ttotal: 12.2s\tremaining: 12.6s\n",
      "493:\tlearn: 0.4638912\ttotal: 12.2s\tremaining: 12.5s\n",
      "494:\tlearn: 0.4638710\ttotal: 12.3s\tremaining: 12.5s\n",
      "495:\tlearn: 0.4638476\ttotal: 12.3s\tremaining: 12.5s\n",
      "496:\tlearn: 0.4638259\ttotal: 12.3s\tremaining: 12.5s\n",
      "497:\tlearn: 0.4637943\ttotal: 12.3s\tremaining: 12.4s\n",
      "498:\tlearn: 0.4637668\ttotal: 12.4s\tremaining: 12.4s\n",
      "499:\tlearn: 0.4637471\ttotal: 12.4s\tremaining: 12.4s\n",
      "500:\tlearn: 0.4637232\ttotal: 12.4s\tremaining: 12.4s\n",
      "501:\tlearn: 0.4637067\ttotal: 12.4s\tremaining: 12.3s\n",
      "502:\tlearn: 0.4636740\ttotal: 12.4s\tremaining: 12.3s\n",
      "503:\tlearn: 0.4636452\ttotal: 12.5s\tremaining: 12.3s\n",
      "504:\tlearn: 0.4636246\ttotal: 12.5s\tremaining: 12.2s\n",
      "505:\tlearn: 0.4636054\ttotal: 12.5s\tremaining: 12.2s\n",
      "506:\tlearn: 0.4635891\ttotal: 12.5s\tremaining: 12.2s\n",
      "507:\tlearn: 0.4635682\ttotal: 12.6s\tremaining: 12.2s\n",
      "508:\tlearn: 0.4635449\ttotal: 12.6s\tremaining: 12.1s\n",
      "509:\tlearn: 0.4635268\ttotal: 12.6s\tremaining: 12.1s\n",
      "510:\tlearn: 0.4635089\ttotal: 12.6s\tremaining: 12.1s\n",
      "511:\tlearn: 0.4634711\ttotal: 12.6s\tremaining: 12.1s\n",
      "512:\tlearn: 0.4634321\ttotal: 12.7s\tremaining: 12s\n",
      "513:\tlearn: 0.4633932\ttotal: 12.7s\tremaining: 12s\n",
      "514:\tlearn: 0.4633642\ttotal: 12.7s\tremaining: 12s\n",
      "515:\tlearn: 0.4633316\ttotal: 12.7s\tremaining: 12s\n",
      "516:\tlearn: 0.4633065\ttotal: 12.8s\tremaining: 11.9s\n",
      "517:\tlearn: 0.4632862\ttotal: 12.8s\tremaining: 11.9s\n",
      "518:\tlearn: 0.4632698\ttotal: 12.8s\tremaining: 11.9s\n",
      "519:\tlearn: 0.4632225\ttotal: 12.8s\tremaining: 11.8s\n",
      "520:\tlearn: 0.4632012\ttotal: 12.9s\tremaining: 11.8s\n",
      "521:\tlearn: 0.4631620\ttotal: 12.9s\tremaining: 11.8s\n",
      "522:\tlearn: 0.4631414\ttotal: 12.9s\tremaining: 11.8s\n",
      "523:\tlearn: 0.4631194\ttotal: 12.9s\tremaining: 11.7s\n",
      "524:\tlearn: 0.4630930\ttotal: 12.9s\tremaining: 11.7s\n",
      "525:\tlearn: 0.4630583\ttotal: 13s\tremaining: 11.7s\n",
      "526:\tlearn: 0.4630285\ttotal: 13s\tremaining: 11.7s\n",
      "527:\tlearn: 0.4630087\ttotal: 13s\tremaining: 11.6s\n",
      "528:\tlearn: 0.4629701\ttotal: 13s\tremaining: 11.6s\n",
      "529:\tlearn: 0.4629498\ttotal: 13.1s\tremaining: 11.6s\n",
      "530:\tlearn: 0.4629261\ttotal: 13.1s\tremaining: 11.6s\n",
      "531:\tlearn: 0.4629016\ttotal: 13.1s\tremaining: 11.5s\n",
      "532:\tlearn: 0.4628997\ttotal: 13.1s\tremaining: 11.5s\n",
      "533:\tlearn: 0.4628804\ttotal: 13.1s\tremaining: 11.5s\n",
      "534:\tlearn: 0.4628440\ttotal: 13.2s\tremaining: 11.4s\n",
      "535:\tlearn: 0.4628268\ttotal: 13.2s\tremaining: 11.4s\n",
      "536:\tlearn: 0.4628064\ttotal: 13.2s\tremaining: 11.4s\n",
      "537:\tlearn: 0.4627887\ttotal: 13.2s\tremaining: 11.4s\n",
      "538:\tlearn: 0.4627678\ttotal: 13.3s\tremaining: 11.3s\n",
      "539:\tlearn: 0.4627416\ttotal: 13.3s\tremaining: 11.3s\n",
      "540:\tlearn: 0.4627175\ttotal: 13.3s\tremaining: 11.3s\n",
      "541:\tlearn: 0.4626954\ttotal: 13.3s\tremaining: 11.3s\n",
      "542:\tlearn: 0.4626756\ttotal: 13.3s\tremaining: 11.2s\n",
      "543:\tlearn: 0.4626457\ttotal: 13.4s\tremaining: 11.2s\n",
      "544:\tlearn: 0.4626263\ttotal: 13.4s\tremaining: 11.2s\n",
      "545:\tlearn: 0.4625989\ttotal: 13.4s\tremaining: 11.2s\n",
      "546:\tlearn: 0.4625737\ttotal: 13.5s\tremaining: 11.1s\n",
      "547:\tlearn: 0.4625547\ttotal: 13.5s\tremaining: 11.1s\n",
      "548:\tlearn: 0.4625313\ttotal: 13.5s\tremaining: 11.1s\n",
      "549:\tlearn: 0.4625298\ttotal: 13.5s\tremaining: 11.1s\n",
      "550:\tlearn: 0.4625013\ttotal: 13.5s\tremaining: 11s\n",
      "551:\tlearn: 0.4624840\ttotal: 13.6s\tremaining: 11s\n",
      "552:\tlearn: 0.4624610\ttotal: 13.6s\tremaining: 11s\n",
      "553:\tlearn: 0.4624321\ttotal: 13.6s\tremaining: 11s\n",
      "554:\tlearn: 0.4623955\ttotal: 13.6s\tremaining: 10.9s\n",
      "555:\tlearn: 0.4623654\ttotal: 13.7s\tremaining: 10.9s\n",
      "556:\tlearn: 0.4623306\ttotal: 13.7s\tremaining: 10.9s\n",
      "557:\tlearn: 0.4623076\ttotal: 13.7s\tremaining: 10.9s\n",
      "558:\tlearn: 0.4622805\ttotal: 13.7s\tremaining: 10.8s\n",
      "559:\tlearn: 0.4622622\ttotal: 13.8s\tremaining: 10.8s\n",
      "560:\tlearn: 0.4622486\ttotal: 13.8s\tremaining: 10.8s\n",
      "561:\tlearn: 0.4622117\ttotal: 13.8s\tremaining: 10.8s\n",
      "562:\tlearn: 0.4621923\ttotal: 13.8s\tremaining: 10.7s\n",
      "563:\tlearn: 0.4621611\ttotal: 13.8s\tremaining: 10.7s\n",
      "564:\tlearn: 0.4621252\ttotal: 13.9s\tremaining: 10.7s\n",
      "565:\tlearn: 0.4621024\ttotal: 13.9s\tremaining: 10.7s\n",
      "566:\tlearn: 0.4620826\ttotal: 13.9s\tremaining: 10.6s\n",
      "567:\tlearn: 0.4620599\ttotal: 13.9s\tremaining: 10.6s\n",
      "568:\tlearn: 0.4620290\ttotal: 14s\tremaining: 10.6s\n",
      "569:\tlearn: 0.4620077\ttotal: 14s\tremaining: 10.6s\n",
      "570:\tlearn: 0.4619892\ttotal: 14s\tremaining: 10.5s\n",
      "571:\tlearn: 0.4619696\ttotal: 14s\tremaining: 10.5s\n",
      "572:\tlearn: 0.4619295\ttotal: 14.1s\tremaining: 10.5s\n",
      "573:\tlearn: 0.4619020\ttotal: 14.1s\tremaining: 10.5s\n",
      "574:\tlearn: 0.4618889\ttotal: 14.1s\tremaining: 10.4s\n",
      "575:\tlearn: 0.4618631\ttotal: 14.1s\tremaining: 10.4s\n",
      "576:\tlearn: 0.4618511\ttotal: 14.1s\tremaining: 10.4s\n",
      "577:\tlearn: 0.4618254\ttotal: 14.2s\tremaining: 10.3s\n",
      "578:\tlearn: 0.4617986\ttotal: 14.2s\tremaining: 10.3s\n",
      "579:\tlearn: 0.4617769\ttotal: 14.2s\tremaining: 10.3s\n",
      "580:\tlearn: 0.4617501\ttotal: 14.2s\tremaining: 10.3s\n",
      "581:\tlearn: 0.4617394\ttotal: 14.3s\tremaining: 10.2s\n",
      "582:\tlearn: 0.4617182\ttotal: 14.3s\tremaining: 10.2s\n",
      "583:\tlearn: 0.4616982\ttotal: 14.3s\tremaining: 10.2s\n",
      "584:\tlearn: 0.4616772\ttotal: 14.3s\tremaining: 10.2s\n",
      "585:\tlearn: 0.4616512\ttotal: 14.4s\tremaining: 10.1s\n",
      "586:\tlearn: 0.4616288\ttotal: 14.4s\tremaining: 10.1s\n",
      "587:\tlearn: 0.4616152\ttotal: 14.4s\tremaining: 10.1s\n",
      "588:\tlearn: 0.4615934\ttotal: 14.5s\tremaining: 10.1s\n",
      "589:\tlearn: 0.4615703\ttotal: 14.5s\tremaining: 10.1s\n",
      "590:\tlearn: 0.4615505\ttotal: 14.5s\tremaining: 10s\n",
      "591:\tlearn: 0.4615333\ttotal: 14.5s\tremaining: 10s\n",
      "592:\tlearn: 0.4615128\ttotal: 14.6s\tremaining: 10s\n",
      "593:\tlearn: 0.4614878\ttotal: 14.6s\tremaining: 9.97s\n",
      "594:\tlearn: 0.4614633\ttotal: 14.6s\tremaining: 9.95s\n",
      "595:\tlearn: 0.4614457\ttotal: 14.6s\tremaining: 9.92s\n",
      "596:\tlearn: 0.4614247\ttotal: 14.7s\tremaining: 9.89s\n",
      "597:\tlearn: 0.4614077\ttotal: 14.7s\tremaining: 9.87s\n",
      "598:\tlearn: 0.4613902\ttotal: 14.7s\tremaining: 9.84s\n",
      "599:\tlearn: 0.4613635\ttotal: 14.7s\tremaining: 9.82s\n",
      "600:\tlearn: 0.4613463\ttotal: 14.7s\tremaining: 9.79s\n",
      "601:\tlearn: 0.4613203\ttotal: 14.8s\tremaining: 9.77s\n",
      "602:\tlearn: 0.4613012\ttotal: 14.8s\tremaining: 9.74s\n",
      "603:\tlearn: 0.4612828\ttotal: 14.8s\tremaining: 9.71s\n",
      "604:\tlearn: 0.4612645\ttotal: 14.8s\tremaining: 9.69s\n",
      "605:\tlearn: 0.4612359\ttotal: 14.9s\tremaining: 9.66s\n",
      "606:\tlearn: 0.4612195\ttotal: 14.9s\tremaining: 9.63s\n",
      "607:\tlearn: 0.4612010\ttotal: 14.9s\tremaining: 9.61s\n",
      "608:\tlearn: 0.4611876\ttotal: 14.9s\tremaining: 9.58s\n",
      "609:\tlearn: 0.4611520\ttotal: 15s\tremaining: 9.56s\n",
      "610:\tlearn: 0.4611268\ttotal: 15s\tremaining: 9.53s\n",
      "611:\tlearn: 0.4611067\ttotal: 15s\tremaining: 9.51s\n",
      "612:\tlearn: 0.4610767\ttotal: 15s\tremaining: 9.48s\n",
      "613:\tlearn: 0.4610560\ttotal: 15s\tremaining: 9.46s\n",
      "614:\tlearn: 0.4610269\ttotal: 15.1s\tremaining: 9.43s\n",
      "615:\tlearn: 0.4610179\ttotal: 15.1s\tremaining: 9.4s\n",
      "616:\tlearn: 0.4609943\ttotal: 15.1s\tremaining: 9.38s\n",
      "617:\tlearn: 0.4609806\ttotal: 15.1s\tremaining: 9.35s\n",
      "618:\tlearn: 0.4609726\ttotal: 15.1s\tremaining: 9.32s\n",
      "619:\tlearn: 0.4609495\ttotal: 15.2s\tremaining: 9.3s\n",
      "620:\tlearn: 0.4609341\ttotal: 15.2s\tremaining: 9.27s\n",
      "621:\tlearn: 0.4609171\ttotal: 15.2s\tremaining: 9.24s\n",
      "622:\tlearn: 0.4608912\ttotal: 15.2s\tremaining: 9.22s\n",
      "623:\tlearn: 0.4608739\ttotal: 15.3s\tremaining: 9.2s\n",
      "624:\tlearn: 0.4608477\ttotal: 15.3s\tremaining: 9.17s\n",
      "625:\tlearn: 0.4608232\ttotal: 15.3s\tremaining: 9.14s\n",
      "626:\tlearn: 0.4607958\ttotal: 15.3s\tremaining: 9.12s\n",
      "627:\tlearn: 0.4607737\ttotal: 15.4s\tremaining: 9.1s\n",
      "628:\tlearn: 0.4607536\ttotal: 15.4s\tremaining: 9.07s\n",
      "629:\tlearn: 0.4607321\ttotal: 15.4s\tremaining: 9.04s\n",
      "630:\tlearn: 0.4606962\ttotal: 15.4s\tremaining: 9.02s\n",
      "631:\tlearn: 0.4606798\ttotal: 15.4s\tremaining: 8.99s\n",
      "632:\tlearn: 0.4606626\ttotal: 15.5s\tremaining: 8.97s\n",
      "633:\tlearn: 0.4606421\ttotal: 15.5s\tremaining: 8.94s\n",
      "634:\tlearn: 0.4606160\ttotal: 15.5s\tremaining: 8.92s\n",
      "635:\tlearn: 0.4606055\ttotal: 15.5s\tremaining: 8.89s\n",
      "636:\tlearn: 0.4605804\ttotal: 15.6s\tremaining: 8.87s\n",
      "637:\tlearn: 0.4605600\ttotal: 15.6s\tremaining: 8.84s\n",
      "638:\tlearn: 0.4605430\ttotal: 15.6s\tremaining: 8.81s\n",
      "639:\tlearn: 0.4604852\ttotal: 15.6s\tremaining: 8.79s\n",
      "640:\tlearn: 0.4604722\ttotal: 15.7s\tremaining: 8.77s\n",
      "641:\tlearn: 0.4604579\ttotal: 15.7s\tremaining: 8.74s\n",
      "642:\tlearn: 0.4604315\ttotal: 15.7s\tremaining: 8.72s\n",
      "643:\tlearn: 0.4604011\ttotal: 15.7s\tremaining: 8.69s\n",
      "644:\tlearn: 0.4603772\ttotal: 15.7s\tremaining: 8.67s\n",
      "645:\tlearn: 0.4603554\ttotal: 15.8s\tremaining: 8.64s\n",
      "646:\tlearn: 0.4603449\ttotal: 15.8s\tremaining: 8.62s\n",
      "647:\tlearn: 0.4603269\ttotal: 15.8s\tremaining: 8.59s\n",
      "648:\tlearn: 0.4603107\ttotal: 15.8s\tremaining: 8.56s\n",
      "649:\tlearn: 0.4602941\ttotal: 15.9s\tremaining: 8.54s\n",
      "650:\tlearn: 0.4602784\ttotal: 15.9s\tremaining: 8.51s\n",
      "651:\tlearn: 0.4602536\ttotal: 15.9s\tremaining: 8.49s\n",
      "652:\tlearn: 0.4602419\ttotal: 15.9s\tremaining: 8.46s\n",
      "653:\tlearn: 0.4602243\ttotal: 15.9s\tremaining: 8.44s\n",
      "654:\tlearn: 0.4602097\ttotal: 16s\tremaining: 8.41s\n",
      "655:\tlearn: 0.4601953\ttotal: 16s\tremaining: 8.39s\n",
      "656:\tlearn: 0.4601696\ttotal: 16s\tremaining: 8.36s\n",
      "657:\tlearn: 0.4601489\ttotal: 16s\tremaining: 8.34s\n",
      "658:\tlearn: 0.4601240\ttotal: 16.1s\tremaining: 8.31s\n",
      "659:\tlearn: 0.4601054\ttotal: 16.1s\tremaining: 8.29s\n",
      "660:\tlearn: 0.4600876\ttotal: 16.1s\tremaining: 8.26s\n",
      "661:\tlearn: 0.4600683\ttotal: 16.1s\tremaining: 8.23s\n",
      "662:\tlearn: 0.4600450\ttotal: 16.2s\tremaining: 8.21s\n",
      "663:\tlearn: 0.4600040\ttotal: 16.2s\tremaining: 8.19s\n",
      "664:\tlearn: 0.4599875\ttotal: 16.2s\tremaining: 8.16s\n",
      "665:\tlearn: 0.4599516\ttotal: 16.2s\tremaining: 8.14s\n",
      "666:\tlearn: 0.4599331\ttotal: 16.2s\tremaining: 8.11s\n",
      "667:\tlearn: 0.4599103\ttotal: 16.3s\tremaining: 8.09s\n",
      "668:\tlearn: 0.4598994\ttotal: 16.3s\tremaining: 8.06s\n",
      "669:\tlearn: 0.4598961\ttotal: 16.3s\tremaining: 8.03s\n",
      "670:\tlearn: 0.4598790\ttotal: 16.3s\tremaining: 8.01s\n",
      "671:\tlearn: 0.4598607\ttotal: 16.4s\tremaining: 7.98s\n",
      "672:\tlearn: 0.4598472\ttotal: 16.4s\tremaining: 7.96s\n",
      "673:\tlearn: 0.4598206\ttotal: 16.4s\tremaining: 7.93s\n",
      "674:\tlearn: 0.4597874\ttotal: 16.4s\tremaining: 7.91s\n",
      "675:\tlearn: 0.4597532\ttotal: 16.4s\tremaining: 7.88s\n",
      "676:\tlearn: 0.4597350\ttotal: 16.5s\tremaining: 7.86s\n",
      "677:\tlearn: 0.4597119\ttotal: 16.5s\tremaining: 7.83s\n",
      "678:\tlearn: 0.4596926\ttotal: 16.5s\tremaining: 7.81s\n",
      "679:\tlearn: 0.4596621\ttotal: 16.5s\tremaining: 7.78s\n",
      "680:\tlearn: 0.4596408\ttotal: 16.6s\tremaining: 7.76s\n",
      "681:\tlearn: 0.4596258\ttotal: 16.6s\tremaining: 7.73s\n",
      "682:\tlearn: 0.4595994\ttotal: 16.6s\tremaining: 7.71s\n",
      "683:\tlearn: 0.4595768\ttotal: 16.6s\tremaining: 7.68s\n",
      "684:\tlearn: 0.4595568\ttotal: 16.7s\tremaining: 7.66s\n",
      "685:\tlearn: 0.4595370\ttotal: 16.7s\tremaining: 7.63s\n",
      "686:\tlearn: 0.4595153\ttotal: 16.7s\tremaining: 7.61s\n",
      "687:\tlearn: 0.4594958\ttotal: 16.7s\tremaining: 7.58s\n",
      "688:\tlearn: 0.4594774\ttotal: 16.8s\tremaining: 7.56s\n",
      "689:\tlearn: 0.4594549\ttotal: 16.8s\tremaining: 7.54s\n",
      "690:\tlearn: 0.4594402\ttotal: 16.8s\tremaining: 7.51s\n",
      "691:\tlearn: 0.4594128\ttotal: 16.8s\tremaining: 7.49s\n",
      "692:\tlearn: 0.4593982\ttotal: 16.8s\tremaining: 7.46s\n",
      "693:\tlearn: 0.4593871\ttotal: 16.9s\tremaining: 7.43s\n",
      "694:\tlearn: 0.4593710\ttotal: 16.9s\tremaining: 7.41s\n",
      "695:\tlearn: 0.4593510\ttotal: 16.9s\tremaining: 7.38s\n",
      "696:\tlearn: 0.4593407\ttotal: 16.9s\tremaining: 7.36s\n",
      "697:\tlearn: 0.4593223\ttotal: 17s\tremaining: 7.34s\n",
      "698:\tlearn: 0.4593092\ttotal: 17s\tremaining: 7.31s\n",
      "699:\tlearn: 0.4592780\ttotal: 17s\tremaining: 7.29s\n",
      "700:\tlearn: 0.4592626\ttotal: 17s\tremaining: 7.26s\n",
      "701:\tlearn: 0.4592435\ttotal: 17s\tremaining: 7.24s\n",
      "702:\tlearn: 0.4592295\ttotal: 17.1s\tremaining: 7.21s\n",
      "703:\tlearn: 0.4592147\ttotal: 17.1s\tremaining: 7.19s\n",
      "704:\tlearn: 0.4592007\ttotal: 17.1s\tremaining: 7.16s\n",
      "705:\tlearn: 0.4591784\ttotal: 17.1s\tremaining: 7.14s\n",
      "706:\tlearn: 0.4591636\ttotal: 17.2s\tremaining: 7.11s\n",
      "707:\tlearn: 0.4591430\ttotal: 17.2s\tremaining: 7.09s\n",
      "708:\tlearn: 0.4591243\ttotal: 17.2s\tremaining: 7.06s\n",
      "709:\tlearn: 0.4590984\ttotal: 17.2s\tremaining: 7.04s\n",
      "710:\tlearn: 0.4590806\ttotal: 17.3s\tremaining: 7.01s\n",
      "711:\tlearn: 0.4590781\ttotal: 17.3s\tremaining: 6.98s\n",
      "712:\tlearn: 0.4590593\ttotal: 17.3s\tremaining: 6.96s\n",
      "713:\tlearn: 0.4590411\ttotal: 17.3s\tremaining: 6.93s\n",
      "714:\tlearn: 0.4590188\ttotal: 17.3s\tremaining: 6.91s\n",
      "715:\tlearn: 0.4590011\ttotal: 17.4s\tremaining: 6.88s\n",
      "716:\tlearn: 0.4589881\ttotal: 17.4s\tremaining: 6.86s\n",
      "717:\tlearn: 0.4589662\ttotal: 17.4s\tremaining: 6.83s\n",
      "718:\tlearn: 0.4589442\ttotal: 17.4s\tremaining: 6.81s\n",
      "719:\tlearn: 0.4589192\ttotal: 17.5s\tremaining: 6.79s\n",
      "720:\tlearn: 0.4588769\ttotal: 17.5s\tremaining: 6.76s\n",
      "721:\tlearn: 0.4588527\ttotal: 17.5s\tremaining: 6.74s\n",
      "722:\tlearn: 0.4588199\ttotal: 17.5s\tremaining: 6.71s\n",
      "723:\tlearn: 0.4587977\ttotal: 17.5s\tremaining: 6.69s\n",
      "724:\tlearn: 0.4587864\ttotal: 17.6s\tremaining: 6.67s\n",
      "725:\tlearn: 0.4587536\ttotal: 17.6s\tremaining: 6.64s\n",
      "726:\tlearn: 0.4587309\ttotal: 17.6s\tremaining: 6.62s\n",
      "727:\tlearn: 0.4587084\ttotal: 17.6s\tremaining: 6.59s\n",
      "728:\tlearn: 0.4586970\ttotal: 17.7s\tremaining: 6.57s\n",
      "729:\tlearn: 0.4586717\ttotal: 17.7s\tremaining: 6.54s\n",
      "730:\tlearn: 0.4586615\ttotal: 17.7s\tremaining: 6.51s\n",
      "731:\tlearn: 0.4586393\ttotal: 17.7s\tremaining: 6.49s\n",
      "732:\tlearn: 0.4586023\ttotal: 17.8s\tremaining: 6.47s\n",
      "733:\tlearn: 0.4585754\ttotal: 17.8s\tremaining: 6.44s\n",
      "734:\tlearn: 0.4585648\ttotal: 17.8s\tremaining: 6.42s\n",
      "735:\tlearn: 0.4585352\ttotal: 17.8s\tremaining: 6.39s\n",
      "736:\tlearn: 0.4585120\ttotal: 17.8s\tremaining: 6.37s\n",
      "737:\tlearn: 0.4584882\ttotal: 17.9s\tremaining: 6.35s\n",
      "738:\tlearn: 0.4584717\ttotal: 17.9s\tremaining: 6.32s\n",
      "739:\tlearn: 0.4584506\ttotal: 17.9s\tremaining: 6.3s\n",
      "740:\tlearn: 0.4584400\ttotal: 17.9s\tremaining: 6.27s\n",
      "741:\tlearn: 0.4584231\ttotal: 18s\tremaining: 6.25s\n",
      "742:\tlearn: 0.4583861\ttotal: 18s\tremaining: 6.22s\n",
      "743:\tlearn: 0.4583646\ttotal: 18s\tremaining: 6.2s\n",
      "744:\tlearn: 0.4583315\ttotal: 18s\tremaining: 6.17s\n",
      "745:\tlearn: 0.4583167\ttotal: 18.1s\tremaining: 6.15s\n",
      "746:\tlearn: 0.4582962\ttotal: 18.1s\tremaining: 6.13s\n",
      "747:\tlearn: 0.4582765\ttotal: 18.1s\tremaining: 6.1s\n",
      "748:\tlearn: 0.4582646\ttotal: 18.1s\tremaining: 6.08s\n",
      "749:\tlearn: 0.4582608\ttotal: 18.1s\tremaining: 6.05s\n",
      "750:\tlearn: 0.4582458\ttotal: 18.2s\tremaining: 6.02s\n",
      "751:\tlearn: 0.4582240\ttotal: 18.2s\tremaining: 6s\n",
      "752:\tlearn: 0.4582099\ttotal: 18.2s\tremaining: 5.97s\n",
      "753:\tlearn: 0.4581939\ttotal: 18.2s\tremaining: 5.95s\n",
      "754:\tlearn: 0.4581842\ttotal: 18.3s\tremaining: 5.92s\n",
      "755:\tlearn: 0.4581604\ttotal: 18.3s\tremaining: 5.9s\n",
      "756:\tlearn: 0.4581397\ttotal: 18.3s\tremaining: 5.87s\n",
      "757:\tlearn: 0.4581280\ttotal: 18.3s\tremaining: 5.85s\n",
      "758:\tlearn: 0.4581143\ttotal: 18.3s\tremaining: 5.82s\n",
      "759:\tlearn: 0.4580891\ttotal: 18.4s\tremaining: 5.8s\n",
      "760:\tlearn: 0.4580627\ttotal: 18.4s\tremaining: 5.77s\n",
      "761:\tlearn: 0.4580526\ttotal: 18.4s\tremaining: 5.75s\n",
      "762:\tlearn: 0.4580375\ttotal: 18.4s\tremaining: 5.72s\n",
      "763:\tlearn: 0.4580195\ttotal: 18.5s\tremaining: 5.7s\n",
      "764:\tlearn: 0.4580057\ttotal: 18.5s\tremaining: 5.67s\n",
      "765:\tlearn: 0.4579887\ttotal: 18.5s\tremaining: 5.65s\n",
      "766:\tlearn: 0.4579696\ttotal: 18.5s\tremaining: 5.63s\n",
      "767:\tlearn: 0.4579509\ttotal: 18.5s\tremaining: 5.6s\n",
      "768:\tlearn: 0.4579495\ttotal: 18.6s\tremaining: 5.57s\n",
      "769:\tlearn: 0.4579257\ttotal: 18.6s\tremaining: 5.55s\n",
      "770:\tlearn: 0.4579099\ttotal: 18.6s\tremaining: 5.53s\n",
      "771:\tlearn: 0.4578826\ttotal: 18.6s\tremaining: 5.5s\n",
      "772:\tlearn: 0.4578682\ttotal: 18.6s\tremaining: 5.48s\n",
      "773:\tlearn: 0.4578556\ttotal: 18.7s\tremaining: 5.45s\n",
      "774:\tlearn: 0.4578421\ttotal: 18.7s\tremaining: 5.43s\n",
      "775:\tlearn: 0.4578141\ttotal: 18.7s\tremaining: 5.4s\n",
      "776:\tlearn: 0.4577988\ttotal: 18.7s\tremaining: 5.38s\n",
      "777:\tlearn: 0.4577819\ttotal: 18.8s\tremaining: 5.35s\n",
      "778:\tlearn: 0.4577701\ttotal: 18.8s\tremaining: 5.33s\n",
      "779:\tlearn: 0.4577531\ttotal: 18.8s\tremaining: 5.3s\n",
      "780:\tlearn: 0.4577352\ttotal: 18.8s\tremaining: 5.28s\n",
      "781:\tlearn: 0.4577211\ttotal: 18.8s\tremaining: 5.25s\n",
      "782:\tlearn: 0.4577111\ttotal: 18.9s\tremaining: 5.23s\n",
      "783:\tlearn: 0.4576968\ttotal: 18.9s\tremaining: 5.21s\n",
      "784:\tlearn: 0.4576787\ttotal: 18.9s\tremaining: 5.18s\n",
      "785:\tlearn: 0.4576650\ttotal: 18.9s\tremaining: 5.16s\n",
      "786:\tlearn: 0.4576469\ttotal: 19s\tremaining: 5.13s\n",
      "787:\tlearn: 0.4576377\ttotal: 19s\tremaining: 5.11s\n",
      "788:\tlearn: 0.4576243\ttotal: 19s\tremaining: 5.08s\n",
      "789:\tlearn: 0.4576076\ttotal: 19s\tremaining: 5.06s\n",
      "790:\tlearn: 0.4575942\ttotal: 19s\tremaining: 5.03s\n",
      "791:\tlearn: 0.4575747\ttotal: 19.1s\tremaining: 5.01s\n",
      "792:\tlearn: 0.4575623\ttotal: 19.1s\tremaining: 4.98s\n",
      "793:\tlearn: 0.4575533\ttotal: 19.1s\tremaining: 4.96s\n",
      "794:\tlearn: 0.4575277\ttotal: 19.1s\tremaining: 4.94s\n",
      "795:\tlearn: 0.4575093\ttotal: 19.2s\tremaining: 4.91s\n",
      "796:\tlearn: 0.4574888\ttotal: 19.2s\tremaining: 4.89s\n",
      "797:\tlearn: 0.4574696\ttotal: 19.2s\tremaining: 4.86s\n",
      "798:\tlearn: 0.4574404\ttotal: 19.2s\tremaining: 4.84s\n",
      "799:\tlearn: 0.4574324\ttotal: 19.3s\tremaining: 4.81s\n",
      "800:\tlearn: 0.4574140\ttotal: 19.3s\tremaining: 4.79s\n",
      "801:\tlearn: 0.4573900\ttotal: 19.3s\tremaining: 4.77s\n",
      "802:\tlearn: 0.4573717\ttotal: 19.3s\tremaining: 4.74s\n",
      "803:\tlearn: 0.4573504\ttotal: 19.4s\tremaining: 4.72s\n",
      "804:\tlearn: 0.4573377\ttotal: 19.4s\tremaining: 4.69s\n",
      "805:\tlearn: 0.4573195\ttotal: 19.4s\tremaining: 4.67s\n",
      "806:\tlearn: 0.4573076\ttotal: 19.4s\tremaining: 4.64s\n",
      "807:\tlearn: 0.4572822\ttotal: 19.4s\tremaining: 4.62s\n",
      "808:\tlearn: 0.4572714\ttotal: 19.5s\tremaining: 4.6s\n",
      "809:\tlearn: 0.4572412\ttotal: 19.5s\tremaining: 4.57s\n",
      "810:\tlearn: 0.4572213\ttotal: 19.5s\tremaining: 4.55s\n",
      "811:\tlearn: 0.4572136\ttotal: 19.5s\tremaining: 4.52s\n",
      "812:\tlearn: 0.4571862\ttotal: 19.6s\tremaining: 4.5s\n",
      "813:\tlearn: 0.4571635\ttotal: 19.6s\tremaining: 4.47s\n",
      "814:\tlearn: 0.4571452\ttotal: 19.6s\tremaining: 4.45s\n",
      "815:\tlearn: 0.4571295\ttotal: 19.6s\tremaining: 4.43s\n",
      "816:\tlearn: 0.4571178\ttotal: 19.7s\tremaining: 4.4s\n",
      "817:\tlearn: 0.4571013\ttotal: 19.7s\tremaining: 4.38s\n",
      "818:\tlearn: 0.4570851\ttotal: 19.7s\tremaining: 4.35s\n",
      "819:\tlearn: 0.4570771\ttotal: 19.7s\tremaining: 4.33s\n",
      "820:\tlearn: 0.4570603\ttotal: 19.7s\tremaining: 4.3s\n",
      "821:\tlearn: 0.4570368\ttotal: 19.8s\tremaining: 4.28s\n",
      "822:\tlearn: 0.4570364\ttotal: 19.8s\tremaining: 4.25s\n",
      "823:\tlearn: 0.4570189\ttotal: 19.8s\tremaining: 4.23s\n",
      "824:\tlearn: 0.4569980\ttotal: 19.8s\tremaining: 4.21s\n",
      "825:\tlearn: 0.4569802\ttotal: 19.9s\tremaining: 4.18s\n",
      "826:\tlearn: 0.4569542\ttotal: 19.9s\tremaining: 4.16s\n",
      "827:\tlearn: 0.4569360\ttotal: 19.9s\tremaining: 4.13s\n",
      "828:\tlearn: 0.4569153\ttotal: 19.9s\tremaining: 4.11s\n",
      "829:\tlearn: 0.4568951\ttotal: 19.9s\tremaining: 4.09s\n",
      "830:\tlearn: 0.4568824\ttotal: 20s\tremaining: 4.06s\n",
      "831:\tlearn: 0.4568659\ttotal: 20s\tremaining: 4.04s\n",
      "832:\tlearn: 0.4568395\ttotal: 20s\tremaining: 4.01s\n",
      "833:\tlearn: 0.4568130\ttotal: 20s\tremaining: 3.99s\n",
      "834:\tlearn: 0.4567972\ttotal: 20.1s\tremaining: 3.96s\n",
      "835:\tlearn: 0.4567794\ttotal: 20.1s\tremaining: 3.94s\n",
      "836:\tlearn: 0.4567642\ttotal: 20.1s\tremaining: 3.92s\n",
      "837:\tlearn: 0.4567562\ttotal: 20.1s\tremaining: 3.89s\n",
      "838:\tlearn: 0.4567364\ttotal: 20.2s\tremaining: 3.87s\n",
      "839:\tlearn: 0.4567156\ttotal: 20.2s\tremaining: 3.84s\n",
      "840:\tlearn: 0.4566981\ttotal: 20.2s\tremaining: 3.82s\n",
      "841:\tlearn: 0.4566868\ttotal: 20.2s\tremaining: 3.79s\n",
      "842:\tlearn: 0.4566664\ttotal: 20.2s\tremaining: 3.77s\n",
      "843:\tlearn: 0.4566496\ttotal: 20.3s\tremaining: 3.75s\n",
      "844:\tlearn: 0.4566306\ttotal: 20.3s\tremaining: 3.72s\n",
      "845:\tlearn: 0.4566150\ttotal: 20.3s\tremaining: 3.7s\n",
      "846:\tlearn: 0.4565976\ttotal: 20.3s\tremaining: 3.67s\n",
      "847:\tlearn: 0.4565772\ttotal: 20.4s\tremaining: 3.65s\n",
      "848:\tlearn: 0.4565593\ttotal: 20.4s\tremaining: 3.63s\n",
      "849:\tlearn: 0.4565394\ttotal: 20.4s\tremaining: 3.6s\n",
      "850:\tlearn: 0.4565181\ttotal: 20.4s\tremaining: 3.58s\n",
      "851:\tlearn: 0.4565031\ttotal: 20.5s\tremaining: 3.56s\n",
      "852:\tlearn: 0.4564851\ttotal: 20.5s\tremaining: 3.53s\n",
      "853:\tlearn: 0.4564641\ttotal: 20.5s\tremaining: 3.51s\n",
      "854:\tlearn: 0.4564482\ttotal: 20.5s\tremaining: 3.48s\n",
      "855:\tlearn: 0.4564319\ttotal: 20.6s\tremaining: 3.46s\n",
      "856:\tlearn: 0.4564187\ttotal: 20.6s\tremaining: 3.44s\n",
      "857:\tlearn: 0.4564000\ttotal: 20.6s\tremaining: 3.41s\n",
      "858:\tlearn: 0.4563870\ttotal: 20.6s\tremaining: 3.39s\n",
      "859:\tlearn: 0.4563727\ttotal: 20.7s\tremaining: 3.36s\n",
      "860:\tlearn: 0.4563622\ttotal: 20.7s\tremaining: 3.34s\n",
      "861:\tlearn: 0.4563425\ttotal: 20.7s\tremaining: 3.31s\n",
      "862:\tlearn: 0.4563246\ttotal: 20.7s\tremaining: 3.29s\n",
      "863:\tlearn: 0.4562975\ttotal: 20.7s\tremaining: 3.27s\n",
      "864:\tlearn: 0.4562817\ttotal: 20.8s\tremaining: 3.24s\n",
      "865:\tlearn: 0.4562610\ttotal: 20.8s\tremaining: 3.22s\n",
      "866:\tlearn: 0.4562399\ttotal: 20.8s\tremaining: 3.19s\n",
      "867:\tlearn: 0.4562167\ttotal: 20.8s\tremaining: 3.17s\n",
      "868:\tlearn: 0.4562029\ttotal: 20.9s\tremaining: 3.15s\n",
      "869:\tlearn: 0.4561811\ttotal: 20.9s\tremaining: 3.12s\n",
      "870:\tlearn: 0.4561683\ttotal: 20.9s\tremaining: 3.1s\n",
      "871:\tlearn: 0.4561510\ttotal: 20.9s\tremaining: 3.07s\n",
      "872:\tlearn: 0.4561413\ttotal: 20.9s\tremaining: 3.05s\n",
      "873:\tlearn: 0.4561190\ttotal: 21s\tremaining: 3.02s\n",
      "874:\tlearn: 0.4560982\ttotal: 21s\tremaining: 3s\n",
      "875:\tlearn: 0.4560580\ttotal: 21s\tremaining: 2.98s\n",
      "876:\tlearn: 0.4560453\ttotal: 21s\tremaining: 2.95s\n",
      "877:\tlearn: 0.4560332\ttotal: 21.1s\tremaining: 2.93s\n",
      "878:\tlearn: 0.4560155\ttotal: 21.1s\tremaining: 2.9s\n",
      "879:\tlearn: 0.4559969\ttotal: 21.1s\tremaining: 2.88s\n",
      "880:\tlearn: 0.4559668\ttotal: 21.1s\tremaining: 2.85s\n",
      "881:\tlearn: 0.4559490\ttotal: 21.2s\tremaining: 2.83s\n",
      "882:\tlearn: 0.4559280\ttotal: 21.2s\tremaining: 2.81s\n",
      "883:\tlearn: 0.4559081\ttotal: 21.2s\tremaining: 2.78s\n",
      "884:\tlearn: 0.4558973\ttotal: 21.2s\tremaining: 2.76s\n",
      "885:\tlearn: 0.4558706\ttotal: 21.3s\tremaining: 2.73s\n",
      "886:\tlearn: 0.4558539\ttotal: 21.3s\tremaining: 2.71s\n",
      "887:\tlearn: 0.4558312\ttotal: 21.3s\tremaining: 2.69s\n",
      "888:\tlearn: 0.4558055\ttotal: 21.3s\tremaining: 2.66s\n",
      "889:\tlearn: 0.4557857\ttotal: 21.3s\tremaining: 2.64s\n",
      "890:\tlearn: 0.4557686\ttotal: 21.4s\tremaining: 2.61s\n",
      "891:\tlearn: 0.4557392\ttotal: 21.4s\tremaining: 2.59s\n",
      "892:\tlearn: 0.4557197\ttotal: 21.4s\tremaining: 2.57s\n",
      "893:\tlearn: 0.4557035\ttotal: 21.4s\tremaining: 2.54s\n",
      "894:\tlearn: 0.4556835\ttotal: 21.5s\tremaining: 2.52s\n",
      "895:\tlearn: 0.4556707\ttotal: 21.5s\tremaining: 2.49s\n",
      "896:\tlearn: 0.4556560\ttotal: 21.5s\tremaining: 2.47s\n",
      "897:\tlearn: 0.4556452\ttotal: 21.5s\tremaining: 2.45s\n",
      "898:\tlearn: 0.4556277\ttotal: 21.6s\tremaining: 2.42s\n",
      "899:\tlearn: 0.4556122\ttotal: 21.6s\tremaining: 2.4s\n",
      "900:\tlearn: 0.4555786\ttotal: 21.6s\tremaining: 2.37s\n",
      "901:\tlearn: 0.4555640\ttotal: 21.6s\tremaining: 2.35s\n",
      "902:\tlearn: 0.4555446\ttotal: 21.7s\tremaining: 2.33s\n",
      "903:\tlearn: 0.4555261\ttotal: 21.7s\tremaining: 2.3s\n",
      "904:\tlearn: 0.4555105\ttotal: 21.7s\tremaining: 2.28s\n",
      "905:\tlearn: 0.4554856\ttotal: 21.7s\tremaining: 2.25s\n",
      "906:\tlearn: 0.4554663\ttotal: 21.7s\tremaining: 2.23s\n",
      "907:\tlearn: 0.4554458\ttotal: 21.8s\tremaining: 2.21s\n",
      "908:\tlearn: 0.4554283\ttotal: 21.8s\tremaining: 2.18s\n",
      "909:\tlearn: 0.4554108\ttotal: 21.8s\tremaining: 2.16s\n",
      "910:\tlearn: 0.4553899\ttotal: 21.8s\tremaining: 2.13s\n",
      "911:\tlearn: 0.4553896\ttotal: 21.9s\tremaining: 2.11s\n",
      "912:\tlearn: 0.4553777\ttotal: 21.9s\tremaining: 2.08s\n",
      "913:\tlearn: 0.4553589\ttotal: 21.9s\tremaining: 2.06s\n",
      "914:\tlearn: 0.4553303\ttotal: 21.9s\tremaining: 2.04s\n",
      "915:\tlearn: 0.4553188\ttotal: 21.9s\tremaining: 2.01s\n",
      "916:\tlearn: 0.4553021\ttotal: 22s\tremaining: 1.99s\n",
      "917:\tlearn: 0.4552775\ttotal: 22s\tremaining: 1.96s\n",
      "918:\tlearn: 0.4552582\ttotal: 22s\tremaining: 1.94s\n",
      "919:\tlearn: 0.4552456\ttotal: 22s\tremaining: 1.92s\n",
      "920:\tlearn: 0.4552353\ttotal: 22.1s\tremaining: 1.89s\n",
      "921:\tlearn: 0.4552037\ttotal: 22.1s\tremaining: 1.87s\n",
      "922:\tlearn: 0.4551853\ttotal: 22.1s\tremaining: 1.84s\n",
      "923:\tlearn: 0.4551758\ttotal: 22.1s\tremaining: 1.82s\n",
      "924:\tlearn: 0.4551646\ttotal: 22.2s\tremaining: 1.8s\n",
      "925:\tlearn: 0.4551315\ttotal: 22.2s\tremaining: 1.77s\n",
      "926:\tlearn: 0.4551300\ttotal: 22.2s\tremaining: 1.75s\n",
      "927:\tlearn: 0.4551201\ttotal: 22.2s\tremaining: 1.72s\n",
      "928:\tlearn: 0.4551077\ttotal: 22.2s\tremaining: 1.7s\n",
      "929:\tlearn: 0.4550858\ttotal: 22.3s\tremaining: 1.68s\n",
      "930:\tlearn: 0.4550616\ttotal: 22.3s\tremaining: 1.65s\n",
      "931:\tlearn: 0.4550351\ttotal: 22.3s\tremaining: 1.63s\n",
      "932:\tlearn: 0.4550163\ttotal: 22.3s\tremaining: 1.6s\n",
      "933:\tlearn: 0.4550073\ttotal: 22.4s\tremaining: 1.58s\n",
      "934:\tlearn: 0.4549719\ttotal: 22.4s\tremaining: 1.55s\n",
      "935:\tlearn: 0.4549516\ttotal: 22.4s\tremaining: 1.53s\n",
      "936:\tlearn: 0.4549308\ttotal: 22.4s\tremaining: 1.51s\n",
      "937:\tlearn: 0.4549130\ttotal: 22.4s\tremaining: 1.48s\n",
      "938:\tlearn: 0.4548999\ttotal: 22.5s\tremaining: 1.46s\n",
      "939:\tlearn: 0.4548913\ttotal: 22.5s\tremaining: 1.44s\n",
      "940:\tlearn: 0.4548726\ttotal: 22.5s\tremaining: 1.41s\n",
      "941:\tlearn: 0.4548671\ttotal: 22.5s\tremaining: 1.39s\n",
      "942:\tlearn: 0.4548387\ttotal: 22.6s\tremaining: 1.36s\n",
      "943:\tlearn: 0.4548268\ttotal: 22.6s\tremaining: 1.34s\n",
      "944:\tlearn: 0.4547866\ttotal: 22.6s\tremaining: 1.31s\n",
      "945:\tlearn: 0.4547752\ttotal: 22.6s\tremaining: 1.29s\n",
      "946:\tlearn: 0.4547542\ttotal: 22.7s\tremaining: 1.27s\n",
      "947:\tlearn: 0.4547439\ttotal: 22.7s\tremaining: 1.24s\n",
      "948:\tlearn: 0.4547325\ttotal: 22.7s\tremaining: 1.22s\n",
      "949:\tlearn: 0.4547208\ttotal: 22.7s\tremaining: 1.2s\n",
      "950:\tlearn: 0.4547003\ttotal: 22.7s\tremaining: 1.17s\n",
      "951:\tlearn: 0.4546867\ttotal: 22.8s\tremaining: 1.15s\n",
      "952:\tlearn: 0.4546711\ttotal: 22.8s\tremaining: 1.12s\n",
      "953:\tlearn: 0.4546565\ttotal: 22.8s\tremaining: 1.1s\n",
      "954:\tlearn: 0.4546364\ttotal: 22.8s\tremaining: 1.07s\n",
      "955:\tlearn: 0.4546195\ttotal: 22.9s\tremaining: 1.05s\n",
      "956:\tlearn: 0.4546043\ttotal: 22.9s\tremaining: 1.03s\n",
      "957:\tlearn: 0.4545783\ttotal: 22.9s\tremaining: 1s\n",
      "958:\tlearn: 0.4545592\ttotal: 22.9s\tremaining: 980ms\n",
      "959:\tlearn: 0.4545341\ttotal: 22.9s\tremaining: 956ms\n",
      "960:\tlearn: 0.4545170\ttotal: 23s\tremaining: 932ms\n",
      "961:\tlearn: 0.4544988\ttotal: 23s\tremaining: 908ms\n",
      "962:\tlearn: 0.4544688\ttotal: 23s\tremaining: 884ms\n",
      "963:\tlearn: 0.4544563\ttotal: 23s\tremaining: 860ms\n",
      "964:\tlearn: 0.4544383\ttotal: 23.1s\tremaining: 836ms\n",
      "965:\tlearn: 0.4544221\ttotal: 23.1s\tremaining: 813ms\n",
      "966:\tlearn: 0.4544077\ttotal: 23.1s\tremaining: 789ms\n",
      "967:\tlearn: 0.4543857\ttotal: 23.1s\tremaining: 765ms\n",
      "968:\tlearn: 0.4543678\ttotal: 23.2s\tremaining: 741ms\n",
      "969:\tlearn: 0.4543516\ttotal: 23.2s\tremaining: 717ms\n",
      "970:\tlearn: 0.4543406\ttotal: 23.2s\tremaining: 693ms\n",
      "971:\tlearn: 0.4543111\ttotal: 23.2s\tremaining: 669ms\n",
      "972:\tlearn: 0.4542974\ttotal: 23.2s\tremaining: 645ms\n",
      "973:\tlearn: 0.4542779\ttotal: 23.3s\tremaining: 621ms\n",
      "974:\tlearn: 0.4542674\ttotal: 23.3s\tremaining: 597ms\n",
      "975:\tlearn: 0.4542575\ttotal: 23.3s\tremaining: 573ms\n",
      "976:\tlearn: 0.4542426\ttotal: 23.3s\tremaining: 549ms\n",
      "977:\tlearn: 0.4542294\ttotal: 23.4s\tremaining: 526ms\n",
      "978:\tlearn: 0.4542146\ttotal: 23.4s\tremaining: 502ms\n",
      "979:\tlearn: 0.4541863\ttotal: 23.4s\tremaining: 478ms\n",
      "980:\tlearn: 0.4541696\ttotal: 23.4s\tremaining: 454ms\n",
      "981:\tlearn: 0.4541501\ttotal: 23.5s\tremaining: 430ms\n",
      "982:\tlearn: 0.4541334\ttotal: 23.5s\tremaining: 406ms\n",
      "983:\tlearn: 0.4541171\ttotal: 23.5s\tremaining: 382ms\n",
      "984:\tlearn: 0.4540999\ttotal: 23.5s\tremaining: 358ms\n",
      "985:\tlearn: 0.4540737\ttotal: 23.5s\tremaining: 334ms\n",
      "986:\tlearn: 0.4540537\ttotal: 23.6s\tremaining: 310ms\n",
      "987:\tlearn: 0.4540358\ttotal: 23.6s\tremaining: 287ms\n",
      "988:\tlearn: 0.4539991\ttotal: 23.6s\tremaining: 263ms\n",
      "989:\tlearn: 0.4539805\ttotal: 23.6s\tremaining: 239ms\n",
      "990:\tlearn: 0.4539649\ttotal: 23.7s\tremaining: 215ms\n",
      "991:\tlearn: 0.4539472\ttotal: 23.7s\tremaining: 191ms\n",
      "992:\tlearn: 0.4539314\ttotal: 23.7s\tremaining: 167ms\n",
      "993:\tlearn: 0.4539172\ttotal: 23.7s\tremaining: 143ms\n",
      "994:\tlearn: 0.4539031\ttotal: 23.7s\tremaining: 119ms\n",
      "995:\tlearn: 0.4538919\ttotal: 23.8s\tremaining: 95.5ms\n",
      "996:\tlearn: 0.4538690\ttotal: 23.8s\tremaining: 71.6ms\n",
      "997:\tlearn: 0.4538524\ttotal: 23.8s\tremaining: 47.7ms\n",
      "998:\tlearn: 0.4538285\ttotal: 23.8s\tremaining: 23.9ms\n",
      "999:\tlearn: 0.4538154\ttotal: 23.9s\tremaining: 0us\n",
      "model_name: CatBoostClassifier\n",
      "Confusion Matrix\n",
      "[[13973  3262]\n",
      " [ 3145  9620]]\n",
      "Model AUC: 0.858, Model Accuracy: 0.786\n",
      "\n"
     ]
    },
    {
     "data": {
      "image/png": "[encoded data removed]",
      "text/plain": [
       "<Figure size 720x432 with 1 Axes>"
      ]
     },
     "metadata": {
      "needs_background": "light"
     },
     "output_type": "display_data"
    },
    {
     "name": "stdout",
     "output_type": "stream",
     "text": [
      "CPU times: user 1min 13s, sys: 8.63 s, total: 1min 22s\n",
      "Wall time: 24.8 s\n"
     ]
    }
   ],
   "source": [
    "%%time\n",
    "\n",
    "from catboost import CatBoostClassifier\n",
    "\n",
    "cb_params = {\n",
    "    'max_depth': 8,\n",
    "    'learning_rate': 0.01,\n",
    "    'n_estimators': 1000,\n",
    "    'max_bin': 280,\n",
    "    'min_data_in_leaf': 64,\n",
    "    'l2_leaf_reg': 0.01,\n",
    "    'subsample': 0.8\n",
    "}\n",
    "\n",
    "cb_model=sk_helper(model=CatBoostClassifier, seed=SEED, params=cb_params)\n",
    "cb_model.roc_curve_graph(X_train, y_train, X_valid, y_valid)"
   ]
  },
  {
   "cell_type": "code",
   "execution_count": 59,
   "metadata": {
    "execution": {
     "iopub.execute_input": "2021-04-26T06:02:15.402239Z",
     "iopub.status.busy": "2021-04-26T06:02:15.401149Z",
     "iopub.status.idle": "2021-04-26T06:02:15.780766Z",
     "shell.execute_reply": "2021-04-26T06:02:15.780220Z"
    },
    "papermill": {
     "duration": 0.542986,
     "end_time": "2021-04-26T06:02:15.780915",
     "exception": false,
     "start_time": "2021-04-26T06:02:15.237929",
     "status": "completed"
    },
    "tags": []
   },
   "outputs": [],
   "source": [
    "import numpy as np\n",
    "from datetime import datetime\n",
    "\n",
    "version = datetime.now().strftime(\"%d-%m-%Y %H-%M-%S\")\n",
    "\n",
    "def final_submission(model, data, version):\n",
    "    final_preds = model.predict(data)\n",
    "    binarizer = np.vectorize(lambda x: 1 if x >= .5 else 0)\n",
    "    prediction_binarized = binarizer(final_preds)\n",
    "    submission = pd.concat([sample_submission,pd.DataFrame(prediction_binarized)], axis=1).drop(columns=['Survived'])\n",
    "    submission.columns = ['PassengerId', 'Survived']\n",
    "    submission.to_csv('Sklearn of Submission.csv'.format(version), index=False)\n",
    "    \n",
    "final_submission(cb_model, test_data, version)"
   ]
  },
  {
   "cell_type": "code",
   "execution_count": null,
   "metadata": {
    "papermill": {
     "duration": 0.15544,
     "end_time": "2021-04-26T06:02:16.092175",
     "exception": false,
     "start_time": "2021-04-26T06:02:15.936735",
     "status": "completed"
    },
    "tags": []
   },
   "outputs": [],
   "source": []
  }
 ],
 "metadata": {
  "kernelspec": {
   "display_name": "Python 3",
   "language": "python",
   "name": "python3"
  },
  "language_info": {
   "codemirror_mode": {
    "name": "ipython",
    "version": 3
   },
   "file_extension": ".py",
   "mimetype": "text/x-python",
   "name": "python",
   "nbconvert_exporter": "python",
   "pygments_lexer": "ipython3",
   "version": "3.8.5"
  },
  "papermill": {
   "default_parameters": {},
   "duration": 155.115521,
   "end_time": "2021-04-26T06:02:18.852408",
   "environment_variables": {},
   "exception": null,
   "input_path": "__notebook__.ipynb",
   "output_path": "__notebook__.ipynb",
   "parameters": {},
   "start_time": "2021-04-26T05:59:43.736887",
   "version": "2.3.3"
  }
 },
 "nbformat": 4,
 "nbformat_minor": 5
}
